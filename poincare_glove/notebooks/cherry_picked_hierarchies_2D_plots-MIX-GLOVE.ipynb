{
 "cells": [
  {
   "cell_type": "code",
   "execution_count": 1,
   "metadata": {},
   "outputs": [
    {
     "data": {
      "text/html": [
       "<script>requirejs.config({paths: { 'plotly': ['https://cdn.plot.ly/plotly-latest.min']},});if(!window.Plotly) {{require(['plotly'],function(plotly) {window.Plotly=plotly;});}}</script>"
      ],
      "text/vnd.plotly.v1+html": [
       "<script>requirejs.config({paths: { 'plotly': ['https://cdn.plot.ly/plotly-latest.min']},});if(!window.Plotly) {{require(['plotly'],function(plotly) {window.Plotly=plotly;});}}</script>"
      ]
     },
     "metadata": {},
     "output_type": "display_data"
    }
   ],
   "source": [
    "import colorsys\n",
    "import gensim\n",
    "from glove_code.src.glove import Glove\n",
    "from gensim.models.callbacks import LossLogger, LossSetter\n",
    "from gensim.models.keyedvectors import PoincareWordEmbeddingsKeyedVectors\n",
    "from IPython.display import HTML\n",
    "import itertools\n",
    "import logging\n",
    "import matplotlib.pyplot as plt\n",
    "from matplotlib import animation, rc, cm\n",
    "from matplotlib.collections import LineCollection\n",
    "import numpy as np\n",
    "from numpy.linalg import norm\n",
    "from numpy import dot\n",
    "from scipy.spatial.distance import pdist, squareform\n",
    "from sklearn.manifold import TSNE\n",
    "import os\n",
    "from plotly import tools\n",
    "import plotly.plotly as py\n",
    "import plotly.graph_objs as go\n",
    "from plotly.offline import download_plotlyjs, init_notebook_mode, plot, iplot\n",
    "import sys\n",
    "\n",
    "init_notebook_mode(connected=True)\n",
    "logging.basicConfig(level=logging.WARN)\n",
    "\n",
    "ROOT = \"/Users/alext/Documents/Master/Thesis/\"\n",
    "PLOTS_PER_ROW = 3"
   ]
  },
  {
   "cell_type": "code",
   "execution_count": 20,
   "metadata": {},
   "outputs": [
    {
     "data": {
      "text/plain": [
       "6"
      ]
     },
     "execution_count": 20,
     "metadata": {},
     "output_type": "execute_result"
    }
   ],
   "source": [
    "# Get vocabulary of the Google word analogy benchmark + labels for each section\n",
    "def read_word_dict():\n",
    "    result_dict = {\n",
    "        \"president\": [\"obama\", \"eisenhower\", \"roosevelt\", \"clinton\", \"jefferson\", \"kennedy\", \"lincoln\", \"nixon\", \"reagan\"],\n",
    "        \"mathematics\": [\"geometry\", \"inequality\", \"arithmetic\", \"calculus\", \"algebra\", \"equation\", \"theorem\"],\n",
    "        \"number\": [\"one\", \"two\", \"three\", \"four\", \"five\", \"six\", \"seven\", \"eight\", \"nine\", \"ten\"],\n",
    "        \"chemistry\": [\"chemical\", \"oxygen\", \"carbon\", \"dioxide\", \"nitrogen\", \"chlorium\", \"zinc\", \"organic\"],\n",
    "        \"sport\": [\"maradona\", \"ronaldo\", \"messi\", \"lochte\", \"phelps\", \"spitz\", \"comneci\", \"mayweather\", \"pacquiao\"],\n",
    "        \"country\": [\"romania\", \"france\", \"germany\", \"england\", \"russia\", \"india\", \"china\", \"spain\"],\n",
    "    }\n",
    "    return result_dict\n",
    "\n",
    "def compute_poincare_aggregate(model):\n",
    "    \"\"\"\n",
    "    Precompute the average between the target and the context vector, for Poincare embeddings.\n",
    "    We take as average the mid point between w and c on the geodesic that connects the 2 points\n",
    "    (see page 89 in Ungar book).\n",
    "    \"\"\"\n",
    "    if model.poincare and getattr(model.wv, 'agg_vectors', None) is None:\n",
    "        print(\"precomputing aggregated vectors w+c for Poincare embeddings\")\n",
    "        gamma_w_sq = 1 / (1 - np.sum(model.wv.vectors * model.wv.vectors, axis=1))\n",
    "        gamma_c_sq = 1 / (1 - np.sum(model.trainables.syn1neg * model.trainables.syn1neg, axis=1))\n",
    "        denominator = gamma_w_sq + gamma_c_sq - 1\n",
    "        agg = (model.wv.vectors * (gamma_w_sq / denominator)[:, None] +\n",
    "               model.trainables.syn1neg * (gamma_c_sq / denominator)[:, None])\n",
    "\n",
    "        return model.wv.moebius_mul_mat(agg, 0.5)\n",
    "\n",
    "def HSVToRGB(h, s, v):\n",
    "    (r, g, b) = colorsys.hsv_to_rgb(h, s, v)\n",
    "    return (int(255*r), int(255*g), int(255*b))\n",
    "\n",
    "def get_colors(word_dict):\n",
    "    labels = word_dict.keys()\n",
    "    huePartition = 1.0 / (len(labels) + 1)\n",
    "    return dict(zip(labels, [HSVToRGB(huePartition * value, 1.0, 1.0) for value in range(0, len(labels))]))\n",
    "\n",
    "def plot_wordnet_embeddings(model, word_dict, left_offset=None, right_offset=None, ratio_words=1, aggregate=\"w\"):\n",
    "    colors = get_colors(labeled_word_dict)\n",
    "    if aggregate == \"w+c\":\n",
    "        vectors = compute_poincare_aggregate(model)\n",
    "    elif aggregate == \"w\":\n",
    "        vectors = model.wv.vectors    \n",
    "    elif aggregate == \"c\":\n",
    "        vectors = model.trainables.syn1neg   \n",
    "    else:\n",
    "        return None   \n",
    "    wv = model.wv\n",
    "    \n",
    "    embeddings = np.array([vectors[i] for i in range(len(wv.index2entity))])\n",
    "    traces = []\n",
    "    \n",
    "    \n",
    "    rows = int(np.ceil(model.num_embs / PLOTS_PER_ROW))\n",
    "    fig = tools.make_subplots(rows=rows, cols=PLOTS_PER_ROW)\n",
    "    for label, words in word_dict.items():\n",
    "        idxs = [wv.vocab[w].index for w in filter(lambda w: w in wv.vocab, words+[label])]\n",
    "        idxs = idxs[:int(len(idxs) * ratio_words)]\n",
    "        \n",
    "        label_idx = wv.vocab[label].index\n",
    "        \n",
    "        # Change the origin of the system.\n",
    "        embs = embeddings[idxs, :]\n",
    "#         if left_offset is not None:\n",
    "#             offset_mat = np.tile(left_offset.reshape(1, -1), (embs.shape[0], 1))\n",
    "#             embs = PoincareWordEmbeddingsKeyedVectors.moebius_add_mat(offset_mat, embs)\n",
    "#         if right_offset is not None:\n",
    "#             offset_mat = np.tile(right_offset.reshape(1, -1), (embs.shape[0], 1))\n",
    "#             embs = PoincareWordEmbeddingsKeyedVectors.moebius_add_mat(embs, offset_mat)\n",
    "\n",
    "        small_emb_size = int(model.vector_size / model.num_embs)\n",
    "        for i in range(model.num_embs):\n",
    "            row = int(i / PLOTS_PER_ROW) + 1\n",
    "            col = i % PLOTS_PER_ROW + 1\n",
    "            trace = go.Scatter(\n",
    "                x=embs[:, small_emb_size * i],\n",
    "                y=embs[:, small_emb_size * i + 1],\n",
    "                text=[wv.index2word[idx] for idx in idxs],\n",
    "                textposition='top right',\n",
    "                name=label,\n",
    "                mode=\"markers+text\",\n",
    "                marker=dict(color=\"rgb\"+str(colors[label])))\n",
    "            fig.append_trace(trace, row, col)\n",
    "            \n",
    "    layout = {\n",
    "        'width': PLOTS_PER_ROW * 300,\n",
    "        'height': rows * 300\n",
    "    }\n",
    "    \n",
    "    for i, trace in enumerate(fig['data']):\n",
    "#         if i > 0: \n",
    "#             trace['showlegend'] = False\n",
    "        layout['xaxis'+str(i+1)] = {\n",
    "                'range': [-1, 1],\n",
    "            }\n",
    "        layout['yaxis'+str(i+1)] = {\n",
    "                'range': [-1, 1],\n",
    "            }\n",
    "        \n",
    "    fig[\"layout\"].update(layout)\n",
    "    \n",
    "    return iplot(fig)\n",
    "\n",
    "labeled_word_dict = read_word_dict()\n",
    "len(labeled_word_dict)"
   ]
  },
  {
   "cell_type": "markdown",
   "metadata": {},
   "source": [
    "# GloVe - MIX-Poincare embeddings"
   ]
  },
  {
   "cell_type": "code",
   "execution_count": 4,
   "metadata": {},
   "outputs": [],
   "source": [
    "# vocab=180k\n",
    "hyp_model_fn_180k = {\n",
    "    \"20D_distsq\": os.path.join(ROOT, \"models/glove/geometric_emb/glove_ep15_size20_lr0.05_vocab200000_mix-poincare_OPTmixradagrad_COOCCFUNClog_DISTFUNCdist-sq_NUMEMBS10_bias\")\n",
    "}"
   ]
  },
  {
   "cell_type": "code",
   "execution_count": 21,
   "metadata": {
    "scrolled": false
   },
   "outputs": [
    {
     "name": "stdout",
     "output_type": "stream",
     "text": [
      "This is the format of your plot grid:\n",
      "[ (1,1) x1,y1 ]    [ (1,2) x2,y2 ]    [ (1,3) x3,y3 ]  \n",
      "[ (2,1) x4,y4 ]    [ (2,2) x5,y5 ]    [ (2,3) x6,y6 ]  \n",
      "[ (3,1) x7,y7 ]    [ (3,2) x8,y8 ]    [ (3,3) x9,y9 ]  \n",
      "[ (4,1) x10,y10 ]  [ (4,2) x11,y11 ]  [ (4,3) x12,y12 ]\n",
      "\n"
     ]
    },
    {
     "data": {
      "application/vnd.plotly.v1+json": {
       "data": [
        {
         "marker": {
          "color": "rgb(255, 0, 0)"
         },
         "mode": "markers+text",
         "name": "president",
         "text": [
          "obama",
          "eisenhower",
          "roosevelt",
          "clinton",
          "jefferson",
          "kennedy",
          "lincoln",
          "nixon",
          "reagan",
          "president"
         ],
         "textposition": "top right",
         "type": "scatter",
         "x": [
          -0.09040234237909317,
          -0.1590374857187271,
          -0.21100746095180511,
          -0.20325210690498352,
          -0.22939248383045197,
          -0.228737935423851,
          -0.23838907480239868,
          -0.13282673060894012,
          -0.16818073391914368,
          -0.3513013422489166
         ],
         "xaxis": "x1",
         "y": [
          -0.14884252846240997,
          -0.13410064578056335,
          -0.16317884624004364,
          -0.24875958263874054,
          -0.24248945713043213,
          -0.06692231446504593,
          -0.22840429842472076,
          -0.01795952022075653,
          -0.09312567859888077,
          -0.03634992614388466
         ],
         "yaxis": "y1"
        },
        {
         "marker": {
          "color": "rgb(255, 0, 0)"
         },
         "mode": "markers+text",
         "name": "president",
         "text": [
          "obama",
          "eisenhower",
          "roosevelt",
          "clinton",
          "jefferson",
          "kennedy",
          "lincoln",
          "nixon",
          "reagan",
          "president"
         ],
         "textposition": "top right",
         "type": "scatter",
         "x": [
          -0.24749751389026642,
          -0.022709887474775314,
          0.02926839143037796,
          -0.07819052040576935,
          0.160007506608963,
          -0.02101561240851879,
          0.10713144391775131,
          -0.1369057446718216,
          -0.10993094742298126,
          -0.067942313849926
         ],
         "xaxis": "x2",
         "y": [
          -0.08529184758663177,
          -0.07512971013784409,
          0.05513985455036163,
          -0.0175563283264637,
          0.09120647609233856,
          0.025258593261241913,
          0.05700928717851639,
          -0.06263979524374008,
          -0.027306780219078064,
          -0.07233592122793198
         ],
         "yaxis": "y2"
        },
        {
         "marker": {
          "color": "rgb(255, 0, 0)"
         },
         "mode": "markers+text",
         "name": "president",
         "text": [
          "obama",
          "eisenhower",
          "roosevelt",
          "clinton",
          "jefferson",
          "kennedy",
          "lincoln",
          "nixon",
          "reagan",
          "president"
         ],
         "textposition": "top right",
         "type": "scatter",
         "x": [
          -0.056636884808540344,
          -0.06381938606500626,
          -0.08504580706357956,
          -0.04035216197371483,
          0.01779279299080372,
          0.025283001363277435,
          -0.034902721643447876,
          -0.15261013805866241,
          -0.15035057067871094,
          -0.014011098071932793
         ],
         "xaxis": "x3",
         "y": [
          0.32784563302993774,
          0.2771610915660858,
          0.17805330455303192,
          0.2848571538925171,
          0.16486071050167084,
          0.26547929644584656,
          0.22877828776836395,
          0.2871972918510437,
          0.25181490182876587,
          0.34555789828300476
         ],
         "yaxis": "y3"
        },
        {
         "marker": {
          "color": "rgb(255, 0, 0)"
         },
         "mode": "markers+text",
         "name": "president",
         "text": [
          "obama",
          "eisenhower",
          "roosevelt",
          "clinton",
          "jefferson",
          "kennedy",
          "lincoln",
          "nixon",
          "reagan",
          "president"
         ],
         "textposition": "top right",
         "type": "scatter",
         "x": [
          -0.12025274336338043,
          0.008560135029256344,
          0.06649886816740036,
          -0.09374039620161057,
          -0.006613485515117645,
          -0.08457852900028229,
          0.005376595072448254,
          -0.066819928586483,
          -0.07101427018642426,
          -0.08573540300130844
         ],
         "xaxis": "x4",
         "y": [
          -0.22484581172466278,
          -0.3369557857513428,
          -0.386719286441803,
          -0.3394297659397125,
          -0.34607210755348206,
          -0.338111013174057,
          -0.29416826367378235,
          -0.2927115559577942,
          -0.2835823595523834,
          -0.23180991411209106
         ],
         "yaxis": "y4"
        },
        {
         "marker": {
          "color": "rgb(255, 0, 0)"
         },
         "mode": "markers+text",
         "name": "president",
         "text": [
          "obama",
          "eisenhower",
          "roosevelt",
          "clinton",
          "jefferson",
          "kennedy",
          "lincoln",
          "nixon",
          "reagan",
          "president"
         ],
         "textposition": "top right",
         "type": "scatter",
         "x": [
          -0.13541866838932037,
          -0.2105633169412613,
          -0.19492201507091522,
          -0.1816987842321396,
          -0.1850224882364273,
          -0.1945801079273224,
          -0.12706558406352997,
          -0.1490812748670578,
          -0.11963345855474472,
          -0.30323395133018494
         ],
         "xaxis": "x5",
         "y": [
          -0.023734359070658684,
          -0.03576326370239258,
          0.033605415374040604,
          0.03814609721302986,
          0.12757627665996552,
          -0.049841661006212234,
          0.0926220715045929,
          -0.09805035591125488,
          -0.08469459414482117,
          -0.09974925220012665
         ],
         "yaxis": "y5"
        },
        {
         "marker": {
          "color": "rgb(255, 0, 0)"
         },
         "mode": "markers+text",
         "name": "president",
         "text": [
          "obama",
          "eisenhower",
          "roosevelt",
          "clinton",
          "jefferson",
          "kennedy",
          "lincoln",
          "nixon",
          "reagan",
          "president"
         ],
         "textposition": "top right",
         "type": "scatter",
         "x": [
          0.15445971488952637,
          -0.03595186397433281,
          0.0031797040719538927,
          0.09493334591388702,
          0.03735838085412979,
          -0.07755069434642792,
          -0.09001264721155167,
          -0.0015781368128955364,
          0.017504911869764328,
          -0.14333637058734894
         ],
         "xaxis": "x6",
         "y": [
          -0.14764927327632904,
          0.12449538707733154,
          -0.050098590552806854,
          -0.022925900295376778,
          -0.026084396988153458,
          0.052469488233327866,
          0.026750028133392334,
          -0.05413985252380371,
          -0.0018163446802645922,
          0.03086949698626995
         ],
         "yaxis": "y6"
        },
        {
         "marker": {
          "color": "rgb(255, 0, 0)"
         },
         "mode": "markers+text",
         "name": "president",
         "text": [
          "obama",
          "eisenhower",
          "roosevelt",
          "clinton",
          "jefferson",
          "kennedy",
          "lincoln",
          "nixon",
          "reagan",
          "president"
         ],
         "textposition": "top right",
         "type": "scatter",
         "x": [
          -0.17406941950321198,
          -0.0957794338464737,
          -0.023692380636930466,
          0.050099436193704605,
          0.16900762915611267,
          0.06579163670539856,
          0.10996866226196289,
          -0.06350435316562653,
          -0.10000033676624298,
          -0.30887776613235474
         ],
         "xaxis": "x7",
         "y": [
          -0.12188062816858292,
          0.03358570486307144,
          0.06854177266359329,
          0.03737914562225342,
          0.018579775467514992,
          -0.08131814748048782,
          -0.022539544850587845,
          -0.04173359274864197,
          0.01766365021467209,
          0.05186782777309418
         ],
         "yaxis": "y7"
        },
        {
         "marker": {
          "color": "rgb(255, 0, 0)"
         },
         "mode": "markers+text",
         "name": "president",
         "text": [
          "obama",
          "eisenhower",
          "roosevelt",
          "clinton",
          "jefferson",
          "kennedy",
          "lincoln",
          "nixon",
          "reagan",
          "president"
         ],
         "textposition": "top right",
         "type": "scatter",
         "x": [
          0.35985928773880005,
          0.2381538599729538,
          0.2594483196735382,
          0.366218239068985,
          0.2213909775018692,
          0.23169538378715515,
          0.11233224719762802,
          0.33285337686538696,
          0.342819482088089,
          0.4576374292373657
         ],
         "xaxis": "x8",
         "y": [
          -0.10150724649429321,
          -0.1847311109304428,
          -0.21821267902851105,
          -0.18512174487113953,
          -0.18210451304912567,
          -0.23398691415786743,
          -0.2408626675605774,
          -0.18749834597110748,
          -0.19947746396064758,
          -0.23484711349010468
         ],
         "yaxis": "y8"
        },
        {
         "marker": {
          "color": "rgb(255, 0, 0)"
         },
         "mode": "markers+text",
         "name": "president",
         "text": [
          "obama",
          "eisenhower",
          "roosevelt",
          "clinton",
          "jefferson",
          "kennedy",
          "lincoln",
          "nixon",
          "reagan",
          "president"
         ],
         "textposition": "top right",
         "type": "scatter",
         "x": [
          0.24864278733730316,
          0.03384194150567055,
          0.1369665116071701,
          0.24370259046554565,
          0.15654879808425903,
          0.14416345953941345,
          0.16057319939136505,
          0.13423429429531097,
          0.11069721728563309,
          0.24215379357337952
         ],
         "xaxis": "x9",
         "y": [
          -0.06794435530900955,
          -0.06405922770500183,
          -0.10709187388420105,
          -0.07439064979553223,
          0.0014017941430211067,
          -0.14735423028469086,
          -0.004851596429944038,
          -0.08562881499528885,
          -0.04612705856561661,
          0.146592378616333
         ],
         "yaxis": "y9"
        },
        {
         "marker": {
          "color": "rgb(255, 0, 0)"
         },
         "mode": "markers+text",
         "name": "president",
         "text": [
          "obama",
          "eisenhower",
          "roosevelt",
          "clinton",
          "jefferson",
          "kennedy",
          "lincoln",
          "nixon",
          "reagan",
          "president"
         ],
         "textposition": "top right",
         "type": "scatter",
         "x": [
          -0.08511500060558319,
          -0.028335392475128174,
          0.028638260439038277,
          -0.10154584050178528,
          0.009098962880671024,
          0.012759155593812466,
          0.06618695706129074,
          -0.11095402389764786,
          -0.08041302859783173,
          0.00190612708684057
         ],
         "xaxis": "x10",
         "y": [
          0.286624014377594,
          0.09926704317331314,
          0.20097386837005615,
          0.18592828512191772,
          0.21302329003810883,
          0.343464732170105,
          0.2760374844074249,
          0.1936672180891037,
          0.23145455121994019,
          0.4119950234889984
         ],
         "yaxis": "y10"
        },
        {
         "marker": {
          "color": "rgb(255, 218, 0)"
         },
         "mode": "markers+text",
         "name": "mathematics",
         "text": [
          "geometry",
          "inequality",
          "arithmetic",
          "calculus",
          "algebra",
          "equation",
          "theorem",
          "mathematics"
         ],
         "textposition": "top right",
         "type": "scatter",
         "x": [
          0.34863290190696716,
          0.1429044008255005,
          0.3632938265800476,
          0.2544792890548706,
          0.29165616631507874,
          0.4013223648071289,
          0.2630769610404968,
          0.11944179981946945
         ],
         "xaxis": "x1",
         "y": [
          -0.07205136865377426,
          0.028291137889027596,
          -0.031946808099746704,
          0.12227565795183182,
          0.023297790437936783,
          0.09590502828359604,
          0.10916641354560852,
          -0.10909777879714966
         ],
         "yaxis": "y1"
        },
        {
         "marker": {
          "color": "rgb(255, 218, 0)"
         },
         "mode": "markers+text",
         "name": "mathematics",
         "text": [
          "geometry",
          "inequality",
          "arithmetic",
          "calculus",
          "algebra",
          "equation",
          "theorem",
          "mathematics"
         ],
         "textposition": "top right",
         "type": "scatter",
         "x": [
          -0.027759671211242676,
          -0.3055519163608551,
          -0.03710353374481201,
          -0.09261197596788406,
          0.036151718348264694,
          -0.33168643712997437,
          -0.3317221701145172,
          -0.012303635478019714
         ],
         "xaxis": "x2",
         "y": [
          0.17840838432312012,
          0.1525222510099411,
          0.06692277640104294,
          -0.023097068071365356,
          0.010256367735564709,
          -0.04507744312286377,
          -0.07954487949609756,
          0.20663493871688843
         ],
         "yaxis": "y2"
        },
        {
         "marker": {
          "color": "rgb(255, 218, 0)"
         },
         "mode": "markers+text",
         "name": "mathematics",
         "text": [
          "geometry",
          "inequality",
          "arithmetic",
          "calculus",
          "algebra",
          "equation",
          "theorem",
          "mathematics"
         ],
         "textposition": "top right",
         "type": "scatter",
         "x": [
          0.09799302369356155,
          0.18069593608379364,
          0.14480657875537872,
          0.1764049381017685,
          0.14942897856235504,
          0.12232133746147156,
          0.10295487940311432,
          0.1438390016555786
         ],
         "xaxis": "x3",
         "y": [
          0.27469080686569214,
          0.014189165085554123,
          0.24054351449012756,
          0.19631066918373108,
          0.304218590259552,
          0.20390066504478455,
          0.2937501072883606,
          0.20779302716255188
         ],
         "yaxis": "y3"
        },
        {
         "marker": {
          "color": "rgb(255, 218, 0)"
         },
         "mode": "markers+text",
         "name": "mathematics",
         "text": [
          "geometry",
          "inequality",
          "arithmetic",
          "calculus",
          "algebra",
          "equation",
          "theorem",
          "mathematics"
         ],
         "textposition": "top right",
         "type": "scatter",
         "x": [
          0.05615861341357231,
          -0.12317942827939987,
          0.0027632005512714386,
          0.017502330243587494,
          0.13665567338466644,
          0.007664528675377369,
          -0.0355084128677845,
          0.019604118540883064
         ],
         "xaxis": "x4",
         "y": [
          -0.14990223944187164,
          -0.21884006261825562,
          -0.15800829231739044,
          -0.04490087926387787,
          -0.17824095487594604,
          -0.14542749524116516,
          -0.23564867675304413,
          -0.13876844942569733
         ],
         "yaxis": "y4"
        },
        {
         "marker": {
          "color": "rgb(255, 218, 0)"
         },
         "mode": "markers+text",
         "name": "mathematics",
         "text": [
          "geometry",
          "inequality",
          "arithmetic",
          "calculus",
          "algebra",
          "equation",
          "theorem",
          "mathematics"
         ],
         "textposition": "top right",
         "type": "scatter",
         "x": [
          -0.055258844047784805,
          0.05525925010442734,
          -0.053465086966753006,
          -0.19025836884975433,
          -0.07706541568040848,
          -0.21386708319187164,
          -0.045202597975730896,
          -0.15296828746795654
         ],
         "xaxis": "x5",
         "y": [
          0.15868639945983887,
          0.1445574015378952,
          0.0968528538942337,
          0.03587470203638077,
          0.0858176052570343,
          0.20161542296409607,
          0.1567932665348053,
          -0.08057916164398193
         ],
         "yaxis": "y5"
        },
        {
         "marker": {
          "color": "rgb(255, 218, 0)"
         },
         "mode": "markers+text",
         "name": "mathematics",
         "text": [
          "geometry",
          "inequality",
          "arithmetic",
          "calculus",
          "algebra",
          "equation",
          "theorem",
          "mathematics"
         ],
         "textposition": "top right",
         "type": "scatter",
         "x": [
          0.08327380567789078,
          0.17793340981006622,
          0.02699464000761509,
          0.0560232512652874,
          0.08348167687654495,
          0.0013565093977376819,
          0.16341640055179596,
          0.10344197601079941
         ],
         "xaxis": "x6",
         "y": [
          0.29573220014572144,
          0.2871434688568115,
          0.25351423025131226,
          0.3145581781864166,
          0.2669677734375,
          0.29655933380126953,
          0.2099570631980896,
          0.3221367299556732
         ],
         "yaxis": "y6"
        },
        {
         "marker": {
          "color": "rgb(255, 218, 0)"
         },
         "mode": "markers+text",
         "name": "mathematics",
         "text": [
          "geometry",
          "inequality",
          "arithmetic",
          "calculus",
          "algebra",
          "equation",
          "theorem",
          "mathematics"
         ],
         "textposition": "top right",
         "type": "scatter",
         "x": [
          0.26896199584007263,
          0.03206567093729973,
          0.06436163932085037,
          0.09837204962968826,
          0.24422520399093628,
          0.20635251700878143,
          0.2229509800672531,
          0.07327402383089066
         ],
         "xaxis": "x7",
         "y": [
          0.031155573204159737,
          -0.037783995270729065,
          -0.13419894874095917,
          -0.11654037237167358,
          0.07541532069444656,
          0.06543421745300293,
          0.14323009550571442,
          -0.17809517681598663
         ],
         "yaxis": "y7"
        },
        {
         "marker": {
          "color": "rgb(255, 218, 0)"
         },
         "mode": "markers+text",
         "name": "mathematics",
         "text": [
          "geometry",
          "inequality",
          "arithmetic",
          "calculus",
          "algebra",
          "equation",
          "theorem",
          "mathematics"
         ],
         "textposition": "top right",
         "type": "scatter",
         "x": [
          -0.13109195232391357,
          0.3517830967903137,
          -0.21744969487190247,
          -0.20351867377758026,
          -0.0055389804765582085,
          0.17840658128261566,
          0.08617717772722244,
          -0.12433843314647675
         ],
         "xaxis": "x8",
         "y": [
          -0.11890048533678055,
          0.11811994761228561,
          -0.06968863308429718,
          -0.07484523206949234,
          0.06592261791229248,
          -0.023176565766334534,
          0.023593062534928322,
          -0.2549046576023102
         ],
         "yaxis": "y8"
        },
        {
         "marker": {
          "color": "rgb(255, 218, 0)"
         },
         "mode": "markers+text",
         "name": "mathematics",
         "text": [
          "geometry",
          "inequality",
          "arithmetic",
          "calculus",
          "algebra",
          "equation",
          "theorem",
          "mathematics"
         ],
         "textposition": "top right",
         "type": "scatter",
         "x": [
          -0.20615164935588837,
          0.10515207052230835,
          -0.2334073781967163,
          -0.06490250676870346,
          -0.24969488382339478,
          -0.20315216481685638,
          -0.05827197805047035,
          0.0631229430437088
         ],
         "xaxis": "x9",
         "y": [
          0.3176918923854828,
          0.2378128170967102,
          0.31636354327201843,
          0.4208785593509674,
          0.3590514361858368,
          0.2405286282300949,
          0.26662588119506836,
          0.40390488505363464
         ],
         "yaxis": "y9"
        },
        {
         "marker": {
          "color": "rgb(255, 218, 0)"
         },
         "mode": "markers+text",
         "name": "mathematics",
         "text": [
          "geometry",
          "inequality",
          "arithmetic",
          "calculus",
          "algebra",
          "equation",
          "theorem",
          "mathematics"
         ],
         "textposition": "top right",
         "type": "scatter",
         "x": [
          0.15991416573524475,
          0.04750611260533333,
          0.24477745592594147,
          0.2650982141494751,
          0.20875373482704163,
          0.18714559078216553,
          0.11888554692268372,
          0.28600868582725525
         ],
         "xaxis": "x10",
         "y": [
          0.37572693824768066,
          0.18405334651470184,
          0.24414443969726562,
          0.22521209716796875,
          0.3729800283908844,
          0.3550688922405243,
          0.2745567560195923,
          0.44337043166160583
         ],
         "yaxis": "y10"
        },
        {
         "marker": {
          "color": "rgb(72, 255, 0)"
         },
         "mode": "markers+text",
         "name": "number",
         "text": [
          "one",
          "two",
          "three",
          "four",
          "five",
          "six",
          "seven",
          "eight",
          "nine",
          "ten",
          "number"
         ],
         "textposition": "top right",
         "type": "scatter",
         "x": [
          0.0008371510775759816,
          -0.05750565230846405,
          -0.13040024042129517,
          -0.1314534693956375,
          -0.15464600920677185,
          -0.13473740220069885,
          -0.2104227989912033,
          -0.15476126968860626,
          -0.1940041184425354,
          -0.15806718170642853,
          0.04579794034361839
         ],
         "xaxis": "x1",
         "y": [
          -0.08053095638751984,
          -0.16908568143844604,
          -0.19786164164543152,
          -0.23108428716659546,
          -0.2401929795742035,
          -0.2589881420135498,
          -0.21194887161254883,
          -0.2712371349334717,
          -0.25721970200538635,
          -0.2623470425605774,
          -0.2142122983932495
         ],
         "yaxis": "y1"
        },
        {
         "marker": {
          "color": "rgb(72, 255, 0)"
         },
         "mode": "markers+text",
         "name": "number",
         "text": [
          "one",
          "two",
          "three",
          "four",
          "five",
          "six",
          "seven",
          "eight",
          "nine",
          "ten",
          "number"
         ],
         "textposition": "top right",
         "type": "scatter",
         "x": [
          0.18333107233047485,
          0.2998580038547516,
          0.26031410694122314,
          0.2535593509674072,
          0.220295712351799,
          0.2145608514547348,
          0.1889348328113556,
          0.2043529748916626,
          0.18809503316879272,
          0.14971914887428284,
          0.18558712303638458
         ],
         "xaxis": "x2",
         "y": [
          0.23235243558883667,
          0.23578433692455292,
          0.23204517364501953,
          0.21796506643295288,
          0.19966495037078857,
          0.18520769476890564,
          0.20228414237499237,
          0.19981075823307037,
          0.17062266170978546,
          0.15112796425819397,
          0.15769807994365692
         ],
         "yaxis": "y2"
        },
        {
         "marker": {
          "color": "rgb(72, 255, 0)"
         },
         "mode": "markers+text",
         "name": "number",
         "text": [
          "one",
          "two",
          "three",
          "four",
          "five",
          "six",
          "seven",
          "eight",
          "nine",
          "ten",
          "number"
         ],
         "textposition": "top right",
         "type": "scatter",
         "x": [
          0.28861966729164124,
          0.3007383942604065,
          0.27148619294166565,
          0.2432880848646164,
          0.23207803070545197,
          0.18415705859661102,
          0.21333782374858856,
          0.18111537396907806,
          0.16571372747421265,
          0.1830740123987198,
          0.33962276577949524
         ],
         "xaxis": "x3",
         "y": [
          0.35250741243362427,
          0.3659476339817047,
          0.3537512421607971,
          0.35430026054382324,
          0.3141423761844635,
          0.3033028244972229,
          0.2974759042263031,
          0.30119094252586365,
          0.2856021225452423,
          0.2610834836959839,
          0.2616907060146332
         ],
         "yaxis": "y3"
        },
        {
         "marker": {
          "color": "rgb(72, 255, 0)"
         },
         "mode": "markers+text",
         "name": "number",
         "text": [
          "one",
          "two",
          "three",
          "four",
          "five",
          "six",
          "seven",
          "eight",
          "nine",
          "ten",
          "number"
         ],
         "textposition": "top right",
         "type": "scatter",
         "x": [
          -0.28633999824523926,
          -0.3606415390968323,
          -0.35985955595970154,
          -0.3580527603626251,
          -0.35823261737823486,
          -0.330250084400177,
          -0.32627710700035095,
          -0.3328726589679718,
          -0.3256010413169861,
          -0.33664464950561523,
          -0.31534650921821594
         ],
         "xaxis": "x4",
         "y": [
          -0.14935363829135895,
          -0.17176754772663116,
          -0.19848893582820892,
          -0.20183908939361572,
          -0.22343195974826813,
          -0.22118540108203888,
          -0.22994457185268402,
          -0.22296038269996643,
          -0.2196388840675354,
          -0.21613477170467377,
          -0.18298551440238953
         ],
         "yaxis": "y4"
        },
        {
         "marker": {
          "color": "rgb(72, 255, 0)"
         },
         "mode": "markers+text",
         "name": "number",
         "text": [
          "one",
          "two",
          "three",
          "four",
          "five",
          "six",
          "seven",
          "eight",
          "nine",
          "ten",
          "number"
         ],
         "textposition": "top right",
         "type": "scatter",
         "x": [
          0.030131366103887558,
          0.06585843861103058,
          0.06955064833164215,
          0.08087005466222763,
          0.07245312631130219,
          0.06020750105381012,
          0.08186640590429306,
          0.04842066019773483,
          0.0589725598692894,
          0.08253432810306549,
          0.15254266560077667
         ],
         "xaxis": "x5",
         "y": [
          0.2091149389743805,
          0.24274681508541107,
          0.22737503051757812,
          0.2057695984840393,
          0.1972195953130722,
          0.19214299321174622,
          0.2135430872440338,
          0.19467052817344666,
          0.19667789340019226,
          0.15558293461799622,
          0.20061619579792023
         ],
         "yaxis": "y5"
        },
        {
         "marker": {
          "color": "rgb(72, 255, 0)"
         },
         "mode": "markers+text",
         "name": "number",
         "text": [
          "one",
          "two",
          "three",
          "four",
          "five",
          "six",
          "seven",
          "eight",
          "nine",
          "ten",
          "number"
         ],
         "textposition": "top right",
         "type": "scatter",
         "x": [
          -0.3390083909034729,
          -0.43601468205451965,
          -0.4175383746623993,
          -0.42416709661483765,
          -0.36369702219963074,
          -0.39055100083351135,
          -0.3386916220188141,
          -0.3626590371131897,
          -0.3071451783180237,
          -0.27331626415252686,
          -0.2644815444946289
         ],
         "xaxis": "x6",
         "y": [
          -0.21606317162513733,
          -0.1936318427324295,
          -0.20501191914081573,
          -0.1894499510526657,
          -0.20358648896217346,
          -0.17909102141857147,
          -0.18638040125370026,
          -0.1675659418106079,
          -0.16225136816501617,
          -0.22167375683784485,
          -0.160935640335083
         ],
         "yaxis": "y6"
        },
        {
         "marker": {
          "color": "rgb(72, 255, 0)"
         },
         "mode": "markers+text",
         "name": "number",
         "text": [
          "one",
          "two",
          "three",
          "four",
          "five",
          "six",
          "seven",
          "eight",
          "nine",
          "ten",
          "number"
         ],
         "textposition": "top right",
         "type": "scatter",
         "x": [
          -0.1803114414215088,
          -0.1318260282278061,
          -0.1286649852991104,
          -0.10708709806203842,
          -0.12292157113552094,
          -0.12556345760822296,
          -0.09805786609649658,
          -0.09608173370361328,
          -0.0770205557346344,
          -0.10890545696020126,
          -0.15007740259170532
         ],
         "xaxis": "x7",
         "y": [
          -0.17104937136173248,
          -0.2865693271160126,
          -0.3130614459514618,
          -0.32351744174957275,
          -0.3623742461204529,
          -0.36421555280685425,
          -0.37511366605758667,
          -0.3967669606208801,
          -0.4030633568763733,
          -0.38528069853782654,
          -0.39283129572868347
         ],
         "yaxis": "y7"
        },
        {
         "marker": {
          "color": "rgb(72, 255, 0)"
         },
         "mode": "markers+text",
         "name": "number",
         "text": [
          "one",
          "two",
          "three",
          "four",
          "five",
          "six",
          "seven",
          "eight",
          "nine",
          "ten",
          "number"
         ],
         "textposition": "top right",
         "type": "scatter",
         "x": [
          0.0662502571940422,
          7.754830585327e-05,
          -0.008906903676688671,
          -0.013303564861416817,
          0.016500074416399002,
          0.0027513557579368353,
          -0.0029493693727999926,
          -0.012285621836781502,
          0.0163565780967474,
          0.061238717287778854,
          0.127014622092247
         ],
         "xaxis": "x8",
         "y": [
          -0.3510423004627228,
          -0.36189892888069153,
          -0.3446846008300781,
          -0.30461737513542175,
          -0.29119008779525757,
          -0.2839932143688202,
          -0.24258317053318024,
          -0.22781527042388916,
          -0.20903514325618744,
          -0.2380310744047165,
          -0.3426656723022461
         ],
         "yaxis": "y8"
        },
        {
         "marker": {
          "color": "rgb(72, 255, 0)"
         },
         "mode": "markers+text",
         "name": "number",
         "text": [
          "one",
          "two",
          "three",
          "four",
          "five",
          "six",
          "seven",
          "eight",
          "nine",
          "ten",
          "number"
         ],
         "textposition": "top right",
         "type": "scatter",
         "x": [
          0.29010581970214844,
          0.18212489783763885,
          0.16084204614162445,
          0.0999797061085701,
          0.13133227825164795,
          0.09257180988788605,
          0.10959521681070328,
          0.050784219056367874,
          0.07384126633405685,
          0.07032335549592972,
          0.15984436869621277
         ],
         "xaxis": "x9",
         "y": [
          0.13162493705749512,
          0.17624935507774353,
          0.19109360873699188,
          0.20637956261634827,
          0.1951301246881485,
          0.18502001464366913,
          0.17397946119308472,
          0.20601853728294373,
          0.15646308660507202,
          0.16568860411643982,
          0.27574923634529114
         ],
         "yaxis": "y9"
        },
        {
         "marker": {
          "color": "rgb(72, 255, 0)"
         },
         "mode": "markers+text",
         "name": "number",
         "text": [
          "one",
          "two",
          "three",
          "four",
          "five",
          "six",
          "seven",
          "eight",
          "nine",
          "ten",
          "number"
         ],
         "textposition": "top right",
         "type": "scatter",
         "x": [
          0.03780610114336014,
          -0.08597331494092941,
          -0.0681740865111351,
          -0.07603488862514496,
          -0.06546687334775925,
          -0.06155294552445412,
          -0.05631902441382408,
          -0.06987683475017548,
          -0.07056213170289993,
          0.005244128871709108,
          -0.059922825545072556
         ],
         "xaxis": "x10",
         "y": [
          0.46804919838905334,
          0.33776411414146423,
          0.3222079873085022,
          0.31508684158325195,
          0.30579492449760437,
          0.3053162395954132,
          0.2692357003688812,
          0.2662081718444824,
          0.26693758368492126,
          0.2801690697669983,
          0.38481324911117554
         ],
         "yaxis": "y10"
        },
        {
         "marker": {
          "color": "rgb(0, 255, 145)"
         },
         "mode": "markers+text",
         "name": "chemistry",
         "text": [
          "chemical",
          "oxygen",
          "carbon",
          "dioxide",
          "nitrogen",
          "zinc",
          "organic",
          "chemistry"
         ],
         "textposition": "top right",
         "type": "scatter",
         "x": [
          0.3021464943885803,
          0.4490094780921936,
          0.3837807774543762,
          0.4254109263420105,
          0.48454201221466064,
          0.2782980799674988,
          0.37230244278907776,
          0.2128235399723053
         ],
         "xaxis": "x1",
         "y": [
          0.06768365204334259,
          -0.05970845744013786,
          -0.07509006559848785,
          -0.015286894515156746,
          -0.02786734141409397,
          0.04166923835873604,
          0.013589336536824703,
          -0.04510752111673355
         ],
         "yaxis": "y1"
        },
        {
         "marker": {
          "color": "rgb(0, 255, 145)"
         },
         "mode": "markers+text",
         "name": "chemistry",
         "text": [
          "chemical",
          "oxygen",
          "carbon",
          "dioxide",
          "nitrogen",
          "zinc",
          "organic",
          "chemistry"
         ],
         "textposition": "top right",
         "type": "scatter",
         "x": [
          0.15218161046504974,
          -0.11759696900844574,
          -0.01887653023004532,
          -0.17627105116844177,
          -0.09748435765504837,
          0.021214835345745087,
          0.17898310720920563,
          -0.0017814110033214092
         ],
         "xaxis": "x2",
         "y": [
          0.17284831404685974,
          0.09349334239959717,
          -0.016744544729590416,
          -0.07877777516841888,
          -0.041758324950933456,
          -0.0788511410355568,
          0.2511698007583618,
          0.19899983704090118
         ],
         "yaxis": "y2"
        },
        {
         "marker": {
          "color": "rgb(0, 255, 145)"
         },
         "mode": "markers+text",
         "name": "chemistry",
         "text": [
          "chemical",
          "oxygen",
          "carbon",
          "dioxide",
          "nitrogen",
          "zinc",
          "organic",
          "chemistry"
         ],
         "textposition": "top right",
         "type": "scatter",
         "x": [
          0.042274557054042816,
          0.07668908685445786,
          0.08550712466239929,
          0.037498295307159424,
          0.055079247802495956,
          0.02539072558283806,
          -0.062116727232933044,
          -0.026783714070916176
         ],
         "xaxis": "x3",
         "y": [
          0.04542861506342888,
          -0.16744980216026306,
          -0.0857861191034317,
          -0.31291747093200684,
          -0.22040967643260956,
          -0.030688483268022537,
          -0.10358366370201111,
          -0.013735995627939701
         ],
         "yaxis": "y3"
        },
        {
         "marker": {
          "color": "rgb(0, 255, 145)"
         },
         "mode": "markers+text",
         "name": "chemistry",
         "text": [
          "chemical",
          "oxygen",
          "carbon",
          "dioxide",
          "nitrogen",
          "zinc",
          "organic",
          "chemistry"
         ],
         "textposition": "top right",
         "type": "scatter",
         "x": [
          -0.03841058537364006,
          0.061459604650735855,
          -0.016235290095210075,
          0.024849189445376396,
          0.05065051466226578,
          -0.11292272061109543,
          0.06724980473518372,
          0.024086274206638336
         ],
         "xaxis": "x4",
         "y": [
          -0.00904810056090355,
          -0.14300203323364258,
          -0.1446184515953064,
          -0.010964932851493359,
          -0.027974354103207588,
          -0.008610742166638374,
          -0.04115340858697891,
          -0.13022203743457794
         ],
         "yaxis": "y4"
        },
        {
         "marker": {
          "color": "rgb(0, 255, 145)"
         },
         "mode": "markers+text",
         "name": "chemistry",
         "text": [
          "chemical",
          "oxygen",
          "carbon",
          "dioxide",
          "nitrogen",
          "zinc",
          "organic",
          "chemistry"
         ],
         "textposition": "top right",
         "type": "scatter",
         "x": [
          0.05817199498414993,
          0.1555790901184082,
          0.18880905210971832,
          0.14196419715881348,
          0.09448251873254776,
          0.0693458840250969,
          0.12860321998596191,
          -0.1104707196354866
         ],
         "xaxis": "x5",
         "y": [
          0.08340778201818466,
          0.21336068212985992,
          0.2713511288166046,
          0.3249622881412506,
          0.30019351840019226,
          0.22112984955310822,
          0.08671517670154572,
          -0.1676977276802063
         ],
         "yaxis": "y5"
        },
        {
         "marker": {
          "color": "rgb(0, 255, 145)"
         },
         "mode": "markers+text",
         "name": "chemistry",
         "text": [
          "chemical",
          "oxygen",
          "carbon",
          "dioxide",
          "nitrogen",
          "zinc",
          "organic",
          "chemistry"
         ],
         "textposition": "top right",
         "type": "scatter",
         "x": [
          -0.33042392134666443,
          -0.4515284299850464,
          -0.35624006390571594,
          -0.39388716220855713,
          -0.3308860957622528,
          -0.35207587480545044,
          -0.20940545201301575,
          -0.0914054736495018
         ],
         "xaxis": "x6",
         "y": [
          0.283645361661911,
          0.06510449945926666,
          0.050656937062740326,
          -0.011171855032444,
          0.02317759394645691,
          -0.06668012589216232,
          0.10932871699333191,
          0.3133111298084259
         ],
         "yaxis": "y6"
        },
        {
         "marker": {
          "color": "rgb(0, 255, 145)"
         },
         "mode": "markers+text",
         "name": "chemistry",
         "text": [
          "chemical",
          "oxygen",
          "carbon",
          "dioxide",
          "nitrogen",
          "zinc",
          "organic",
          "chemistry"
         ],
         "textposition": "top right",
         "type": "scatter",
         "x": [
          0.0028342758305370808,
          -0.11728683859109879,
          0.08364679664373398,
          0.0316472090780735,
          0.025050150230526924,
          0.24852889776229858,
          -0.00565361836925149,
          0.15484008193016052
         ],
         "xaxis": "x7",
         "y": [
          -0.07829851657152176,
          -0.13796082139015198,
          0.0061789886094629765,
          -0.050504766404628754,
          -0.06742063909769058,
          0.08810916543006897,
          -0.042823296040296555,
          -0.12285419553518295
         ],
         "yaxis": "y7"
        },
        {
         "marker": {
          "color": "rgb(0, 255, 145)"
         },
         "mode": "markers+text",
         "name": "chemistry",
         "text": [
          "chemical",
          "oxygen",
          "carbon",
          "dioxide",
          "nitrogen",
          "zinc",
          "organic",
          "chemistry"
         ],
         "textposition": "top right",
         "type": "scatter",
         "x": [
          0.24050337076187134,
          0.27910923957824707,
          0.3877381980419159,
          0.39967620372772217,
          0.2688831686973572,
          0.3280245363712311,
          0.24016563594341278,
          -0.00843766424804926
         ],
         "xaxis": "x8",
         "y": [
          -0.352346807718277,
          0.002796054584905505,
          -0.12416684627532959,
          -0.12061222642660141,
          -0.06637221574783325,
          -0.21638648211956024,
          -0.1873023360967636,
          -0.32736703753471375
         ],
         "yaxis": "y8"
        },
        {
         "marker": {
          "color": "rgb(0, 255, 145)"
         },
         "mode": "markers+text",
         "name": "chemistry",
         "text": [
          "chemical",
          "oxygen",
          "carbon",
          "dioxide",
          "nitrogen",
          "zinc",
          "organic",
          "chemistry"
         ],
         "textposition": "top right",
         "type": "scatter",
         "x": [
          0.15051041543483734,
          0.06675436347723007,
          0.11844366043806076,
          0.0925893485546112,
          0.07625449448823929,
          0.07044441998004913,
          0.2085968405008316,
          0.11750604212284088
         ],
         "xaxis": "x9",
         "y": [
          0.4082464873790741,
          0.2805728018283844,
          0.3440645933151245,
          0.3288537859916687,
          0.3738425076007843,
          0.4207497537136078,
          0.4328027069568634,
          0.4670335352420807
         ],
         "yaxis": "y9"
        },
        {
         "marker": {
          "color": "rgb(0, 255, 145)"
         },
         "mode": "markers+text",
         "name": "chemistry",
         "text": [
          "chemical",
          "oxygen",
          "carbon",
          "dioxide",
          "nitrogen",
          "zinc",
          "organic",
          "chemistry"
         ],
         "textposition": "top right",
         "type": "scatter",
         "x": [
          0.11998946219682693,
          0.18162168562412262,
          0.029748303815722466,
          0.15155546367168427,
          0.1390906274318695,
          -0.09517840296030045,
          0.10060697793960571,
          0.28869330883026123
         ],
         "xaxis": "x10",
         "y": [
          0.2042224109172821,
          0.21601851284503937,
          0.21561062335968018,
          0.11750935018062592,
          0.12817437946796417,
          -0.05077241361141205,
          0.23472535610198975,
          0.35781341791152954
         ],
         "yaxis": "y10"
        },
        {
         "marker": {
          "color": "rgb(0, 145, 255)"
         },
         "mode": "markers+text",
         "name": "sport",
         "text": [
          "maradona",
          "ronaldo",
          "messi",
          "lochte",
          "phelps",
          "spitz",
          "comneci",
          "mayweather",
          "pacquiao",
          "sport"
         ],
         "textposition": "top right",
         "type": "scatter",
         "x": [
          -0.11627928167581558,
          -0.0285841915756464,
          -0.14280766248703003,
          -0.09298118203878403,
          -0.09979002922773361,
          0.08213590085506439,
          -0.16248279809951782,
          -0.03254826366901398,
          -0.017836101353168488,
          0.015280279330909252
         ],
         "xaxis": "x1",
         "y": [
          -0.03408430144190788,
          -0.04078374803066254,
          0.026231111958622932,
          -0.13964858651161194,
          -0.05807103216648102,
          0.06097303330898285,
          0.07483064383268356,
          -0.02162526361644268,
          0.09064076095819473,
          -0.3486611545085907
         ],
         "yaxis": "y1"
        },
        {
         "marker": {
          "color": "rgb(0, 145, 255)"
         },
         "mode": "markers+text",
         "name": "sport",
         "text": [
          "maradona",
          "ronaldo",
          "messi",
          "lochte",
          "phelps",
          "spitz",
          "comneci",
          "mayweather",
          "pacquiao",
          "sport"
         ],
         "textposition": "top right",
         "type": "scatter",
         "x": [
          -0.08986737579107285,
          -0.23477470874786377,
          -0.026745935901999474,
          0.004049573093652725,
          0.025867026299238205,
          0.14894646406173706,
          -0.11557657271623611,
          -0.04246150702238083,
          -0.29214218258857727,
          -0.028922628611326218
         ],
         "xaxis": "x2",
         "y": [
          0.09760154783725739,
          -0.012091920711100101,
          -0.03872868791222572,
          0.010254441760480404,
          0.0512918196618557,
          0.10620678961277008,
          0.1150560975074768,
          0.028353266417980194,
          0.011527515016496181,
          0.3021928668022156
         ],
         "yaxis": "y2"
        },
        {
         "marker": {
          "color": "rgb(0, 145, 255)"
         },
         "mode": "markers+text",
         "name": "sport",
         "text": [
          "maradona",
          "ronaldo",
          "messi",
          "lochte",
          "phelps",
          "spitz",
          "comneci",
          "mayweather",
          "pacquiao",
          "sport"
         ],
         "textposition": "top right",
         "type": "scatter",
         "x": [
          0.06308045238256454,
          0.04144991561770439,
          0.09368130564689636,
          0.07926798611879349,
          -0.07490202784538269,
          -0.0066614351235330105,
          0.13238677382469177,
          -0.019652875140309334,
          0.06228836253285408,
          -0.0046634073369205
         ],
         "xaxis": "x3",
         "y": [
          -0.029646752402186394,
          0.06288128346204758,
          0.11617664992809296,
          0.003011064836755395,
          0.03623950108885765,
          -0.058183442801237106,
          -0.1382964849472046,
          0.06846543401479721,
          0.005064800847321749,
          0.16656093299388885
         ],
         "yaxis": "y3"
        },
        {
         "marker": {
          "color": "rgb(0, 145, 255)"
         },
         "mode": "markers+text",
         "name": "sport",
         "text": [
          "maradona",
          "ronaldo",
          "messi",
          "lochte",
          "phelps",
          "spitz",
          "comneci",
          "mayweather",
          "pacquiao",
          "sport"
         ],
         "textposition": "top right",
         "type": "scatter",
         "x": [
          -0.09854706376791,
          -0.1973743587732315,
          -0.18859675526618958,
          -0.3041311502456665,
          -0.0926247164607048,
          -0.0199496541172266,
          -0.10246661305427551,
          -0.1754133552312851,
          -0.19374477863311768,
          -0.045625217258930206
         ],
         "xaxis": "x4",
         "y": [
          0.16242489218711853,
          0.17558355629444122,
          -0.027319155633449554,
          -0.07946498692035675,
          -0.2293912023305893,
          0.10039158910512924,
          -0.03183606266975403,
          0.00023616709222551435,
          0.15884967148303986,
          0.19427677989006042
         ],
         "yaxis": "y4"
        },
        {
         "marker": {
          "color": "rgb(0, 145, 255)"
         },
         "mode": "markers+text",
         "name": "sport",
         "text": [
          "maradona",
          "ronaldo",
          "messi",
          "lochte",
          "phelps",
          "spitz",
          "comneci",
          "mayweather",
          "pacquiao",
          "sport"
         ],
         "textposition": "top right",
         "type": "scatter",
         "x": [
          -0.2807307839393616,
          -0.33307352662086487,
          -0.18953534960746765,
          -0.18125490844249725,
          -0.2336004227399826,
          -0.15408925712108612,
          -0.1293264478445053,
          -0.19683358073234558,
          -0.2547188997268677,
          0.02265484258532524
         ],
         "xaxis": "x5",
         "y": [
          -0.09493065625429153,
          -0.01862930692732334,
          -0.11630865186452866,
          -0.20447257161140442,
          -0.05924740806221962,
          -0.09056687355041504,
          -0.05828598141670227,
          0.0009296605130657554,
          -0.01838626153767109,
          -0.18754500150680542
         ],
         "yaxis": "y5"
        },
        {
         "marker": {
          "color": "rgb(0, 145, 255)"
         },
         "mode": "markers+text",
         "name": "sport",
         "text": [
          "maradona",
          "ronaldo",
          "messi",
          "lochte",
          "phelps",
          "spitz",
          "comneci",
          "mayweather",
          "pacquiao",
          "sport"
         ],
         "textposition": "top right",
         "type": "scatter",
         "x": [
          -0.1995433270931244,
          -0.09971504658460617,
          -0.08029971271753311,
          -0.13202141225337982,
          -0.09375856071710587,
          -0.14505064487457275,
          -0.0375949963927269,
          -0.22649244964122772,
          -0.3274674415588379,
          -0.2391372174024582
         ],
         "xaxis": "x6",
         "y": [
          -0.08455709367990494,
          -0.11909879744052887,
          -0.06110258027911186,
          -0.06778428703546524,
          -0.08422181755304337,
          -0.13708245754241943,
          -0.009898381307721138,
          -0.18142810463905334,
          -0.14527958631515503,
          -0.054687462747097015
         ],
         "yaxis": "y6"
        },
        {
         "marker": {
          "color": "rgb(0, 145, 255)"
         },
         "mode": "markers+text",
         "name": "sport",
         "text": [
          "maradona",
          "ronaldo",
          "messi",
          "lochte",
          "phelps",
          "spitz",
          "comneci",
          "mayweather",
          "pacquiao",
          "sport"
         ],
         "textposition": "top right",
         "type": "scatter",
         "x": [
          0.024012360721826553,
          0.10044863820075989,
          0.10248589515686035,
          0.026575416326522827,
          0.21098588407039642,
          0.06730428338050842,
          -0.18068811297416687,
          0.1041794866323471,
          -0.11657098680734634,
          -0.09787771105766296
         ],
         "xaxis": "x7",
         "y": [
          -0.06610924750566483,
          -0.0809004008769989,
          -0.020213527604937553,
          -0.012361295521259308,
          0.003197380807250738,
          -0.034872058779001236,
          -0.0013095985632389784,
          0.1481492668390274,
          -0.013258343562483788,
          -0.18353232741355896
         ],
         "yaxis": "y7"
        },
        {
         "marker": {
          "color": "rgb(0, 145, 255)"
         },
         "mode": "markers+text",
         "name": "sport",
         "text": [
          "maradona",
          "ronaldo",
          "messi",
          "lochte",
          "phelps",
          "spitz",
          "comneci",
          "mayweather",
          "pacquiao",
          "sport"
         ],
         "textposition": "top right",
         "type": "scatter",
         "x": [
          0.013616777025163174,
          0.05101627856492996,
          -0.06922795623540878,
          -0.033430103212594986,
          0.1904926747083664,
          0.015941083431243896,
          -0.3078881502151489,
          0.1603132039308548,
          0.04566037654876709,
          0.15752777457237244
         ],
         "xaxis": "x8",
         "y": [
          -0.11254783719778061,
          0.006528024561703205,
          -0.09800118207931519,
          -0.014289755374193192,
          -0.10794352740049362,
          -0.04861222207546234,
          0.10250377655029297,
          -0.14139196276664734,
          0.011934444308280945,
          -0.10539766401052475
         ],
         "yaxis": "y8"
        },
        {
         "marker": {
          "color": "rgb(0, 145, 255)"
         },
         "mode": "markers+text",
         "name": "sport",
         "text": [
          "maradona",
          "ronaldo",
          "messi",
          "lochte",
          "phelps",
          "spitz",
          "comneci",
          "mayweather",
          "pacquiao",
          "sport"
         ],
         "textposition": "top right",
         "type": "scatter",
         "x": [
          0.09244620054960251,
          -0.0014719461323693395,
          -0.04411100223660469,
          -0.03668714687228203,
          0.12245560437440872,
          -0.1475340723991394,
          0.018077800050377846,
          -0.1540209949016571,
          -0.017580552026629448,
          0.13052548468112946
         ],
         "xaxis": "x9",
         "y": [
          -0.09628556668758392,
          0.00821906328201294,
          -0.1546047031879425,
          -0.1879989504814148,
          0.026865312829613686,
          0.1313248872756958,
          -0.00805571023374796,
          -0.23792485892772675,
          -0.08646612614393234,
          0.2255801260471344
         ],
         "yaxis": "y9"
        },
        {
         "marker": {
          "color": "rgb(0, 145, 255)"
         },
         "mode": "markers+text",
         "name": "sport",
         "text": [
          "maradona",
          "ronaldo",
          "messi",
          "lochte",
          "phelps",
          "spitz",
          "comneci",
          "mayweather",
          "pacquiao",
          "sport"
         ],
         "textposition": "top right",
         "type": "scatter",
         "x": [
          0.11451905220746994,
          0.006894899066537619,
          -0.046252623200416565,
          -0.11295507848262787,
          -0.05199180170893669,
          -0.09672118723392487,
          -0.011646458879113197,
          -0.1435011327266693,
          -0.05114014446735382,
          0.19001640379428864
         ],
         "xaxis": "x10",
         "y": [
          -0.04940740764141083,
          -0.0782417431473732,
          -0.012071260251104832,
          0.05548098683357239,
          0.05377329885959625,
          0.16275522112846375,
          0.05993909761309624,
          -0.018335619941353798,
          -0.012805460952222347,
          0.32285621762275696
         ],
         "yaxis": "y10"
        },
        {
         "marker": {
          "color": "rgb(72, 0, 255)"
         },
         "mode": "markers+text",
         "name": "country",
         "text": [
          "romania",
          "france",
          "germany",
          "england",
          "russia",
          "india",
          "china",
          "spain",
          "country"
         ],
         "textposition": "top right",
         "type": "scatter",
         "x": [
          -0.33110031485557556,
          -0.37655821442604065,
          -0.2824689447879791,
          -0.3431885838508606,
          -0.35128286480903625,
          -0.3176722526550293,
          -0.2840248644351959,
          -0.42374834418296814,
          -0.20349402725696564
         ],
         "xaxis": "x1",
         "y": [
          -0.16300314664840698,
          -0.132794588804245,
          -0.13084757328033447,
          -0.2320266216993332,
          -0.06016528606414795,
          -0.15727728605270386,
          -0.10921812802553177,
          -0.06828926503658295,
          -0.23185285925865173
         ],
         "yaxis": "y1"
        },
        {
         "marker": {
          "color": "rgb(72, 0, 255)"
         },
         "mode": "markers+text",
         "name": "country",
         "text": [
          "romania",
          "france",
          "germany",
          "england",
          "russia",
          "india",
          "china",
          "spain",
          "country"
         ],
         "textposition": "top right",
         "type": "scatter",
         "x": [
          -0.2595435082912445,
          -0.07649842649698257,
          -0.024985358119010925,
          0.04749680683016777,
          -0.09564805030822754,
          0.06261321902275085,
          0.05004778876900673,
          -0.12270091474056244,
          0.05979936569929123
         ],
         "xaxis": "x2",
         "y": [
          0.030120737850666046,
          0.07660441100597382,
          0.0714595839381218,
          0.3007129728794098,
          0.09744729846715927,
          0.09410092979669571,
          0.12326841056346893,
          0.052671123296022415,
          0.3404853343963623
         ],
         "yaxis": "y2"
        },
        {
         "marker": {
          "color": "rgb(72, 0, 255)"
         },
         "mode": "markers+text",
         "name": "country",
         "text": [
          "romania",
          "france",
          "germany",
          "england",
          "russia",
          "india",
          "china",
          "spain",
          "country"
         ],
         "textposition": "top right",
         "type": "scatter",
         "x": [
          -0.024630596861243248,
          0.09184126555919647,
          -0.0031061547342687845,
          0.026454171165823936,
          0.059874776750802994,
          0.18411321938037872,
          0.1314372718334198,
          0.1734013557434082,
          0.18234752118587494
         ],
         "xaxis": "x3",
         "y": [
          -0.021315250545740128,
          0.03069249354302883,
          -0.025185763835906982,
          0.26700323820114136,
          0.08775029331445694,
          0.1959027349948883,
          0.15185856819152832,
          0.06330057233572006,
          0.1963135451078415
         ],
         "yaxis": "y3"
        },
        {
         "marker": {
          "color": "rgb(72, 0, 255)"
         },
         "mode": "markers+text",
         "name": "country",
         "text": [
          "romania",
          "france",
          "germany",
          "england",
          "russia",
          "india",
          "china",
          "spain",
          "country"
         ],
         "textposition": "top right",
         "type": "scatter",
         "x": [
          0.10817085951566696,
          0.20649297535419464,
          0.1380304992198944,
          -0.09001117944717407,
          0.10322841256856918,
          0.10046853870153427,
          0.15911529958248138,
          0.07038765400648117,
          -0.09472252428531647
         ],
         "xaxis": "x4",
         "y": [
          0.17083926498889923,
          -0.047584567219018936,
          -0.001936516840942204,
          -0.21380992233753204,
          0.10690278559923172,
          0.04737657681107521,
          0.12280480563640594,
          0.02806839905679226,
          -0.0428713895380497
         ],
         "yaxis": "y4"
        },
        {
         "marker": {
          "color": "rgb(72, 0, 255)"
         },
         "mode": "markers+text",
         "name": "country",
         "text": [
          "romania",
          "france",
          "germany",
          "england",
          "russia",
          "india",
          "china",
          "spain",
          "country"
         ],
         "textposition": "top right",
         "type": "scatter",
         "x": [
          -0.1819828897714615,
          -0.1257191002368927,
          -0.15046383440494537,
          -0.21216103434562683,
          -0.14467130601406097,
          -0.08111579716205597,
          0.02064436301589012,
          -0.10817287862300873,
          0.12625664472579956
         ],
         "xaxis": "x5",
         "y": [
          0.3386076092720032,
          0.26281270384788513,
          0.2716953158378601,
          0.24251830577850342,
          0.32672640681266785,
          0.2401474118232727,
          0.30060717463493347,
          0.33344247937202454,
          0.1677122563123703
         ],
         "yaxis": "y5"
        },
        {
         "marker": {
          "color": "rgb(72, 0, 255)"
         },
         "mode": "markers+text",
         "name": "country",
         "text": [
          "romania",
          "france",
          "germany",
          "england",
          "russia",
          "india",
          "china",
          "spain",
          "country"
         ],
         "textposition": "top right",
         "type": "scatter",
         "x": [
          -0.012004857882857323,
          -0.26465240120887756,
          -0.24799002707004547,
          -0.25067344307899475,
          -0.13928033411502838,
          -0.12669500708580017,
          -0.24573203921318054,
          -0.2397902011871338,
          -0.17923466861248016
         ],
         "xaxis": "x6",
         "y": [
          -0.00736235361546278,
          -0.08354529738426208,
          0.01709449104964733,
          -0.06358413398265839,
          -0.0018529054941609502,
          0.08557355403900146,
          0.024891573935747147,
          -0.17620353400707245,
          -0.21253499388694763
         ],
         "yaxis": "y6"
        },
        {
         "marker": {
          "color": "rgb(72, 0, 255)"
         },
         "mode": "markers+text",
         "name": "country",
         "text": [
          "romania",
          "france",
          "germany",
          "england",
          "russia",
          "india",
          "china",
          "spain",
          "country"
         ],
         "textposition": "top right",
         "type": "scatter",
         "x": [
          -0.12282972037792206,
          -0.27318069338798523,
          -0.2860591411590576,
          -0.05364571884274483,
          -0.2842774987220764,
          -0.16404137015342712,
          -0.2560650110244751,
          -0.24193334579467773,
          -0.17309927940368652
         ],
         "xaxis": "x7",
         "y": [
          -0.031156983226537704,
          -0.12302334606647491,
          -0.2257336676120758,
          -0.09950774908065796,
          -0.1971132606267929,
          -0.18370461463928223,
          -0.21273218095302582,
          -0.18284621834754944,
          -0.1869105100631714
         ],
         "yaxis": "y7"
        },
        {
         "marker": {
          "color": "rgb(72, 0, 255)"
         },
         "mode": "markers+text",
         "name": "country",
         "text": [
          "romania",
          "france",
          "germany",
          "england",
          "russia",
          "india",
          "china",
          "spain",
          "country"
         ],
         "textposition": "top right",
         "type": "scatter",
         "x": [
          0.25662845373153687,
          0.1723639965057373,
          0.15573866665363312,
          -0.02392389066517353,
          0.22297881543636322,
          0.1953698694705963,
          0.24644707143306732,
          0.16597437858581543,
          0.27038323879241943
         ],
         "xaxis": "x8",
         "y": [
          -0.0031025775242596865,
          -0.3769231140613556,
          -0.33445101976394653,
          -0.3771778643131256,
          -0.2222209870815277,
          -0.13050025701522827,
          -0.18117904663085938,
          -0.24715448915958405,
          -0.22164395451545715
         ],
         "yaxis": "y8"
        },
        {
         "marker": {
          "color": "rgb(72, 0, 255)"
         },
         "mode": "markers+text",
         "name": "country",
         "text": [
          "romania",
          "france",
          "germany",
          "england",
          "russia",
          "india",
          "china",
          "spain",
          "country"
         ],
         "textposition": "top right",
         "type": "scatter",
         "x": [
          0.15711919963359833,
          0.06923028081655502,
          0.13105912506580353,
          0.37430593371391296,
          0.148107647895813,
          0.3263745903968811,
          0.20725300908088684,
          0.13187237083911896,
          0.2921106517314911
         ],
         "xaxis": "x9",
         "y": [
          0.2548139691352844,
          0.28161096572875977,
          0.28679150342941284,
          0.2122417688369751,
          0.25031954050064087,
          0.30834245681762695,
          0.23199334740638733,
          0.31868717074394226,
          0.10590243339538574
         ],
         "yaxis": "y9"
        },
        {
         "marker": {
          "color": "rgb(72, 0, 255)"
         },
         "mode": "markers+text",
         "name": "country",
         "text": [
          "romania",
          "france",
          "germany",
          "england",
          "russia",
          "india",
          "china",
          "spain",
          "country"
         ],
         "textposition": "top right",
         "type": "scatter",
         "x": [
          0.15365256369113922,
          0.2939273715019226,
          0.24345935881137848,
          0.0319148413836956,
          0.16572101414203644,
          0.09184396266937256,
          0.11074942350387573,
          0.23642344772815704,
          0.039025723934173584
         ],
         "xaxis": "x10",
         "y": [
          0.19142542779445648,
          0.26827511191368103,
          0.2874777913093567,
          0.20209595561027527,
          0.2235240787267685,
          0.2970391809940338,
          0.3290484845638275,
          0.18595723807811737,
          0.4143686294555664
         ],
         "yaxis": "y10"
        }
       ],
       "layout": {
        "height": 1200,
        "width": 900,
        "xaxis1": {
         "anchor": "y1",
         "domain": [
          0,
          0.2888888888888889
         ],
         "range": [
          -1,
          1
         ]
        },
        "xaxis10": {
         "anchor": "y10",
         "domain": [
          0,
          0.2888888888888889
         ],
         "range": [
          -1,
          1
         ]
        },
        "xaxis11": {
         "anchor": "y11",
         "domain": [
          0.35555555555555557,
          0.6444444444444445
         ],
         "range": [
          -1,
          1
         ]
        },
        "xaxis12": {
         "anchor": "y12",
         "domain": [
          0.7111111111111111,
          1
         ],
         "range": [
          -1,
          1
         ]
        },
        "xaxis13": {
         "range": [
          -1,
          1
         ]
        },
        "xaxis14": {
         "range": [
          -1,
          1
         ]
        },
        "xaxis15": {
         "range": [
          -1,
          1
         ]
        },
        "xaxis16": {
         "range": [
          -1,
          1
         ]
        },
        "xaxis17": {
         "range": [
          -1,
          1
         ]
        },
        "xaxis18": {
         "range": [
          -1,
          1
         ]
        },
        "xaxis19": {
         "range": [
          -1,
          1
         ]
        },
        "xaxis2": {
         "anchor": "y2",
         "domain": [
          0.35555555555555557,
          0.6444444444444445
         ],
         "range": [
          -1,
          1
         ]
        },
        "xaxis20": {
         "range": [
          -1,
          1
         ]
        },
        "xaxis21": {
         "range": [
          -1,
          1
         ]
        },
        "xaxis22": {
         "range": [
          -1,
          1
         ]
        },
        "xaxis23": {
         "range": [
          -1,
          1
         ]
        },
        "xaxis24": {
         "range": [
          -1,
          1
         ]
        },
        "xaxis25": {
         "range": [
          -1,
          1
         ]
        },
        "xaxis26": {
         "range": [
          -1,
          1
         ]
        },
        "xaxis27": {
         "range": [
          -1,
          1
         ]
        },
        "xaxis28": {
         "range": [
          -1,
          1
         ]
        },
        "xaxis29": {
         "range": [
          -1,
          1
         ]
        },
        "xaxis3": {
         "anchor": "y3",
         "domain": [
          0.7111111111111111,
          1
         ],
         "range": [
          -1,
          1
         ]
        },
        "xaxis30": {
         "range": [
          -1,
          1
         ]
        },
        "xaxis31": {
         "range": [
          -1,
          1
         ]
        },
        "xaxis32": {
         "range": [
          -1,
          1
         ]
        },
        "xaxis33": {
         "range": [
          -1,
          1
         ]
        },
        "xaxis34": {
         "range": [
          -1,
          1
         ]
        },
        "xaxis35": {
         "range": [
          -1,
          1
         ]
        },
        "xaxis36": {
         "range": [
          -1,
          1
         ]
        },
        "xaxis37": {
         "range": [
          -1,
          1
         ]
        },
        "xaxis38": {
         "range": [
          -1,
          1
         ]
        },
        "xaxis39": {
         "range": [
          -1,
          1
         ]
        },
        "xaxis4": {
         "anchor": "y4",
         "domain": [
          0,
          0.2888888888888889
         ],
         "range": [
          -1,
          1
         ]
        },
        "xaxis40": {
         "range": [
          -1,
          1
         ]
        },
        "xaxis41": {
         "range": [
          -1,
          1
         ]
        },
        "xaxis42": {
         "range": [
          -1,
          1
         ]
        },
        "xaxis43": {
         "range": [
          -1,
          1
         ]
        },
        "xaxis44": {
         "range": [
          -1,
          1
         ]
        },
        "xaxis45": {
         "range": [
          -1,
          1
         ]
        },
        "xaxis46": {
         "range": [
          -1,
          1
         ]
        },
        "xaxis47": {
         "range": [
          -1,
          1
         ]
        },
        "xaxis48": {
         "range": [
          -1,
          1
         ]
        },
        "xaxis49": {
         "range": [
          -1,
          1
         ]
        },
        "xaxis5": {
         "anchor": "y5",
         "domain": [
          0.35555555555555557,
          0.6444444444444445
         ],
         "range": [
          -1,
          1
         ]
        },
        "xaxis50": {
         "range": [
          -1,
          1
         ]
        },
        "xaxis51": {
         "range": [
          -1,
          1
         ]
        },
        "xaxis52": {
         "range": [
          -1,
          1
         ]
        },
        "xaxis53": {
         "range": [
          -1,
          1
         ]
        },
        "xaxis54": {
         "range": [
          -1,
          1
         ]
        },
        "xaxis55": {
         "range": [
          -1,
          1
         ]
        },
        "xaxis56": {
         "range": [
          -1,
          1
         ]
        },
        "xaxis57": {
         "range": [
          -1,
          1
         ]
        },
        "xaxis58": {
         "range": [
          -1,
          1
         ]
        },
        "xaxis59": {
         "range": [
          -1,
          1
         ]
        },
        "xaxis6": {
         "anchor": "y6",
         "domain": [
          0.7111111111111111,
          1
         ],
         "range": [
          -1,
          1
         ]
        },
        "xaxis60": {
         "range": [
          -1,
          1
         ]
        },
        "xaxis7": {
         "anchor": "y7",
         "domain": [
          0,
          0.2888888888888889
         ],
         "range": [
          -1,
          1
         ]
        },
        "xaxis8": {
         "anchor": "y8",
         "domain": [
          0.35555555555555557,
          0.6444444444444445
         ],
         "range": [
          -1,
          1
         ]
        },
        "xaxis9": {
         "anchor": "y9",
         "domain": [
          0.7111111111111111,
          1
         ],
         "range": [
          -1,
          1
         ]
        },
        "yaxis1": {
         "anchor": "x1",
         "domain": [
          0.80625,
          1
         ],
         "range": [
          -1,
          1
         ]
        },
        "yaxis10": {
         "anchor": "x10",
         "domain": [
          0,
          0.19375
         ],
         "range": [
          -1,
          1
         ]
        },
        "yaxis11": {
         "anchor": "x11",
         "domain": [
          0,
          0.19375
         ],
         "range": [
          -1,
          1
         ]
        },
        "yaxis12": {
         "anchor": "x12",
         "domain": [
          0,
          0.19375
         ],
         "range": [
          -1,
          1
         ]
        },
        "yaxis13": {
         "range": [
          -1,
          1
         ]
        },
        "yaxis14": {
         "range": [
          -1,
          1
         ]
        },
        "yaxis15": {
         "range": [
          -1,
          1
         ]
        },
        "yaxis16": {
         "range": [
          -1,
          1
         ]
        },
        "yaxis17": {
         "range": [
          -1,
          1
         ]
        },
        "yaxis18": {
         "range": [
          -1,
          1
         ]
        },
        "yaxis19": {
         "range": [
          -1,
          1
         ]
        },
        "yaxis2": {
         "anchor": "x2",
         "domain": [
          0.80625,
          1
         ],
         "range": [
          -1,
          1
         ]
        },
        "yaxis20": {
         "range": [
          -1,
          1
         ]
        },
        "yaxis21": {
         "range": [
          -1,
          1
         ]
        },
        "yaxis22": {
         "range": [
          -1,
          1
         ]
        },
        "yaxis23": {
         "range": [
          -1,
          1
         ]
        },
        "yaxis24": {
         "range": [
          -1,
          1
         ]
        },
        "yaxis25": {
         "range": [
          -1,
          1
         ]
        },
        "yaxis26": {
         "range": [
          -1,
          1
         ]
        },
        "yaxis27": {
         "range": [
          -1,
          1
         ]
        },
        "yaxis28": {
         "range": [
          -1,
          1
         ]
        },
        "yaxis29": {
         "range": [
          -1,
          1
         ]
        },
        "yaxis3": {
         "anchor": "x3",
         "domain": [
          0.80625,
          1
         ],
         "range": [
          -1,
          1
         ]
        },
        "yaxis30": {
         "range": [
          -1,
          1
         ]
        },
        "yaxis31": {
         "range": [
          -1,
          1
         ]
        },
        "yaxis32": {
         "range": [
          -1,
          1
         ]
        },
        "yaxis33": {
         "range": [
          -1,
          1
         ]
        },
        "yaxis34": {
         "range": [
          -1,
          1
         ]
        },
        "yaxis35": {
         "range": [
          -1,
          1
         ]
        },
        "yaxis36": {
         "range": [
          -1,
          1
         ]
        },
        "yaxis37": {
         "range": [
          -1,
          1
         ]
        },
        "yaxis38": {
         "range": [
          -1,
          1
         ]
        },
        "yaxis39": {
         "range": [
          -1,
          1
         ]
        },
        "yaxis4": {
         "anchor": "x4",
         "domain": [
          0.5375,
          0.73125
         ],
         "range": [
          -1,
          1
         ]
        },
        "yaxis40": {
         "range": [
          -1,
          1
         ]
        },
        "yaxis41": {
         "range": [
          -1,
          1
         ]
        },
        "yaxis42": {
         "range": [
          -1,
          1
         ]
        },
        "yaxis43": {
         "range": [
          -1,
          1
         ]
        },
        "yaxis44": {
         "range": [
          -1,
          1
         ]
        },
        "yaxis45": {
         "range": [
          -1,
          1
         ]
        },
        "yaxis46": {
         "range": [
          -1,
          1
         ]
        },
        "yaxis47": {
         "range": [
          -1,
          1
         ]
        },
        "yaxis48": {
         "range": [
          -1,
          1
         ]
        },
        "yaxis49": {
         "range": [
          -1,
          1
         ]
        },
        "yaxis5": {
         "anchor": "x5",
         "domain": [
          0.5375,
          0.73125
         ],
         "range": [
          -1,
          1
         ]
        },
        "yaxis50": {
         "range": [
          -1,
          1
         ]
        },
        "yaxis51": {
         "range": [
          -1,
          1
         ]
        },
        "yaxis52": {
         "range": [
          -1,
          1
         ]
        },
        "yaxis53": {
         "range": [
          -1,
          1
         ]
        },
        "yaxis54": {
         "range": [
          -1,
          1
         ]
        },
        "yaxis55": {
         "range": [
          -1,
          1
         ]
        },
        "yaxis56": {
         "range": [
          -1,
          1
         ]
        },
        "yaxis57": {
         "range": [
          -1,
          1
         ]
        },
        "yaxis58": {
         "range": [
          -1,
          1
         ]
        },
        "yaxis59": {
         "range": [
          -1,
          1
         ]
        },
        "yaxis6": {
         "anchor": "x6",
         "domain": [
          0.5375,
          0.73125
         ],
         "range": [
          -1,
          1
         ]
        },
        "yaxis60": {
         "range": [
          -1,
          1
         ]
        },
        "yaxis7": {
         "anchor": "x7",
         "domain": [
          0.26875,
          0.4625
         ],
         "range": [
          -1,
          1
         ]
        },
        "yaxis8": {
         "anchor": "x8",
         "domain": [
          0.26875,
          0.4625
         ],
         "range": [
          -1,
          1
         ]
        },
        "yaxis9": {
         "anchor": "x9",
         "domain": [
          0.26875,
          0.4625
         ],
         "range": [
          -1,
          1
         ]
        }
       }
      },
      "text/html": [
       "<div id=\"67678433-57d7-4480-98aa-b1afb1bd25ca\" style=\"height: 1200px; width: 900px;\" class=\"plotly-graph-div\"></div><script type=\"text/javascript\">require([\"plotly\"], function(Plotly) { window.PLOTLYENV=window.PLOTLYENV || {};window.PLOTLYENV.BASE_URL=\"https://plot.ly\";Plotly.newPlot(\"67678433-57d7-4480-98aa-b1afb1bd25ca\", [{\"type\": \"scatter\", \"x\": [-0.09040234237909317, -0.1590374857187271, -0.21100746095180511, -0.20325210690498352, -0.22939248383045197, -0.228737935423851, -0.23838907480239868, -0.13282673060894012, -0.16818073391914368, -0.3513013422489166], \"y\": [-0.14884252846240997, -0.13410064578056335, -0.16317884624004364, -0.24875958263874054, -0.24248945713043213, -0.06692231446504593, -0.22840429842472076, -0.01795952022075653, -0.09312567859888077, -0.03634992614388466], \"text\": [\"obama\", \"eisenhower\", \"roosevelt\", \"clinton\", \"jefferson\", \"kennedy\", \"lincoln\", \"nixon\", \"reagan\", \"president\"], \"textposition\": \"top right\", \"name\": \"president\", \"mode\": \"markers+text\", \"marker\": {\"color\": \"rgb(255, 0, 0)\"}, \"xaxis\": \"x1\", \"yaxis\": \"y1\"}, {\"type\": \"scatter\", \"x\": [-0.24749751389026642, -0.022709887474775314, 0.02926839143037796, -0.07819052040576935, 0.160007506608963, -0.02101561240851879, 0.10713144391775131, -0.1369057446718216, -0.10993094742298126, -0.067942313849926], \"y\": [-0.08529184758663177, -0.07512971013784409, 0.05513985455036163, -0.0175563283264637, 0.09120647609233856, 0.025258593261241913, 0.05700928717851639, -0.06263979524374008, -0.027306780219078064, -0.07233592122793198], \"text\": [\"obama\", \"eisenhower\", \"roosevelt\", \"clinton\", \"jefferson\", \"kennedy\", \"lincoln\", \"nixon\", \"reagan\", \"president\"], \"textposition\": \"top right\", \"name\": \"president\", \"mode\": \"markers+text\", \"marker\": {\"color\": \"rgb(255, 0, 0)\"}, \"xaxis\": \"x2\", \"yaxis\": \"y2\"}, {\"type\": \"scatter\", \"x\": [-0.056636884808540344, -0.06381938606500626, -0.08504580706357956, -0.04035216197371483, 0.01779279299080372, 0.025283001363277435, -0.034902721643447876, -0.15261013805866241, -0.15035057067871094, -0.014011098071932793], \"y\": [0.32784563302993774, 0.2771610915660858, 0.17805330455303192, 0.2848571538925171, 0.16486071050167084, 0.26547929644584656, 0.22877828776836395, 0.2871972918510437, 0.25181490182876587, 0.34555789828300476], \"text\": [\"obama\", \"eisenhower\", \"roosevelt\", \"clinton\", \"jefferson\", \"kennedy\", \"lincoln\", \"nixon\", \"reagan\", \"president\"], \"textposition\": \"top right\", \"name\": \"president\", \"mode\": \"markers+text\", \"marker\": {\"color\": \"rgb(255, 0, 0)\"}, \"xaxis\": \"x3\", \"yaxis\": \"y3\"}, {\"type\": \"scatter\", \"x\": [-0.12025274336338043, 0.008560135029256344, 0.06649886816740036, -0.09374039620161057, -0.006613485515117645, -0.08457852900028229, 0.005376595072448254, -0.066819928586483, -0.07101427018642426, -0.08573540300130844], \"y\": [-0.22484581172466278, -0.3369557857513428, -0.386719286441803, -0.3394297659397125, -0.34607210755348206, -0.338111013174057, -0.29416826367378235, -0.2927115559577942, -0.2835823595523834, -0.23180991411209106], \"text\": [\"obama\", \"eisenhower\", \"roosevelt\", \"clinton\", \"jefferson\", \"kennedy\", \"lincoln\", \"nixon\", \"reagan\", \"president\"], \"textposition\": \"top right\", \"name\": \"president\", \"mode\": \"markers+text\", \"marker\": {\"color\": \"rgb(255, 0, 0)\"}, \"xaxis\": \"x4\", \"yaxis\": \"y4\"}, {\"type\": \"scatter\", \"x\": [-0.13541866838932037, -0.2105633169412613, -0.19492201507091522, -0.1816987842321396, -0.1850224882364273, -0.1945801079273224, -0.12706558406352997, -0.1490812748670578, -0.11963345855474472, -0.30323395133018494], \"y\": [-0.023734359070658684, -0.03576326370239258, 0.033605415374040604, 0.03814609721302986, 0.12757627665996552, -0.049841661006212234, 0.0926220715045929, -0.09805035591125488, -0.08469459414482117, -0.09974925220012665], \"text\": [\"obama\", \"eisenhower\", \"roosevelt\", \"clinton\", \"jefferson\", \"kennedy\", \"lincoln\", \"nixon\", \"reagan\", \"president\"], \"textposition\": \"top right\", \"name\": \"president\", \"mode\": \"markers+text\", \"marker\": {\"color\": \"rgb(255, 0, 0)\"}, \"xaxis\": \"x5\", \"yaxis\": \"y5\"}, {\"type\": \"scatter\", \"x\": [0.15445971488952637, -0.03595186397433281, 0.0031797040719538927, 0.09493334591388702, 0.03735838085412979, -0.07755069434642792, -0.09001264721155167, -0.0015781368128955364, 0.017504911869764328, -0.14333637058734894], \"y\": [-0.14764927327632904, 0.12449538707733154, -0.050098590552806854, -0.022925900295376778, -0.026084396988153458, 0.052469488233327866, 0.026750028133392334, -0.05413985252380371, -0.0018163446802645922, 0.03086949698626995], \"text\": [\"obama\", \"eisenhower\", \"roosevelt\", \"clinton\", \"jefferson\", \"kennedy\", \"lincoln\", \"nixon\", \"reagan\", \"president\"], \"textposition\": \"top right\", \"name\": \"president\", \"mode\": \"markers+text\", \"marker\": {\"color\": \"rgb(255, 0, 0)\"}, \"xaxis\": \"x6\", \"yaxis\": \"y6\"}, {\"type\": \"scatter\", \"x\": [-0.17406941950321198, -0.0957794338464737, -0.023692380636930466, 0.050099436193704605, 0.16900762915611267, 0.06579163670539856, 0.10996866226196289, -0.06350435316562653, -0.10000033676624298, -0.30887776613235474], \"y\": [-0.12188062816858292, 0.03358570486307144, 0.06854177266359329, 0.03737914562225342, 0.018579775467514992, -0.08131814748048782, -0.022539544850587845, -0.04173359274864197, 0.01766365021467209, 0.05186782777309418], \"text\": [\"obama\", \"eisenhower\", \"roosevelt\", \"clinton\", \"jefferson\", \"kennedy\", \"lincoln\", \"nixon\", \"reagan\", \"president\"], \"textposition\": \"top right\", \"name\": \"president\", \"mode\": \"markers+text\", \"marker\": {\"color\": \"rgb(255, 0, 0)\"}, \"xaxis\": \"x7\", \"yaxis\": \"y7\"}, {\"type\": \"scatter\", \"x\": [0.35985928773880005, 0.2381538599729538, 0.2594483196735382, 0.366218239068985, 0.2213909775018692, 0.23169538378715515, 0.11233224719762802, 0.33285337686538696, 0.342819482088089, 0.4576374292373657], \"y\": [-0.10150724649429321, -0.1847311109304428, -0.21821267902851105, -0.18512174487113953, -0.18210451304912567, -0.23398691415786743, -0.2408626675605774, -0.18749834597110748, -0.19947746396064758, -0.23484711349010468], \"text\": [\"obama\", \"eisenhower\", \"roosevelt\", \"clinton\", \"jefferson\", \"kennedy\", \"lincoln\", \"nixon\", \"reagan\", \"president\"], \"textposition\": \"top right\", \"name\": \"president\", \"mode\": \"markers+text\", \"marker\": {\"color\": \"rgb(255, 0, 0)\"}, \"xaxis\": \"x8\", \"yaxis\": \"y8\"}, {\"type\": \"scatter\", \"x\": [0.24864278733730316, 0.03384194150567055, 0.1369665116071701, 0.24370259046554565, 0.15654879808425903, 0.14416345953941345, 0.16057319939136505, 0.13423429429531097, 0.11069721728563309, 0.24215379357337952], \"y\": [-0.06794435530900955, -0.06405922770500183, -0.10709187388420105, -0.07439064979553223, 0.0014017941430211067, -0.14735423028469086, -0.004851596429944038, -0.08562881499528885, -0.04612705856561661, 0.146592378616333], \"text\": [\"obama\", \"eisenhower\", \"roosevelt\", \"clinton\", \"jefferson\", \"kennedy\", \"lincoln\", \"nixon\", \"reagan\", \"president\"], \"textposition\": \"top right\", \"name\": \"president\", \"mode\": \"markers+text\", \"marker\": {\"color\": \"rgb(255, 0, 0)\"}, \"xaxis\": \"x9\", \"yaxis\": \"y9\"}, {\"type\": \"scatter\", \"x\": [-0.08511500060558319, -0.028335392475128174, 0.028638260439038277, -0.10154584050178528, 0.009098962880671024, 0.012759155593812466, 0.06618695706129074, -0.11095402389764786, -0.08041302859783173, 0.00190612708684057], \"y\": [0.286624014377594, 0.09926704317331314, 0.20097386837005615, 0.18592828512191772, 0.21302329003810883, 0.343464732170105, 0.2760374844074249, 0.1936672180891037, 0.23145455121994019, 0.4119950234889984], \"text\": [\"obama\", \"eisenhower\", \"roosevelt\", \"clinton\", \"jefferson\", \"kennedy\", \"lincoln\", \"nixon\", \"reagan\", \"president\"], \"textposition\": \"top right\", \"name\": \"president\", \"mode\": \"markers+text\", \"marker\": {\"color\": \"rgb(255, 0, 0)\"}, \"xaxis\": \"x10\", \"yaxis\": \"y10\"}, {\"type\": \"scatter\", \"x\": [0.34863290190696716, 0.1429044008255005, 0.3632938265800476, 0.2544792890548706, 0.29165616631507874, 0.4013223648071289, 0.2630769610404968, 0.11944179981946945], \"y\": [-0.07205136865377426, 0.028291137889027596, -0.031946808099746704, 0.12227565795183182, 0.023297790437936783, 0.09590502828359604, 0.10916641354560852, -0.10909777879714966], \"text\": [\"geometry\", \"inequality\", \"arithmetic\", \"calculus\", \"algebra\", \"equation\", \"theorem\", \"mathematics\"], \"textposition\": \"top right\", \"name\": \"mathematics\", \"mode\": \"markers+text\", \"marker\": {\"color\": \"rgb(255, 218, 0)\"}, \"xaxis\": \"x1\", \"yaxis\": \"y1\"}, {\"type\": \"scatter\", \"x\": [-0.027759671211242676, -0.3055519163608551, -0.03710353374481201, -0.09261197596788406, 0.036151718348264694, -0.33168643712997437, -0.3317221701145172, -0.012303635478019714], \"y\": [0.17840838432312012, 0.1525222510099411, 0.06692277640104294, -0.023097068071365356, 0.010256367735564709, -0.04507744312286377, -0.07954487949609756, 0.20663493871688843], \"text\": [\"geometry\", \"inequality\", \"arithmetic\", \"calculus\", \"algebra\", \"equation\", \"theorem\", \"mathematics\"], \"textposition\": \"top right\", \"name\": \"mathematics\", \"mode\": \"markers+text\", \"marker\": {\"color\": \"rgb(255, 218, 0)\"}, \"xaxis\": \"x2\", \"yaxis\": \"y2\"}, {\"type\": \"scatter\", \"x\": [0.09799302369356155, 0.18069593608379364, 0.14480657875537872, 0.1764049381017685, 0.14942897856235504, 0.12232133746147156, 0.10295487940311432, 0.1438390016555786], \"y\": [0.27469080686569214, 0.014189165085554123, 0.24054351449012756, 0.19631066918373108, 0.304218590259552, 0.20390066504478455, 0.2937501072883606, 0.20779302716255188], \"text\": [\"geometry\", \"inequality\", \"arithmetic\", \"calculus\", \"algebra\", \"equation\", \"theorem\", \"mathematics\"], \"textposition\": \"top right\", \"name\": \"mathematics\", \"mode\": \"markers+text\", \"marker\": {\"color\": \"rgb(255, 218, 0)\"}, \"xaxis\": \"x3\", \"yaxis\": \"y3\"}, {\"type\": \"scatter\", \"x\": [0.05615861341357231, -0.12317942827939987, 0.0027632005512714386, 0.017502330243587494, 0.13665567338466644, 0.007664528675377369, -0.0355084128677845, 0.019604118540883064], \"y\": [-0.14990223944187164, -0.21884006261825562, -0.15800829231739044, -0.04490087926387787, -0.17824095487594604, -0.14542749524116516, -0.23564867675304413, -0.13876844942569733], \"text\": [\"geometry\", \"inequality\", \"arithmetic\", \"calculus\", \"algebra\", \"equation\", \"theorem\", \"mathematics\"], \"textposition\": \"top right\", \"name\": \"mathematics\", \"mode\": \"markers+text\", \"marker\": {\"color\": \"rgb(255, 218, 0)\"}, \"xaxis\": \"x4\", \"yaxis\": \"y4\"}, {\"type\": \"scatter\", \"x\": [-0.055258844047784805, 0.05525925010442734, -0.053465086966753006, -0.19025836884975433, -0.07706541568040848, -0.21386708319187164, -0.045202597975730896, -0.15296828746795654], \"y\": [0.15868639945983887, 0.1445574015378952, 0.0968528538942337, 0.03587470203638077, 0.0858176052570343, 0.20161542296409607, 0.1567932665348053, -0.08057916164398193], \"text\": [\"geometry\", \"inequality\", \"arithmetic\", \"calculus\", \"algebra\", \"equation\", \"theorem\", \"mathematics\"], \"textposition\": \"top right\", \"name\": \"mathematics\", \"mode\": \"markers+text\", \"marker\": {\"color\": \"rgb(255, 218, 0)\"}, \"xaxis\": \"x5\", \"yaxis\": \"y5\"}, {\"type\": \"scatter\", \"x\": [0.08327380567789078, 0.17793340981006622, 0.02699464000761509, 0.0560232512652874, 0.08348167687654495, 0.0013565093977376819, 0.16341640055179596, 0.10344197601079941], \"y\": [0.29573220014572144, 0.2871434688568115, 0.25351423025131226, 0.3145581781864166, 0.2669677734375, 0.29655933380126953, 0.2099570631980896, 0.3221367299556732], \"text\": [\"geometry\", \"inequality\", \"arithmetic\", \"calculus\", \"algebra\", \"equation\", \"theorem\", \"mathematics\"], \"textposition\": \"top right\", \"name\": \"mathematics\", \"mode\": \"markers+text\", \"marker\": {\"color\": \"rgb(255, 218, 0)\"}, \"xaxis\": \"x6\", \"yaxis\": \"y6\"}, {\"type\": \"scatter\", \"x\": [0.26896199584007263, 0.03206567093729973, 0.06436163932085037, 0.09837204962968826, 0.24422520399093628, 0.20635251700878143, 0.2229509800672531, 0.07327402383089066], \"y\": [0.031155573204159737, -0.037783995270729065, -0.13419894874095917, -0.11654037237167358, 0.07541532069444656, 0.06543421745300293, 0.14323009550571442, -0.17809517681598663], \"text\": [\"geometry\", \"inequality\", \"arithmetic\", \"calculus\", \"algebra\", \"equation\", \"theorem\", \"mathematics\"], \"textposition\": \"top right\", \"name\": \"mathematics\", \"mode\": \"markers+text\", \"marker\": {\"color\": \"rgb(255, 218, 0)\"}, \"xaxis\": \"x7\", \"yaxis\": \"y7\"}, {\"type\": \"scatter\", \"x\": [-0.13109195232391357, 0.3517830967903137, -0.21744969487190247, -0.20351867377758026, -0.0055389804765582085, 0.17840658128261566, 0.08617717772722244, -0.12433843314647675], \"y\": [-0.11890048533678055, 0.11811994761228561, -0.06968863308429718, -0.07484523206949234, 0.06592261791229248, -0.023176565766334534, 0.023593062534928322, -0.2549046576023102], \"text\": [\"geometry\", \"inequality\", \"arithmetic\", \"calculus\", \"algebra\", \"equation\", \"theorem\", \"mathematics\"], \"textposition\": \"top right\", \"name\": \"mathematics\", \"mode\": \"markers+text\", \"marker\": {\"color\": \"rgb(255, 218, 0)\"}, \"xaxis\": \"x8\", \"yaxis\": \"y8\"}, {\"type\": \"scatter\", \"x\": [-0.20615164935588837, 0.10515207052230835, -0.2334073781967163, -0.06490250676870346, -0.24969488382339478, -0.20315216481685638, -0.05827197805047035, 0.0631229430437088], \"y\": [0.3176918923854828, 0.2378128170967102, 0.31636354327201843, 0.4208785593509674, 0.3590514361858368, 0.2405286282300949, 0.26662588119506836, 0.40390488505363464], \"text\": [\"geometry\", \"inequality\", \"arithmetic\", \"calculus\", \"algebra\", \"equation\", \"theorem\", \"mathematics\"], \"textposition\": \"top right\", \"name\": \"mathematics\", \"mode\": \"markers+text\", \"marker\": {\"color\": \"rgb(255, 218, 0)\"}, \"xaxis\": \"x9\", \"yaxis\": \"y9\"}, {\"type\": \"scatter\", \"x\": [0.15991416573524475, 0.04750611260533333, 0.24477745592594147, 0.2650982141494751, 0.20875373482704163, 0.18714559078216553, 0.11888554692268372, 0.28600868582725525], \"y\": [0.37572693824768066, 0.18405334651470184, 0.24414443969726562, 0.22521209716796875, 0.3729800283908844, 0.3550688922405243, 0.2745567560195923, 0.44337043166160583], \"text\": [\"geometry\", \"inequality\", \"arithmetic\", \"calculus\", \"algebra\", \"equation\", \"theorem\", \"mathematics\"], \"textposition\": \"top right\", \"name\": \"mathematics\", \"mode\": \"markers+text\", \"marker\": {\"color\": \"rgb(255, 218, 0)\"}, \"xaxis\": \"x10\", \"yaxis\": \"y10\"}, {\"type\": \"scatter\", \"x\": [0.0008371510775759816, -0.05750565230846405, -0.13040024042129517, -0.1314534693956375, -0.15464600920677185, -0.13473740220069885, -0.2104227989912033, -0.15476126968860626, -0.1940041184425354, -0.15806718170642853, 0.04579794034361839], \"y\": [-0.08053095638751984, -0.16908568143844604, -0.19786164164543152, -0.23108428716659546, -0.2401929795742035, -0.2589881420135498, -0.21194887161254883, -0.2712371349334717, -0.25721970200538635, -0.2623470425605774, -0.2142122983932495], \"text\": [\"one\", \"two\", \"three\", \"four\", \"five\", \"six\", \"seven\", \"eight\", \"nine\", \"ten\", \"number\"], \"textposition\": \"top right\", \"name\": \"number\", \"mode\": \"markers+text\", \"marker\": {\"color\": \"rgb(72, 255, 0)\"}, \"xaxis\": \"x1\", \"yaxis\": \"y1\"}, {\"type\": \"scatter\", \"x\": [0.18333107233047485, 0.2998580038547516, 0.26031410694122314, 0.2535593509674072, 0.220295712351799, 0.2145608514547348, 0.1889348328113556, 0.2043529748916626, 0.18809503316879272, 0.14971914887428284, 0.18558712303638458], \"y\": [0.23235243558883667, 0.23578433692455292, 0.23204517364501953, 0.21796506643295288, 0.19966495037078857, 0.18520769476890564, 0.20228414237499237, 0.19981075823307037, 0.17062266170978546, 0.15112796425819397, 0.15769807994365692], \"text\": [\"one\", \"two\", \"three\", \"four\", \"five\", \"six\", \"seven\", \"eight\", \"nine\", \"ten\", \"number\"], \"textposition\": \"top right\", \"name\": \"number\", \"mode\": \"markers+text\", \"marker\": {\"color\": \"rgb(72, 255, 0)\"}, \"xaxis\": \"x2\", \"yaxis\": \"y2\"}, {\"type\": \"scatter\", \"x\": [0.28861966729164124, 0.3007383942604065, 0.27148619294166565, 0.2432880848646164, 0.23207803070545197, 0.18415705859661102, 0.21333782374858856, 0.18111537396907806, 0.16571372747421265, 0.1830740123987198, 0.33962276577949524], \"y\": [0.35250741243362427, 0.3659476339817047, 0.3537512421607971, 0.35430026054382324, 0.3141423761844635, 0.3033028244972229, 0.2974759042263031, 0.30119094252586365, 0.2856021225452423, 0.2610834836959839, 0.2616907060146332], \"text\": [\"one\", \"two\", \"three\", \"four\", \"five\", \"six\", \"seven\", \"eight\", \"nine\", \"ten\", \"number\"], \"textposition\": \"top right\", \"name\": \"number\", \"mode\": \"markers+text\", \"marker\": {\"color\": \"rgb(72, 255, 0)\"}, \"xaxis\": \"x3\", \"yaxis\": \"y3\"}, {\"type\": \"scatter\", \"x\": [-0.28633999824523926, -0.3606415390968323, -0.35985955595970154, -0.3580527603626251, -0.35823261737823486, -0.330250084400177, -0.32627710700035095, -0.3328726589679718, -0.3256010413169861, -0.33664464950561523, -0.31534650921821594], \"y\": [-0.14935363829135895, -0.17176754772663116, -0.19848893582820892, -0.20183908939361572, -0.22343195974826813, -0.22118540108203888, -0.22994457185268402, -0.22296038269996643, -0.2196388840675354, -0.21613477170467377, -0.18298551440238953], \"text\": [\"one\", \"two\", \"three\", \"four\", \"five\", \"six\", \"seven\", \"eight\", \"nine\", \"ten\", \"number\"], \"textposition\": \"top right\", \"name\": \"number\", \"mode\": \"markers+text\", \"marker\": {\"color\": \"rgb(72, 255, 0)\"}, \"xaxis\": \"x4\", \"yaxis\": \"y4\"}, {\"type\": \"scatter\", \"x\": [0.030131366103887558, 0.06585843861103058, 0.06955064833164215, 0.08087005466222763, 0.07245312631130219, 0.06020750105381012, 0.08186640590429306, 0.04842066019773483, 0.0589725598692894, 0.08253432810306549, 0.15254266560077667], \"y\": [0.2091149389743805, 0.24274681508541107, 0.22737503051757812, 0.2057695984840393, 0.1972195953130722, 0.19214299321174622, 0.2135430872440338, 0.19467052817344666, 0.19667789340019226, 0.15558293461799622, 0.20061619579792023], \"text\": [\"one\", \"two\", \"three\", \"four\", \"five\", \"six\", \"seven\", \"eight\", \"nine\", \"ten\", \"number\"], \"textposition\": \"top right\", \"name\": \"number\", \"mode\": \"markers+text\", \"marker\": {\"color\": \"rgb(72, 255, 0)\"}, \"xaxis\": \"x5\", \"yaxis\": \"y5\"}, {\"type\": \"scatter\", \"x\": [-0.3390083909034729, -0.43601468205451965, -0.4175383746623993, -0.42416709661483765, -0.36369702219963074, -0.39055100083351135, -0.3386916220188141, -0.3626590371131897, -0.3071451783180237, -0.27331626415252686, -0.2644815444946289], \"y\": [-0.21606317162513733, -0.1936318427324295, -0.20501191914081573, -0.1894499510526657, -0.20358648896217346, -0.17909102141857147, -0.18638040125370026, -0.1675659418106079, -0.16225136816501617, -0.22167375683784485, -0.160935640335083], \"text\": [\"one\", \"two\", \"three\", \"four\", \"five\", \"six\", \"seven\", \"eight\", \"nine\", \"ten\", \"number\"], \"textposition\": \"top right\", \"name\": \"number\", \"mode\": \"markers+text\", \"marker\": {\"color\": \"rgb(72, 255, 0)\"}, \"xaxis\": \"x6\", \"yaxis\": \"y6\"}, {\"type\": \"scatter\", \"x\": [-0.1803114414215088, -0.1318260282278061, -0.1286649852991104, -0.10708709806203842, -0.12292157113552094, -0.12556345760822296, -0.09805786609649658, -0.09608173370361328, -0.0770205557346344, -0.10890545696020126, -0.15007740259170532], \"y\": [-0.17104937136173248, -0.2865693271160126, -0.3130614459514618, -0.32351744174957275, -0.3623742461204529, -0.36421555280685425, -0.37511366605758667, -0.3967669606208801, -0.4030633568763733, -0.38528069853782654, -0.39283129572868347], \"text\": [\"one\", \"two\", \"three\", \"four\", \"five\", \"six\", \"seven\", \"eight\", \"nine\", \"ten\", \"number\"], \"textposition\": \"top right\", \"name\": \"number\", \"mode\": \"markers+text\", \"marker\": {\"color\": \"rgb(72, 255, 0)\"}, \"xaxis\": \"x7\", \"yaxis\": \"y7\"}, {\"type\": \"scatter\", \"x\": [0.0662502571940422, 7.754830585327e-05, -0.008906903676688671, -0.013303564861416817, 0.016500074416399002, 0.0027513557579368353, -0.0029493693727999926, -0.012285621836781502, 0.0163565780967474, 0.061238717287778854, 0.127014622092247], \"y\": [-0.3510423004627228, -0.36189892888069153, -0.3446846008300781, -0.30461737513542175, -0.29119008779525757, -0.2839932143688202, -0.24258317053318024, -0.22781527042388916, -0.20903514325618744, -0.2380310744047165, -0.3426656723022461], \"text\": [\"one\", \"two\", \"three\", \"four\", \"five\", \"six\", \"seven\", \"eight\", \"nine\", \"ten\", \"number\"], \"textposition\": \"top right\", \"name\": \"number\", \"mode\": \"markers+text\", \"marker\": {\"color\": \"rgb(72, 255, 0)\"}, \"xaxis\": \"x8\", \"yaxis\": \"y8\"}, {\"type\": \"scatter\", \"x\": [0.29010581970214844, 0.18212489783763885, 0.16084204614162445, 0.0999797061085701, 0.13133227825164795, 0.09257180988788605, 0.10959521681070328, 0.050784219056367874, 0.07384126633405685, 0.07032335549592972, 0.15984436869621277], \"y\": [0.13162493705749512, 0.17624935507774353, 0.19109360873699188, 0.20637956261634827, 0.1951301246881485, 0.18502001464366913, 0.17397946119308472, 0.20601853728294373, 0.15646308660507202, 0.16568860411643982, 0.27574923634529114], \"text\": [\"one\", \"two\", \"three\", \"four\", \"five\", \"six\", \"seven\", \"eight\", \"nine\", \"ten\", \"number\"], \"textposition\": \"top right\", \"name\": \"number\", \"mode\": \"markers+text\", \"marker\": {\"color\": \"rgb(72, 255, 0)\"}, \"xaxis\": \"x9\", \"yaxis\": \"y9\"}, {\"type\": \"scatter\", \"x\": [0.03780610114336014, -0.08597331494092941, -0.0681740865111351, -0.07603488862514496, -0.06546687334775925, -0.06155294552445412, -0.05631902441382408, -0.06987683475017548, -0.07056213170289993, 0.005244128871709108, -0.059922825545072556], \"y\": [0.46804919838905334, 0.33776411414146423, 0.3222079873085022, 0.31508684158325195, 0.30579492449760437, 0.3053162395954132, 0.2692357003688812, 0.2662081718444824, 0.26693758368492126, 0.2801690697669983, 0.38481324911117554], \"text\": [\"one\", \"two\", \"three\", \"four\", \"five\", \"six\", \"seven\", \"eight\", \"nine\", \"ten\", \"number\"], \"textposition\": \"top right\", \"name\": \"number\", \"mode\": \"markers+text\", \"marker\": {\"color\": \"rgb(72, 255, 0)\"}, \"xaxis\": \"x10\", \"yaxis\": \"y10\"}, {\"type\": \"scatter\", \"x\": [0.3021464943885803, 0.4490094780921936, 0.3837807774543762, 0.4254109263420105, 0.48454201221466064, 0.2782980799674988, 0.37230244278907776, 0.2128235399723053], \"y\": [0.06768365204334259, -0.05970845744013786, -0.07509006559848785, -0.015286894515156746, -0.02786734141409397, 0.04166923835873604, 0.013589336536824703, -0.04510752111673355], \"text\": [\"chemical\", \"oxygen\", \"carbon\", \"dioxide\", \"nitrogen\", \"zinc\", \"organic\", \"chemistry\"], \"textposition\": \"top right\", \"name\": \"chemistry\", \"mode\": \"markers+text\", \"marker\": {\"color\": \"rgb(0, 255, 145)\"}, \"xaxis\": \"x1\", \"yaxis\": \"y1\"}, {\"type\": \"scatter\", \"x\": [0.15218161046504974, -0.11759696900844574, -0.01887653023004532, -0.17627105116844177, -0.09748435765504837, 0.021214835345745087, 0.17898310720920563, -0.0017814110033214092], \"y\": [0.17284831404685974, 0.09349334239959717, -0.016744544729590416, -0.07877777516841888, -0.041758324950933456, -0.0788511410355568, 0.2511698007583618, 0.19899983704090118], \"text\": [\"chemical\", \"oxygen\", \"carbon\", \"dioxide\", \"nitrogen\", \"zinc\", \"organic\", \"chemistry\"], \"textposition\": \"top right\", \"name\": \"chemistry\", \"mode\": \"markers+text\", \"marker\": {\"color\": \"rgb(0, 255, 145)\"}, \"xaxis\": \"x2\", \"yaxis\": \"y2\"}, {\"type\": \"scatter\", \"x\": [0.042274557054042816, 0.07668908685445786, 0.08550712466239929, 0.037498295307159424, 0.055079247802495956, 0.02539072558283806, -0.062116727232933044, -0.026783714070916176], \"y\": [0.04542861506342888, -0.16744980216026306, -0.0857861191034317, -0.31291747093200684, -0.22040967643260956, -0.030688483268022537, -0.10358366370201111, -0.013735995627939701], \"text\": [\"chemical\", \"oxygen\", \"carbon\", \"dioxide\", \"nitrogen\", \"zinc\", \"organic\", \"chemistry\"], \"textposition\": \"top right\", \"name\": \"chemistry\", \"mode\": \"markers+text\", \"marker\": {\"color\": \"rgb(0, 255, 145)\"}, \"xaxis\": \"x3\", \"yaxis\": \"y3\"}, {\"type\": \"scatter\", \"x\": [-0.03841058537364006, 0.061459604650735855, -0.016235290095210075, 0.024849189445376396, 0.05065051466226578, -0.11292272061109543, 0.06724980473518372, 0.024086274206638336], \"y\": [-0.00904810056090355, -0.14300203323364258, -0.1446184515953064, -0.010964932851493359, -0.027974354103207588, -0.008610742166638374, -0.04115340858697891, -0.13022203743457794], \"text\": [\"chemical\", \"oxygen\", \"carbon\", \"dioxide\", \"nitrogen\", \"zinc\", \"organic\", \"chemistry\"], \"textposition\": \"top right\", \"name\": \"chemistry\", \"mode\": \"markers+text\", \"marker\": {\"color\": \"rgb(0, 255, 145)\"}, \"xaxis\": \"x4\", \"yaxis\": \"y4\"}, {\"type\": \"scatter\", \"x\": [0.05817199498414993, 0.1555790901184082, 0.18880905210971832, 0.14196419715881348, 0.09448251873254776, 0.0693458840250969, 0.12860321998596191, -0.1104707196354866], \"y\": [0.08340778201818466, 0.21336068212985992, 0.2713511288166046, 0.3249622881412506, 0.30019351840019226, 0.22112984955310822, 0.08671517670154572, -0.1676977276802063], \"text\": [\"chemical\", \"oxygen\", \"carbon\", \"dioxide\", \"nitrogen\", \"zinc\", \"organic\", \"chemistry\"], \"textposition\": \"top right\", \"name\": \"chemistry\", \"mode\": \"markers+text\", \"marker\": {\"color\": \"rgb(0, 255, 145)\"}, \"xaxis\": \"x5\", \"yaxis\": \"y5\"}, {\"type\": \"scatter\", \"x\": [-0.33042392134666443, -0.4515284299850464, -0.35624006390571594, -0.39388716220855713, -0.3308860957622528, -0.35207587480545044, -0.20940545201301575, -0.0914054736495018], \"y\": [0.283645361661911, 0.06510449945926666, 0.050656937062740326, -0.011171855032444, 0.02317759394645691, -0.06668012589216232, 0.10932871699333191, 0.3133111298084259], \"text\": [\"chemical\", \"oxygen\", \"carbon\", \"dioxide\", \"nitrogen\", \"zinc\", \"organic\", \"chemistry\"], \"textposition\": \"top right\", \"name\": \"chemistry\", \"mode\": \"markers+text\", \"marker\": {\"color\": \"rgb(0, 255, 145)\"}, \"xaxis\": \"x6\", \"yaxis\": \"y6\"}, {\"type\": \"scatter\", \"x\": [0.0028342758305370808, -0.11728683859109879, 0.08364679664373398, 0.0316472090780735, 0.025050150230526924, 0.24852889776229858, -0.00565361836925149, 0.15484008193016052], \"y\": [-0.07829851657152176, -0.13796082139015198, 0.0061789886094629765, -0.050504766404628754, -0.06742063909769058, 0.08810916543006897, -0.042823296040296555, -0.12285419553518295], \"text\": [\"chemical\", \"oxygen\", \"carbon\", \"dioxide\", \"nitrogen\", \"zinc\", \"organic\", \"chemistry\"], \"textposition\": \"top right\", \"name\": \"chemistry\", \"mode\": \"markers+text\", \"marker\": {\"color\": \"rgb(0, 255, 145)\"}, \"xaxis\": \"x7\", \"yaxis\": \"y7\"}, {\"type\": \"scatter\", \"x\": [0.24050337076187134, 0.27910923957824707, 0.3877381980419159, 0.39967620372772217, 0.2688831686973572, 0.3280245363712311, 0.24016563594341278, -0.00843766424804926], \"y\": [-0.352346807718277, 0.002796054584905505, -0.12416684627532959, -0.12061222642660141, -0.06637221574783325, -0.21638648211956024, -0.1873023360967636, -0.32736703753471375], \"text\": [\"chemical\", \"oxygen\", \"carbon\", \"dioxide\", \"nitrogen\", \"zinc\", \"organic\", \"chemistry\"], \"textposition\": \"top right\", \"name\": \"chemistry\", \"mode\": \"markers+text\", \"marker\": {\"color\": \"rgb(0, 255, 145)\"}, \"xaxis\": \"x8\", \"yaxis\": \"y8\"}, {\"type\": \"scatter\", \"x\": [0.15051041543483734, 0.06675436347723007, 0.11844366043806076, 0.0925893485546112, 0.07625449448823929, 0.07044441998004913, 0.2085968405008316, 0.11750604212284088], \"y\": [0.4082464873790741, 0.2805728018283844, 0.3440645933151245, 0.3288537859916687, 0.3738425076007843, 0.4207497537136078, 0.4328027069568634, 0.4670335352420807], \"text\": [\"chemical\", \"oxygen\", \"carbon\", \"dioxide\", \"nitrogen\", \"zinc\", \"organic\", \"chemistry\"], \"textposition\": \"top right\", \"name\": \"chemistry\", \"mode\": \"markers+text\", \"marker\": {\"color\": \"rgb(0, 255, 145)\"}, \"xaxis\": \"x9\", \"yaxis\": \"y9\"}, {\"type\": \"scatter\", \"x\": [0.11998946219682693, 0.18162168562412262, 0.029748303815722466, 0.15155546367168427, 0.1390906274318695, -0.09517840296030045, 0.10060697793960571, 0.28869330883026123], \"y\": [0.2042224109172821, 0.21601851284503937, 0.21561062335968018, 0.11750935018062592, 0.12817437946796417, -0.05077241361141205, 0.23472535610198975, 0.35781341791152954], \"text\": [\"chemical\", \"oxygen\", \"carbon\", \"dioxide\", \"nitrogen\", \"zinc\", \"organic\", \"chemistry\"], \"textposition\": \"top right\", \"name\": \"chemistry\", \"mode\": \"markers+text\", \"marker\": {\"color\": \"rgb(0, 255, 145)\"}, \"xaxis\": \"x10\", \"yaxis\": \"y10\"}, {\"type\": \"scatter\", \"x\": [-0.11627928167581558, -0.0285841915756464, -0.14280766248703003, -0.09298118203878403, -0.09979002922773361, 0.08213590085506439, -0.16248279809951782, -0.03254826366901398, -0.017836101353168488, 0.015280279330909252], \"y\": [-0.03408430144190788, -0.04078374803066254, 0.026231111958622932, -0.13964858651161194, -0.05807103216648102, 0.06097303330898285, 0.07483064383268356, -0.02162526361644268, 0.09064076095819473, -0.3486611545085907], \"text\": [\"maradona\", \"ronaldo\", \"messi\", \"lochte\", \"phelps\", \"spitz\", \"comneci\", \"mayweather\", \"pacquiao\", \"sport\"], \"textposition\": \"top right\", \"name\": \"sport\", \"mode\": \"markers+text\", \"marker\": {\"color\": \"rgb(0, 145, 255)\"}, \"xaxis\": \"x1\", \"yaxis\": \"y1\"}, {\"type\": \"scatter\", \"x\": [-0.08986737579107285, -0.23477470874786377, -0.026745935901999474, 0.004049573093652725, 0.025867026299238205, 0.14894646406173706, -0.11557657271623611, -0.04246150702238083, -0.29214218258857727, -0.028922628611326218], \"y\": [0.09760154783725739, -0.012091920711100101, -0.03872868791222572, 0.010254441760480404, 0.0512918196618557, 0.10620678961277008, 0.1150560975074768, 0.028353266417980194, 0.011527515016496181, 0.3021928668022156], \"text\": [\"maradona\", \"ronaldo\", \"messi\", \"lochte\", \"phelps\", \"spitz\", \"comneci\", \"mayweather\", \"pacquiao\", \"sport\"], \"textposition\": \"top right\", \"name\": \"sport\", \"mode\": \"markers+text\", \"marker\": {\"color\": \"rgb(0, 145, 255)\"}, \"xaxis\": \"x2\", \"yaxis\": \"y2\"}, {\"type\": \"scatter\", \"x\": [0.06308045238256454, 0.04144991561770439, 0.09368130564689636, 0.07926798611879349, -0.07490202784538269, -0.0066614351235330105, 0.13238677382469177, -0.019652875140309334, 0.06228836253285408, -0.0046634073369205], \"y\": [-0.029646752402186394, 0.06288128346204758, 0.11617664992809296, 0.003011064836755395, 0.03623950108885765, -0.058183442801237106, -0.1382964849472046, 0.06846543401479721, 0.005064800847321749, 0.16656093299388885], \"text\": [\"maradona\", \"ronaldo\", \"messi\", \"lochte\", \"phelps\", \"spitz\", \"comneci\", \"mayweather\", \"pacquiao\", \"sport\"], \"textposition\": \"top right\", \"name\": \"sport\", \"mode\": \"markers+text\", \"marker\": {\"color\": \"rgb(0, 145, 255)\"}, \"xaxis\": \"x3\", \"yaxis\": \"y3\"}, {\"type\": \"scatter\", \"x\": [-0.09854706376791, -0.1973743587732315, -0.18859675526618958, -0.3041311502456665, -0.0926247164607048, -0.0199496541172266, -0.10246661305427551, -0.1754133552312851, -0.19374477863311768, -0.045625217258930206], \"y\": [0.16242489218711853, 0.17558355629444122, -0.027319155633449554, -0.07946498692035675, -0.2293912023305893, 0.10039158910512924, -0.03183606266975403, 0.00023616709222551435, 0.15884967148303986, 0.19427677989006042], \"text\": [\"maradona\", \"ronaldo\", \"messi\", \"lochte\", \"phelps\", \"spitz\", \"comneci\", \"mayweather\", \"pacquiao\", \"sport\"], \"textposition\": \"top right\", \"name\": \"sport\", \"mode\": \"markers+text\", \"marker\": {\"color\": \"rgb(0, 145, 255)\"}, \"xaxis\": \"x4\", \"yaxis\": \"y4\"}, {\"type\": \"scatter\", \"x\": [-0.2807307839393616, -0.33307352662086487, -0.18953534960746765, -0.18125490844249725, -0.2336004227399826, -0.15408925712108612, -0.1293264478445053, -0.19683358073234558, -0.2547188997268677, 0.02265484258532524], \"y\": [-0.09493065625429153, -0.01862930692732334, -0.11630865186452866, -0.20447257161140442, -0.05924740806221962, -0.09056687355041504, -0.05828598141670227, 0.0009296605130657554, -0.01838626153767109, -0.18754500150680542], \"text\": [\"maradona\", \"ronaldo\", \"messi\", \"lochte\", \"phelps\", \"spitz\", \"comneci\", \"mayweather\", \"pacquiao\", \"sport\"], \"textposition\": \"top right\", \"name\": \"sport\", \"mode\": \"markers+text\", \"marker\": {\"color\": \"rgb(0, 145, 255)\"}, \"xaxis\": \"x5\", \"yaxis\": \"y5\"}, {\"type\": \"scatter\", \"x\": [-0.1995433270931244, -0.09971504658460617, -0.08029971271753311, -0.13202141225337982, -0.09375856071710587, -0.14505064487457275, -0.0375949963927269, -0.22649244964122772, -0.3274674415588379, -0.2391372174024582], \"y\": [-0.08455709367990494, -0.11909879744052887, -0.06110258027911186, -0.06778428703546524, -0.08422181755304337, -0.13708245754241943, -0.009898381307721138, -0.18142810463905334, -0.14527958631515503, -0.054687462747097015], \"text\": [\"maradona\", \"ronaldo\", \"messi\", \"lochte\", \"phelps\", \"spitz\", \"comneci\", \"mayweather\", \"pacquiao\", \"sport\"], \"textposition\": \"top right\", \"name\": \"sport\", \"mode\": \"markers+text\", \"marker\": {\"color\": \"rgb(0, 145, 255)\"}, \"xaxis\": \"x6\", \"yaxis\": \"y6\"}, {\"type\": \"scatter\", \"x\": [0.024012360721826553, 0.10044863820075989, 0.10248589515686035, 0.026575416326522827, 0.21098588407039642, 0.06730428338050842, -0.18068811297416687, 0.1041794866323471, -0.11657098680734634, -0.09787771105766296], \"y\": [-0.06610924750566483, -0.0809004008769989, -0.020213527604937553, -0.012361295521259308, 0.003197380807250738, -0.034872058779001236, -0.0013095985632389784, 0.1481492668390274, -0.013258343562483788, -0.18353232741355896], \"text\": [\"maradona\", \"ronaldo\", \"messi\", \"lochte\", \"phelps\", \"spitz\", \"comneci\", \"mayweather\", \"pacquiao\", \"sport\"], \"textposition\": \"top right\", \"name\": \"sport\", \"mode\": \"markers+text\", \"marker\": {\"color\": \"rgb(0, 145, 255)\"}, \"xaxis\": \"x7\", \"yaxis\": \"y7\"}, {\"type\": \"scatter\", \"x\": [0.013616777025163174, 0.05101627856492996, -0.06922795623540878, -0.033430103212594986, 0.1904926747083664, 0.015941083431243896, -0.3078881502151489, 0.1603132039308548, 0.04566037654876709, 0.15752777457237244], \"y\": [-0.11254783719778061, 0.006528024561703205, -0.09800118207931519, -0.014289755374193192, -0.10794352740049362, -0.04861222207546234, 0.10250377655029297, -0.14139196276664734, 0.011934444308280945, -0.10539766401052475], \"text\": [\"maradona\", \"ronaldo\", \"messi\", \"lochte\", \"phelps\", \"spitz\", \"comneci\", \"mayweather\", \"pacquiao\", \"sport\"], \"textposition\": \"top right\", \"name\": \"sport\", \"mode\": \"markers+text\", \"marker\": {\"color\": \"rgb(0, 145, 255)\"}, \"xaxis\": \"x8\", \"yaxis\": \"y8\"}, {\"type\": \"scatter\", \"x\": [0.09244620054960251, -0.0014719461323693395, -0.04411100223660469, -0.03668714687228203, 0.12245560437440872, -0.1475340723991394, 0.018077800050377846, -0.1540209949016571, -0.017580552026629448, 0.13052548468112946], \"y\": [-0.09628556668758392, 0.00821906328201294, -0.1546047031879425, -0.1879989504814148, 0.026865312829613686, 0.1313248872756958, -0.00805571023374796, -0.23792485892772675, -0.08646612614393234, 0.2255801260471344], \"text\": [\"maradona\", \"ronaldo\", \"messi\", \"lochte\", \"phelps\", \"spitz\", \"comneci\", \"mayweather\", \"pacquiao\", \"sport\"], \"textposition\": \"top right\", \"name\": \"sport\", \"mode\": \"markers+text\", \"marker\": {\"color\": \"rgb(0, 145, 255)\"}, \"xaxis\": \"x9\", \"yaxis\": \"y9\"}, {\"type\": \"scatter\", \"x\": [0.11451905220746994, 0.006894899066537619, -0.046252623200416565, -0.11295507848262787, -0.05199180170893669, -0.09672118723392487, -0.011646458879113197, -0.1435011327266693, -0.05114014446735382, 0.19001640379428864], \"y\": [-0.04940740764141083, -0.0782417431473732, -0.012071260251104832, 0.05548098683357239, 0.05377329885959625, 0.16275522112846375, 0.05993909761309624, -0.018335619941353798, -0.012805460952222347, 0.32285621762275696], \"text\": [\"maradona\", \"ronaldo\", \"messi\", \"lochte\", \"phelps\", \"spitz\", \"comneci\", \"mayweather\", \"pacquiao\", \"sport\"], \"textposition\": \"top right\", \"name\": \"sport\", \"mode\": \"markers+text\", \"marker\": {\"color\": \"rgb(0, 145, 255)\"}, \"xaxis\": \"x10\", \"yaxis\": \"y10\"}, {\"type\": \"scatter\", \"x\": [-0.33110031485557556, -0.37655821442604065, -0.2824689447879791, -0.3431885838508606, -0.35128286480903625, -0.3176722526550293, -0.2840248644351959, -0.42374834418296814, -0.20349402725696564], \"y\": [-0.16300314664840698, -0.132794588804245, -0.13084757328033447, -0.2320266216993332, -0.06016528606414795, -0.15727728605270386, -0.10921812802553177, -0.06828926503658295, -0.23185285925865173], \"text\": [\"romania\", \"france\", \"germany\", \"england\", \"russia\", \"india\", \"china\", \"spain\", \"country\"], \"textposition\": \"top right\", \"name\": \"country\", \"mode\": \"markers+text\", \"marker\": {\"color\": \"rgb(72, 0, 255)\"}, \"xaxis\": \"x1\", \"yaxis\": \"y1\"}, {\"type\": \"scatter\", \"x\": [-0.2595435082912445, -0.07649842649698257, -0.024985358119010925, 0.04749680683016777, -0.09564805030822754, 0.06261321902275085, 0.05004778876900673, -0.12270091474056244, 0.05979936569929123], \"y\": [0.030120737850666046, 0.07660441100597382, 0.0714595839381218, 0.3007129728794098, 0.09744729846715927, 0.09410092979669571, 0.12326841056346893, 0.052671123296022415, 0.3404853343963623], \"text\": [\"romania\", \"france\", \"germany\", \"england\", \"russia\", \"india\", \"china\", \"spain\", \"country\"], \"textposition\": \"top right\", \"name\": \"country\", \"mode\": \"markers+text\", \"marker\": {\"color\": \"rgb(72, 0, 255)\"}, \"xaxis\": \"x2\", \"yaxis\": \"y2\"}, {\"type\": \"scatter\", \"x\": [-0.024630596861243248, 0.09184126555919647, -0.0031061547342687845, 0.026454171165823936, 0.059874776750802994, 0.18411321938037872, 0.1314372718334198, 0.1734013557434082, 0.18234752118587494], \"y\": [-0.021315250545740128, 0.03069249354302883, -0.025185763835906982, 0.26700323820114136, 0.08775029331445694, 0.1959027349948883, 0.15185856819152832, 0.06330057233572006, 0.1963135451078415], \"text\": [\"romania\", \"france\", \"germany\", \"england\", \"russia\", \"india\", \"china\", \"spain\", \"country\"], \"textposition\": \"top right\", \"name\": \"country\", \"mode\": \"markers+text\", \"marker\": {\"color\": \"rgb(72, 0, 255)\"}, \"xaxis\": \"x3\", \"yaxis\": \"y3\"}, {\"type\": \"scatter\", \"x\": [0.10817085951566696, 0.20649297535419464, 0.1380304992198944, -0.09001117944717407, 0.10322841256856918, 0.10046853870153427, 0.15911529958248138, 0.07038765400648117, -0.09472252428531647], \"y\": [0.17083926498889923, -0.047584567219018936, -0.001936516840942204, -0.21380992233753204, 0.10690278559923172, 0.04737657681107521, 0.12280480563640594, 0.02806839905679226, -0.0428713895380497], \"text\": [\"romania\", \"france\", \"germany\", \"england\", \"russia\", \"india\", \"china\", \"spain\", \"country\"], \"textposition\": \"top right\", \"name\": \"country\", \"mode\": \"markers+text\", \"marker\": {\"color\": \"rgb(72, 0, 255)\"}, \"xaxis\": \"x4\", \"yaxis\": \"y4\"}, {\"type\": \"scatter\", \"x\": [-0.1819828897714615, -0.1257191002368927, -0.15046383440494537, -0.21216103434562683, -0.14467130601406097, -0.08111579716205597, 0.02064436301589012, -0.10817287862300873, 0.12625664472579956], \"y\": [0.3386076092720032, 0.26281270384788513, 0.2716953158378601, 0.24251830577850342, 0.32672640681266785, 0.2401474118232727, 0.30060717463493347, 0.33344247937202454, 0.1677122563123703], \"text\": [\"romania\", \"france\", \"germany\", \"england\", \"russia\", \"india\", \"china\", \"spain\", \"country\"], \"textposition\": \"top right\", \"name\": \"country\", \"mode\": \"markers+text\", \"marker\": {\"color\": \"rgb(72, 0, 255)\"}, \"xaxis\": \"x5\", \"yaxis\": \"y5\"}, {\"type\": \"scatter\", \"x\": [-0.012004857882857323, -0.26465240120887756, -0.24799002707004547, -0.25067344307899475, -0.13928033411502838, -0.12669500708580017, -0.24573203921318054, -0.2397902011871338, -0.17923466861248016], \"y\": [-0.00736235361546278, -0.08354529738426208, 0.01709449104964733, -0.06358413398265839, -0.0018529054941609502, 0.08557355403900146, 0.024891573935747147, -0.17620353400707245, -0.21253499388694763], \"text\": [\"romania\", \"france\", \"germany\", \"england\", \"russia\", \"india\", \"china\", \"spain\", \"country\"], \"textposition\": \"top right\", \"name\": \"country\", \"mode\": \"markers+text\", \"marker\": {\"color\": \"rgb(72, 0, 255)\"}, \"xaxis\": \"x6\", \"yaxis\": \"y6\"}, {\"type\": \"scatter\", \"x\": [-0.12282972037792206, -0.27318069338798523, -0.2860591411590576, -0.05364571884274483, -0.2842774987220764, -0.16404137015342712, -0.2560650110244751, -0.24193334579467773, -0.17309927940368652], \"y\": [-0.031156983226537704, -0.12302334606647491, -0.2257336676120758, -0.09950774908065796, -0.1971132606267929, -0.18370461463928223, -0.21273218095302582, -0.18284621834754944, -0.1869105100631714], \"text\": [\"romania\", \"france\", \"germany\", \"england\", \"russia\", \"india\", \"china\", \"spain\", \"country\"], \"textposition\": \"top right\", \"name\": \"country\", \"mode\": \"markers+text\", \"marker\": {\"color\": \"rgb(72, 0, 255)\"}, \"xaxis\": \"x7\", \"yaxis\": \"y7\"}, {\"type\": \"scatter\", \"x\": [0.25662845373153687, 0.1723639965057373, 0.15573866665363312, -0.02392389066517353, 0.22297881543636322, 0.1953698694705963, 0.24644707143306732, 0.16597437858581543, 0.27038323879241943], \"y\": [-0.0031025775242596865, -0.3769231140613556, -0.33445101976394653, -0.3771778643131256, -0.2222209870815277, -0.13050025701522827, -0.18117904663085938, -0.24715448915958405, -0.22164395451545715], \"text\": [\"romania\", \"france\", \"germany\", \"england\", \"russia\", \"india\", \"china\", \"spain\", \"country\"], \"textposition\": \"top right\", \"name\": \"country\", \"mode\": \"markers+text\", \"marker\": {\"color\": \"rgb(72, 0, 255)\"}, \"xaxis\": \"x8\", \"yaxis\": \"y8\"}, {\"type\": \"scatter\", \"x\": [0.15711919963359833, 0.06923028081655502, 0.13105912506580353, 0.37430593371391296, 0.148107647895813, 0.3263745903968811, 0.20725300908088684, 0.13187237083911896, 0.2921106517314911], \"y\": [0.2548139691352844, 0.28161096572875977, 0.28679150342941284, 0.2122417688369751, 0.25031954050064087, 0.30834245681762695, 0.23199334740638733, 0.31868717074394226, 0.10590243339538574], \"text\": [\"romania\", \"france\", \"germany\", \"england\", \"russia\", \"india\", \"china\", \"spain\", \"country\"], \"textposition\": \"top right\", \"name\": \"country\", \"mode\": \"markers+text\", \"marker\": {\"color\": \"rgb(72, 0, 255)\"}, \"xaxis\": \"x9\", \"yaxis\": \"y9\"}, {\"type\": \"scatter\", \"x\": [0.15365256369113922, 0.2939273715019226, 0.24345935881137848, 0.0319148413836956, 0.16572101414203644, 0.09184396266937256, 0.11074942350387573, 0.23642344772815704, 0.039025723934173584], \"y\": [0.19142542779445648, 0.26827511191368103, 0.2874777913093567, 0.20209595561027527, 0.2235240787267685, 0.2970391809940338, 0.3290484845638275, 0.18595723807811737, 0.4143686294555664], \"text\": [\"romania\", \"france\", \"germany\", \"england\", \"russia\", \"india\", \"china\", \"spain\", \"country\"], \"textposition\": \"top right\", \"name\": \"country\", \"mode\": \"markers+text\", \"marker\": {\"color\": \"rgb(72, 0, 255)\"}, \"xaxis\": \"x10\", \"yaxis\": \"y10\"}], {\"xaxis1\": {\"domain\": [0.0, 0.2888888888888889], \"anchor\": \"y1\", \"range\": [-1, 1]}, \"yaxis1\": {\"domain\": [0.80625, 1.0], \"anchor\": \"x1\", \"range\": [-1, 1]}, \"xaxis2\": {\"domain\": [0.35555555555555557, 0.6444444444444445], \"anchor\": \"y2\", \"range\": [-1, 1]}, \"yaxis2\": {\"domain\": [0.80625, 1.0], \"anchor\": \"x2\", \"range\": [-1, 1]}, \"xaxis3\": {\"domain\": [0.7111111111111111, 1.0], \"anchor\": \"y3\", \"range\": [-1, 1]}, \"yaxis3\": {\"domain\": [0.80625, 1.0], \"anchor\": \"x3\", \"range\": [-1, 1]}, \"xaxis4\": {\"domain\": [0.0, 0.2888888888888889], \"anchor\": \"y4\", \"range\": [-1, 1]}, \"yaxis4\": {\"domain\": [0.5375, 0.73125], \"anchor\": \"x4\", \"range\": [-1, 1]}, \"xaxis5\": {\"domain\": [0.35555555555555557, 0.6444444444444445], \"anchor\": \"y5\", \"range\": [-1, 1]}, \"yaxis5\": {\"domain\": [0.5375, 0.73125], \"anchor\": \"x5\", \"range\": [-1, 1]}, \"xaxis6\": {\"domain\": [0.7111111111111111, 1.0], \"anchor\": \"y6\", \"range\": [-1, 1]}, \"yaxis6\": {\"domain\": [0.5375, 0.73125], \"anchor\": \"x6\", \"range\": [-1, 1]}, \"xaxis7\": {\"domain\": [0.0, 0.2888888888888889], \"anchor\": \"y7\", \"range\": [-1, 1]}, \"yaxis7\": {\"domain\": [0.26875, 0.4625], \"anchor\": \"x7\", \"range\": [-1, 1]}, \"xaxis8\": {\"domain\": [0.35555555555555557, 0.6444444444444445], \"anchor\": \"y8\", \"range\": [-1, 1]}, \"yaxis8\": {\"domain\": [0.26875, 0.4625], \"anchor\": \"x8\", \"range\": [-1, 1]}, \"xaxis9\": {\"domain\": [0.7111111111111111, 1.0], \"anchor\": \"y9\", \"range\": [-1, 1]}, \"yaxis9\": {\"domain\": [0.26875, 0.4625], \"anchor\": \"x9\", \"range\": [-1, 1]}, \"xaxis10\": {\"domain\": [0.0, 0.2888888888888889], \"anchor\": \"y10\", \"range\": [-1, 1]}, \"yaxis10\": {\"domain\": [0.0, 0.19375], \"anchor\": \"x10\", \"range\": [-1, 1]}, \"xaxis11\": {\"domain\": [0.35555555555555557, 0.6444444444444445], \"anchor\": \"y11\", \"range\": [-1, 1]}, \"yaxis11\": {\"domain\": [0.0, 0.19375], \"anchor\": \"x11\", \"range\": [-1, 1]}, \"xaxis12\": {\"domain\": [0.7111111111111111, 1.0], \"anchor\": \"y12\", \"range\": [-1, 1]}, \"yaxis12\": {\"domain\": [0.0, 0.19375], \"anchor\": \"x12\", \"range\": [-1, 1]}, \"width\": 900, \"height\": 1200, \"xaxis13\": {\"range\": [-1, 1]}, \"yaxis13\": {\"range\": [-1, 1]}, \"xaxis14\": {\"range\": [-1, 1]}, \"yaxis14\": {\"range\": [-1, 1]}, \"xaxis15\": {\"range\": [-1, 1]}, \"yaxis15\": {\"range\": [-1, 1]}, \"xaxis16\": {\"range\": [-1, 1]}, \"yaxis16\": {\"range\": [-1, 1]}, \"xaxis17\": {\"range\": [-1, 1]}, \"yaxis17\": {\"range\": [-1, 1]}, \"xaxis18\": {\"range\": [-1, 1]}, \"yaxis18\": {\"range\": [-1, 1]}, \"xaxis19\": {\"range\": [-1, 1]}, \"yaxis19\": {\"range\": [-1, 1]}, \"xaxis20\": {\"range\": [-1, 1]}, \"yaxis20\": {\"range\": [-1, 1]}, \"xaxis21\": {\"range\": [-1, 1]}, \"yaxis21\": {\"range\": [-1, 1]}, \"xaxis22\": {\"range\": [-1, 1]}, \"yaxis22\": {\"range\": [-1, 1]}, \"xaxis23\": {\"range\": [-1, 1]}, \"yaxis23\": {\"range\": [-1, 1]}, \"xaxis24\": {\"range\": [-1, 1]}, \"yaxis24\": {\"range\": [-1, 1]}, \"xaxis25\": {\"range\": [-1, 1]}, \"yaxis25\": {\"range\": [-1, 1]}, \"xaxis26\": {\"range\": [-1, 1]}, \"yaxis26\": {\"range\": [-1, 1]}, \"xaxis27\": {\"range\": [-1, 1]}, \"yaxis27\": {\"range\": [-1, 1]}, \"xaxis28\": {\"range\": [-1, 1]}, \"yaxis28\": {\"range\": [-1, 1]}, \"xaxis29\": {\"range\": [-1, 1]}, \"yaxis29\": {\"range\": [-1, 1]}, \"xaxis30\": {\"range\": [-1, 1]}, \"yaxis30\": {\"range\": [-1, 1]}, \"xaxis31\": {\"range\": [-1, 1]}, \"yaxis31\": {\"range\": [-1, 1]}, \"xaxis32\": {\"range\": [-1, 1]}, \"yaxis32\": {\"range\": [-1, 1]}, \"xaxis33\": {\"range\": [-1, 1]}, \"yaxis33\": {\"range\": [-1, 1]}, \"xaxis34\": {\"range\": [-1, 1]}, \"yaxis34\": {\"range\": [-1, 1]}, \"xaxis35\": {\"range\": [-1, 1]}, \"yaxis35\": {\"range\": [-1, 1]}, \"xaxis36\": {\"range\": [-1, 1]}, \"yaxis36\": {\"range\": [-1, 1]}, \"xaxis37\": {\"range\": [-1, 1]}, \"yaxis37\": {\"range\": [-1, 1]}, \"xaxis38\": {\"range\": [-1, 1]}, \"yaxis38\": {\"range\": [-1, 1]}, \"xaxis39\": {\"range\": [-1, 1]}, \"yaxis39\": {\"range\": [-1, 1]}, \"xaxis40\": {\"range\": [-1, 1]}, \"yaxis40\": {\"range\": [-1, 1]}, \"xaxis41\": {\"range\": [-1, 1]}, \"yaxis41\": {\"range\": [-1, 1]}, \"xaxis42\": {\"range\": [-1, 1]}, \"yaxis42\": {\"range\": [-1, 1]}, \"xaxis43\": {\"range\": [-1, 1]}, \"yaxis43\": {\"range\": [-1, 1]}, \"xaxis44\": {\"range\": [-1, 1]}, \"yaxis44\": {\"range\": [-1, 1]}, \"xaxis45\": {\"range\": [-1, 1]}, \"yaxis45\": {\"range\": [-1, 1]}, \"xaxis46\": {\"range\": [-1, 1]}, \"yaxis46\": {\"range\": [-1, 1]}, \"xaxis47\": {\"range\": [-1, 1]}, \"yaxis47\": {\"range\": [-1, 1]}, \"xaxis48\": {\"range\": [-1, 1]}, \"yaxis48\": {\"range\": [-1, 1]}, \"xaxis49\": {\"range\": [-1, 1]}, \"yaxis49\": {\"range\": [-1, 1]}, \"xaxis50\": {\"range\": [-1, 1]}, \"yaxis50\": {\"range\": [-1, 1]}, \"xaxis51\": {\"range\": [-1, 1]}, \"yaxis51\": {\"range\": [-1, 1]}, \"xaxis52\": {\"range\": [-1, 1]}, \"yaxis52\": {\"range\": [-1, 1]}, \"xaxis53\": {\"range\": [-1, 1]}, \"yaxis53\": {\"range\": [-1, 1]}, \"xaxis54\": {\"range\": [-1, 1]}, \"yaxis54\": {\"range\": [-1, 1]}, \"xaxis55\": {\"range\": [-1, 1]}, \"yaxis55\": {\"range\": [-1, 1]}, \"xaxis56\": {\"range\": [-1, 1]}, \"yaxis56\": {\"range\": [-1, 1]}, \"xaxis57\": {\"range\": [-1, 1]}, \"yaxis57\": {\"range\": [-1, 1]}, \"xaxis58\": {\"range\": [-1, 1]}, \"yaxis58\": {\"range\": [-1, 1]}, \"xaxis59\": {\"range\": [-1, 1]}, \"yaxis59\": {\"range\": [-1, 1]}, \"xaxis60\": {\"range\": [-1, 1]}, \"yaxis60\": {\"range\": [-1, 1]}}, {\"showLink\": true, \"linkText\": \"Export to plot.ly\"})});</script>"
      ],
      "text/vnd.plotly.v1+html": [
       "<div id=\"67678433-57d7-4480-98aa-b1afb1bd25ca\" style=\"height: 1200px; width: 900px;\" class=\"plotly-graph-div\"></div><script type=\"text/javascript\">require([\"plotly\"], function(Plotly) { window.PLOTLYENV=window.PLOTLYENV || {};window.PLOTLYENV.BASE_URL=\"https://plot.ly\";Plotly.newPlot(\"67678433-57d7-4480-98aa-b1afb1bd25ca\", [{\"type\": \"scatter\", \"x\": [-0.09040234237909317, -0.1590374857187271, -0.21100746095180511, -0.20325210690498352, -0.22939248383045197, -0.228737935423851, -0.23838907480239868, -0.13282673060894012, -0.16818073391914368, -0.3513013422489166], \"y\": [-0.14884252846240997, -0.13410064578056335, -0.16317884624004364, -0.24875958263874054, -0.24248945713043213, -0.06692231446504593, -0.22840429842472076, -0.01795952022075653, -0.09312567859888077, -0.03634992614388466], \"text\": [\"obama\", \"eisenhower\", \"roosevelt\", \"clinton\", \"jefferson\", \"kennedy\", \"lincoln\", \"nixon\", \"reagan\", \"president\"], \"textposition\": \"top right\", \"name\": \"president\", \"mode\": \"markers+text\", \"marker\": {\"color\": \"rgb(255, 0, 0)\"}, \"xaxis\": \"x1\", \"yaxis\": \"y1\"}, {\"type\": \"scatter\", \"x\": [-0.24749751389026642, -0.022709887474775314, 0.02926839143037796, -0.07819052040576935, 0.160007506608963, -0.02101561240851879, 0.10713144391775131, -0.1369057446718216, -0.10993094742298126, -0.067942313849926], \"y\": [-0.08529184758663177, -0.07512971013784409, 0.05513985455036163, -0.0175563283264637, 0.09120647609233856, 0.025258593261241913, 0.05700928717851639, -0.06263979524374008, -0.027306780219078064, -0.07233592122793198], \"text\": [\"obama\", \"eisenhower\", \"roosevelt\", \"clinton\", \"jefferson\", \"kennedy\", \"lincoln\", \"nixon\", \"reagan\", \"president\"], \"textposition\": \"top right\", \"name\": \"president\", \"mode\": \"markers+text\", \"marker\": {\"color\": \"rgb(255, 0, 0)\"}, \"xaxis\": \"x2\", \"yaxis\": \"y2\"}, {\"type\": \"scatter\", \"x\": [-0.056636884808540344, -0.06381938606500626, -0.08504580706357956, -0.04035216197371483, 0.01779279299080372, 0.025283001363277435, -0.034902721643447876, -0.15261013805866241, -0.15035057067871094, -0.014011098071932793], \"y\": [0.32784563302993774, 0.2771610915660858, 0.17805330455303192, 0.2848571538925171, 0.16486071050167084, 0.26547929644584656, 0.22877828776836395, 0.2871972918510437, 0.25181490182876587, 0.34555789828300476], \"text\": [\"obama\", \"eisenhower\", \"roosevelt\", \"clinton\", \"jefferson\", \"kennedy\", \"lincoln\", \"nixon\", \"reagan\", \"president\"], \"textposition\": \"top right\", \"name\": \"president\", \"mode\": \"markers+text\", \"marker\": {\"color\": \"rgb(255, 0, 0)\"}, \"xaxis\": \"x3\", \"yaxis\": \"y3\"}, {\"type\": \"scatter\", \"x\": [-0.12025274336338043, 0.008560135029256344, 0.06649886816740036, -0.09374039620161057, -0.006613485515117645, -0.08457852900028229, 0.005376595072448254, -0.066819928586483, -0.07101427018642426, -0.08573540300130844], \"y\": [-0.22484581172466278, -0.3369557857513428, -0.386719286441803, -0.3394297659397125, -0.34607210755348206, -0.338111013174057, -0.29416826367378235, -0.2927115559577942, -0.2835823595523834, -0.23180991411209106], \"text\": [\"obama\", \"eisenhower\", \"roosevelt\", \"clinton\", \"jefferson\", \"kennedy\", \"lincoln\", \"nixon\", \"reagan\", \"president\"], \"textposition\": \"top right\", \"name\": \"president\", \"mode\": \"markers+text\", \"marker\": {\"color\": \"rgb(255, 0, 0)\"}, \"xaxis\": \"x4\", \"yaxis\": \"y4\"}, {\"type\": \"scatter\", \"x\": [-0.13541866838932037, -0.2105633169412613, -0.19492201507091522, -0.1816987842321396, -0.1850224882364273, -0.1945801079273224, -0.12706558406352997, -0.1490812748670578, -0.11963345855474472, -0.30323395133018494], \"y\": [-0.023734359070658684, -0.03576326370239258, 0.033605415374040604, 0.03814609721302986, 0.12757627665996552, -0.049841661006212234, 0.0926220715045929, -0.09805035591125488, -0.08469459414482117, -0.09974925220012665], \"text\": [\"obama\", \"eisenhower\", \"roosevelt\", \"clinton\", \"jefferson\", \"kennedy\", \"lincoln\", \"nixon\", \"reagan\", \"president\"], \"textposition\": \"top right\", \"name\": \"president\", \"mode\": \"markers+text\", \"marker\": {\"color\": \"rgb(255, 0, 0)\"}, \"xaxis\": \"x5\", \"yaxis\": \"y5\"}, {\"type\": \"scatter\", \"x\": [0.15445971488952637, -0.03595186397433281, 0.0031797040719538927, 0.09493334591388702, 0.03735838085412979, -0.07755069434642792, -0.09001264721155167, -0.0015781368128955364, 0.017504911869764328, -0.14333637058734894], \"y\": [-0.14764927327632904, 0.12449538707733154, -0.050098590552806854, -0.022925900295376778, -0.026084396988153458, 0.052469488233327866, 0.026750028133392334, -0.05413985252380371, -0.0018163446802645922, 0.03086949698626995], \"text\": [\"obama\", \"eisenhower\", \"roosevelt\", \"clinton\", \"jefferson\", \"kennedy\", \"lincoln\", \"nixon\", \"reagan\", \"president\"], \"textposition\": \"top right\", \"name\": \"president\", \"mode\": \"markers+text\", \"marker\": {\"color\": \"rgb(255, 0, 0)\"}, \"xaxis\": \"x6\", \"yaxis\": \"y6\"}, {\"type\": \"scatter\", \"x\": [-0.17406941950321198, -0.0957794338464737, -0.023692380636930466, 0.050099436193704605, 0.16900762915611267, 0.06579163670539856, 0.10996866226196289, -0.06350435316562653, -0.10000033676624298, -0.30887776613235474], \"y\": [-0.12188062816858292, 0.03358570486307144, 0.06854177266359329, 0.03737914562225342, 0.018579775467514992, -0.08131814748048782, -0.022539544850587845, -0.04173359274864197, 0.01766365021467209, 0.05186782777309418], \"text\": [\"obama\", \"eisenhower\", \"roosevelt\", \"clinton\", \"jefferson\", \"kennedy\", \"lincoln\", \"nixon\", \"reagan\", \"president\"], \"textposition\": \"top right\", \"name\": \"president\", \"mode\": \"markers+text\", \"marker\": {\"color\": \"rgb(255, 0, 0)\"}, \"xaxis\": \"x7\", \"yaxis\": \"y7\"}, {\"type\": \"scatter\", \"x\": [0.35985928773880005, 0.2381538599729538, 0.2594483196735382, 0.366218239068985, 0.2213909775018692, 0.23169538378715515, 0.11233224719762802, 0.33285337686538696, 0.342819482088089, 0.4576374292373657], \"y\": [-0.10150724649429321, -0.1847311109304428, -0.21821267902851105, -0.18512174487113953, -0.18210451304912567, -0.23398691415786743, -0.2408626675605774, -0.18749834597110748, -0.19947746396064758, -0.23484711349010468], \"text\": [\"obama\", \"eisenhower\", \"roosevelt\", \"clinton\", \"jefferson\", \"kennedy\", \"lincoln\", \"nixon\", \"reagan\", \"president\"], \"textposition\": \"top right\", \"name\": \"president\", \"mode\": \"markers+text\", \"marker\": {\"color\": \"rgb(255, 0, 0)\"}, \"xaxis\": \"x8\", \"yaxis\": \"y8\"}, {\"type\": \"scatter\", \"x\": [0.24864278733730316, 0.03384194150567055, 0.1369665116071701, 0.24370259046554565, 0.15654879808425903, 0.14416345953941345, 0.16057319939136505, 0.13423429429531097, 0.11069721728563309, 0.24215379357337952], \"y\": [-0.06794435530900955, -0.06405922770500183, -0.10709187388420105, -0.07439064979553223, 0.0014017941430211067, -0.14735423028469086, -0.004851596429944038, -0.08562881499528885, -0.04612705856561661, 0.146592378616333], \"text\": [\"obama\", \"eisenhower\", \"roosevelt\", \"clinton\", \"jefferson\", \"kennedy\", \"lincoln\", \"nixon\", \"reagan\", \"president\"], \"textposition\": \"top right\", \"name\": \"president\", \"mode\": \"markers+text\", \"marker\": {\"color\": \"rgb(255, 0, 0)\"}, \"xaxis\": \"x9\", \"yaxis\": \"y9\"}, {\"type\": \"scatter\", \"x\": [-0.08511500060558319, -0.028335392475128174, 0.028638260439038277, -0.10154584050178528, 0.009098962880671024, 0.012759155593812466, 0.06618695706129074, -0.11095402389764786, -0.08041302859783173, 0.00190612708684057], \"y\": [0.286624014377594, 0.09926704317331314, 0.20097386837005615, 0.18592828512191772, 0.21302329003810883, 0.343464732170105, 0.2760374844074249, 0.1936672180891037, 0.23145455121994019, 0.4119950234889984], \"text\": [\"obama\", \"eisenhower\", \"roosevelt\", \"clinton\", \"jefferson\", \"kennedy\", \"lincoln\", \"nixon\", \"reagan\", \"president\"], \"textposition\": \"top right\", \"name\": \"president\", \"mode\": \"markers+text\", \"marker\": {\"color\": \"rgb(255, 0, 0)\"}, \"xaxis\": \"x10\", \"yaxis\": \"y10\"}, {\"type\": \"scatter\", \"x\": [0.34863290190696716, 0.1429044008255005, 0.3632938265800476, 0.2544792890548706, 0.29165616631507874, 0.4013223648071289, 0.2630769610404968, 0.11944179981946945], \"y\": [-0.07205136865377426, 0.028291137889027596, -0.031946808099746704, 0.12227565795183182, 0.023297790437936783, 0.09590502828359604, 0.10916641354560852, -0.10909777879714966], \"text\": [\"geometry\", \"inequality\", \"arithmetic\", \"calculus\", \"algebra\", \"equation\", \"theorem\", \"mathematics\"], \"textposition\": \"top right\", \"name\": \"mathematics\", \"mode\": \"markers+text\", \"marker\": {\"color\": \"rgb(255, 218, 0)\"}, \"xaxis\": \"x1\", \"yaxis\": \"y1\"}, {\"type\": \"scatter\", \"x\": [-0.027759671211242676, -0.3055519163608551, -0.03710353374481201, -0.09261197596788406, 0.036151718348264694, -0.33168643712997437, -0.3317221701145172, -0.012303635478019714], \"y\": [0.17840838432312012, 0.1525222510099411, 0.06692277640104294, -0.023097068071365356, 0.010256367735564709, -0.04507744312286377, -0.07954487949609756, 0.20663493871688843], \"text\": [\"geometry\", \"inequality\", \"arithmetic\", \"calculus\", \"algebra\", \"equation\", \"theorem\", \"mathematics\"], \"textposition\": \"top right\", \"name\": \"mathematics\", \"mode\": \"markers+text\", \"marker\": {\"color\": \"rgb(255, 218, 0)\"}, \"xaxis\": \"x2\", \"yaxis\": \"y2\"}, {\"type\": \"scatter\", \"x\": [0.09799302369356155, 0.18069593608379364, 0.14480657875537872, 0.1764049381017685, 0.14942897856235504, 0.12232133746147156, 0.10295487940311432, 0.1438390016555786], \"y\": [0.27469080686569214, 0.014189165085554123, 0.24054351449012756, 0.19631066918373108, 0.304218590259552, 0.20390066504478455, 0.2937501072883606, 0.20779302716255188], \"text\": [\"geometry\", \"inequality\", \"arithmetic\", \"calculus\", \"algebra\", \"equation\", \"theorem\", \"mathematics\"], \"textposition\": \"top right\", \"name\": \"mathematics\", \"mode\": \"markers+text\", \"marker\": {\"color\": \"rgb(255, 218, 0)\"}, \"xaxis\": \"x3\", \"yaxis\": \"y3\"}, {\"type\": \"scatter\", \"x\": [0.05615861341357231, -0.12317942827939987, 0.0027632005512714386, 0.017502330243587494, 0.13665567338466644, 0.007664528675377369, -0.0355084128677845, 0.019604118540883064], \"y\": [-0.14990223944187164, -0.21884006261825562, -0.15800829231739044, -0.04490087926387787, -0.17824095487594604, -0.14542749524116516, -0.23564867675304413, -0.13876844942569733], \"text\": [\"geometry\", \"inequality\", \"arithmetic\", \"calculus\", \"algebra\", \"equation\", \"theorem\", \"mathematics\"], \"textposition\": \"top right\", \"name\": \"mathematics\", \"mode\": \"markers+text\", \"marker\": {\"color\": \"rgb(255, 218, 0)\"}, \"xaxis\": \"x4\", \"yaxis\": \"y4\"}, {\"type\": \"scatter\", \"x\": [-0.055258844047784805, 0.05525925010442734, -0.053465086966753006, -0.19025836884975433, -0.07706541568040848, -0.21386708319187164, -0.045202597975730896, -0.15296828746795654], \"y\": [0.15868639945983887, 0.1445574015378952, 0.0968528538942337, 0.03587470203638077, 0.0858176052570343, 0.20161542296409607, 0.1567932665348053, -0.08057916164398193], \"text\": [\"geometry\", \"inequality\", \"arithmetic\", \"calculus\", \"algebra\", \"equation\", \"theorem\", \"mathematics\"], \"textposition\": \"top right\", \"name\": \"mathematics\", \"mode\": \"markers+text\", \"marker\": {\"color\": \"rgb(255, 218, 0)\"}, \"xaxis\": \"x5\", \"yaxis\": \"y5\"}, {\"type\": \"scatter\", \"x\": [0.08327380567789078, 0.17793340981006622, 0.02699464000761509, 0.0560232512652874, 0.08348167687654495, 0.0013565093977376819, 0.16341640055179596, 0.10344197601079941], \"y\": [0.29573220014572144, 0.2871434688568115, 0.25351423025131226, 0.3145581781864166, 0.2669677734375, 0.29655933380126953, 0.2099570631980896, 0.3221367299556732], \"text\": [\"geometry\", \"inequality\", \"arithmetic\", \"calculus\", \"algebra\", \"equation\", \"theorem\", \"mathematics\"], \"textposition\": \"top right\", \"name\": \"mathematics\", \"mode\": \"markers+text\", \"marker\": {\"color\": \"rgb(255, 218, 0)\"}, \"xaxis\": \"x6\", \"yaxis\": \"y6\"}, {\"type\": \"scatter\", \"x\": [0.26896199584007263, 0.03206567093729973, 0.06436163932085037, 0.09837204962968826, 0.24422520399093628, 0.20635251700878143, 0.2229509800672531, 0.07327402383089066], \"y\": [0.031155573204159737, -0.037783995270729065, -0.13419894874095917, -0.11654037237167358, 0.07541532069444656, 0.06543421745300293, 0.14323009550571442, -0.17809517681598663], \"text\": [\"geometry\", \"inequality\", \"arithmetic\", \"calculus\", \"algebra\", \"equation\", \"theorem\", \"mathematics\"], \"textposition\": \"top right\", \"name\": \"mathematics\", \"mode\": \"markers+text\", \"marker\": {\"color\": \"rgb(255, 218, 0)\"}, \"xaxis\": \"x7\", \"yaxis\": \"y7\"}, {\"type\": \"scatter\", \"x\": [-0.13109195232391357, 0.3517830967903137, -0.21744969487190247, -0.20351867377758026, -0.0055389804765582085, 0.17840658128261566, 0.08617717772722244, -0.12433843314647675], \"y\": [-0.11890048533678055, 0.11811994761228561, -0.06968863308429718, -0.07484523206949234, 0.06592261791229248, -0.023176565766334534, 0.023593062534928322, -0.2549046576023102], \"text\": [\"geometry\", \"inequality\", \"arithmetic\", \"calculus\", \"algebra\", \"equation\", \"theorem\", \"mathematics\"], \"textposition\": \"top right\", \"name\": \"mathematics\", \"mode\": \"markers+text\", \"marker\": {\"color\": \"rgb(255, 218, 0)\"}, \"xaxis\": \"x8\", \"yaxis\": \"y8\"}, {\"type\": \"scatter\", \"x\": [-0.20615164935588837, 0.10515207052230835, -0.2334073781967163, -0.06490250676870346, -0.24969488382339478, -0.20315216481685638, -0.05827197805047035, 0.0631229430437088], \"y\": [0.3176918923854828, 0.2378128170967102, 0.31636354327201843, 0.4208785593509674, 0.3590514361858368, 0.2405286282300949, 0.26662588119506836, 0.40390488505363464], \"text\": [\"geometry\", \"inequality\", \"arithmetic\", \"calculus\", \"algebra\", \"equation\", \"theorem\", \"mathematics\"], \"textposition\": \"top right\", \"name\": \"mathematics\", \"mode\": \"markers+text\", \"marker\": {\"color\": \"rgb(255, 218, 0)\"}, \"xaxis\": \"x9\", \"yaxis\": \"y9\"}, {\"type\": \"scatter\", \"x\": [0.15991416573524475, 0.04750611260533333, 0.24477745592594147, 0.2650982141494751, 0.20875373482704163, 0.18714559078216553, 0.11888554692268372, 0.28600868582725525], \"y\": [0.37572693824768066, 0.18405334651470184, 0.24414443969726562, 0.22521209716796875, 0.3729800283908844, 0.3550688922405243, 0.2745567560195923, 0.44337043166160583], \"text\": [\"geometry\", \"inequality\", \"arithmetic\", \"calculus\", \"algebra\", \"equation\", \"theorem\", \"mathematics\"], \"textposition\": \"top right\", \"name\": \"mathematics\", \"mode\": \"markers+text\", \"marker\": {\"color\": \"rgb(255, 218, 0)\"}, \"xaxis\": \"x10\", \"yaxis\": \"y10\"}, {\"type\": \"scatter\", \"x\": [0.0008371510775759816, -0.05750565230846405, -0.13040024042129517, -0.1314534693956375, -0.15464600920677185, -0.13473740220069885, -0.2104227989912033, -0.15476126968860626, -0.1940041184425354, -0.15806718170642853, 0.04579794034361839], \"y\": [-0.08053095638751984, -0.16908568143844604, -0.19786164164543152, -0.23108428716659546, -0.2401929795742035, -0.2589881420135498, -0.21194887161254883, -0.2712371349334717, -0.25721970200538635, -0.2623470425605774, -0.2142122983932495], \"text\": [\"one\", \"two\", \"three\", \"four\", \"five\", \"six\", \"seven\", \"eight\", \"nine\", \"ten\", \"number\"], \"textposition\": \"top right\", \"name\": \"number\", \"mode\": \"markers+text\", \"marker\": {\"color\": \"rgb(72, 255, 0)\"}, \"xaxis\": \"x1\", \"yaxis\": \"y1\"}, {\"type\": \"scatter\", \"x\": [0.18333107233047485, 0.2998580038547516, 0.26031410694122314, 0.2535593509674072, 0.220295712351799, 0.2145608514547348, 0.1889348328113556, 0.2043529748916626, 0.18809503316879272, 0.14971914887428284, 0.18558712303638458], \"y\": [0.23235243558883667, 0.23578433692455292, 0.23204517364501953, 0.21796506643295288, 0.19966495037078857, 0.18520769476890564, 0.20228414237499237, 0.19981075823307037, 0.17062266170978546, 0.15112796425819397, 0.15769807994365692], \"text\": [\"one\", \"two\", \"three\", \"four\", \"five\", \"six\", \"seven\", \"eight\", \"nine\", \"ten\", \"number\"], \"textposition\": \"top right\", \"name\": \"number\", \"mode\": \"markers+text\", \"marker\": {\"color\": \"rgb(72, 255, 0)\"}, \"xaxis\": \"x2\", \"yaxis\": \"y2\"}, {\"type\": \"scatter\", \"x\": [0.28861966729164124, 0.3007383942604065, 0.27148619294166565, 0.2432880848646164, 0.23207803070545197, 0.18415705859661102, 0.21333782374858856, 0.18111537396907806, 0.16571372747421265, 0.1830740123987198, 0.33962276577949524], \"y\": [0.35250741243362427, 0.3659476339817047, 0.3537512421607971, 0.35430026054382324, 0.3141423761844635, 0.3033028244972229, 0.2974759042263031, 0.30119094252586365, 0.2856021225452423, 0.2610834836959839, 0.2616907060146332], \"text\": [\"one\", \"two\", \"three\", \"four\", \"five\", \"six\", \"seven\", \"eight\", \"nine\", \"ten\", \"number\"], \"textposition\": \"top right\", \"name\": \"number\", \"mode\": \"markers+text\", \"marker\": {\"color\": \"rgb(72, 255, 0)\"}, \"xaxis\": \"x3\", \"yaxis\": \"y3\"}, {\"type\": \"scatter\", \"x\": [-0.28633999824523926, -0.3606415390968323, -0.35985955595970154, -0.3580527603626251, -0.35823261737823486, -0.330250084400177, -0.32627710700035095, -0.3328726589679718, -0.3256010413169861, -0.33664464950561523, -0.31534650921821594], \"y\": [-0.14935363829135895, -0.17176754772663116, -0.19848893582820892, -0.20183908939361572, -0.22343195974826813, -0.22118540108203888, -0.22994457185268402, -0.22296038269996643, -0.2196388840675354, -0.21613477170467377, -0.18298551440238953], \"text\": [\"one\", \"two\", \"three\", \"four\", \"five\", \"six\", \"seven\", \"eight\", \"nine\", \"ten\", \"number\"], \"textposition\": \"top right\", \"name\": \"number\", \"mode\": \"markers+text\", \"marker\": {\"color\": \"rgb(72, 255, 0)\"}, \"xaxis\": \"x4\", \"yaxis\": \"y4\"}, {\"type\": \"scatter\", \"x\": [0.030131366103887558, 0.06585843861103058, 0.06955064833164215, 0.08087005466222763, 0.07245312631130219, 0.06020750105381012, 0.08186640590429306, 0.04842066019773483, 0.0589725598692894, 0.08253432810306549, 0.15254266560077667], \"y\": [0.2091149389743805, 0.24274681508541107, 0.22737503051757812, 0.2057695984840393, 0.1972195953130722, 0.19214299321174622, 0.2135430872440338, 0.19467052817344666, 0.19667789340019226, 0.15558293461799622, 0.20061619579792023], \"text\": [\"one\", \"two\", \"three\", \"four\", \"five\", \"six\", \"seven\", \"eight\", \"nine\", \"ten\", \"number\"], \"textposition\": \"top right\", \"name\": \"number\", \"mode\": \"markers+text\", \"marker\": {\"color\": \"rgb(72, 255, 0)\"}, \"xaxis\": \"x5\", \"yaxis\": \"y5\"}, {\"type\": \"scatter\", \"x\": [-0.3390083909034729, -0.43601468205451965, -0.4175383746623993, -0.42416709661483765, -0.36369702219963074, -0.39055100083351135, -0.3386916220188141, -0.3626590371131897, -0.3071451783180237, -0.27331626415252686, -0.2644815444946289], \"y\": [-0.21606317162513733, -0.1936318427324295, -0.20501191914081573, -0.1894499510526657, -0.20358648896217346, -0.17909102141857147, -0.18638040125370026, -0.1675659418106079, -0.16225136816501617, -0.22167375683784485, -0.160935640335083], \"text\": [\"one\", \"two\", \"three\", \"four\", \"five\", \"six\", \"seven\", \"eight\", \"nine\", \"ten\", \"number\"], \"textposition\": \"top right\", \"name\": \"number\", \"mode\": \"markers+text\", \"marker\": {\"color\": \"rgb(72, 255, 0)\"}, \"xaxis\": \"x6\", \"yaxis\": \"y6\"}, {\"type\": \"scatter\", \"x\": [-0.1803114414215088, -0.1318260282278061, -0.1286649852991104, -0.10708709806203842, -0.12292157113552094, -0.12556345760822296, -0.09805786609649658, -0.09608173370361328, -0.0770205557346344, -0.10890545696020126, -0.15007740259170532], \"y\": [-0.17104937136173248, -0.2865693271160126, -0.3130614459514618, -0.32351744174957275, -0.3623742461204529, -0.36421555280685425, -0.37511366605758667, -0.3967669606208801, -0.4030633568763733, -0.38528069853782654, -0.39283129572868347], \"text\": [\"one\", \"two\", \"three\", \"four\", \"five\", \"six\", \"seven\", \"eight\", \"nine\", \"ten\", \"number\"], \"textposition\": \"top right\", \"name\": \"number\", \"mode\": \"markers+text\", \"marker\": {\"color\": \"rgb(72, 255, 0)\"}, \"xaxis\": \"x7\", \"yaxis\": \"y7\"}, {\"type\": \"scatter\", \"x\": [0.0662502571940422, 7.754830585327e-05, -0.008906903676688671, -0.013303564861416817, 0.016500074416399002, 0.0027513557579368353, -0.0029493693727999926, -0.012285621836781502, 0.0163565780967474, 0.061238717287778854, 0.127014622092247], \"y\": [-0.3510423004627228, -0.36189892888069153, -0.3446846008300781, -0.30461737513542175, -0.29119008779525757, -0.2839932143688202, -0.24258317053318024, -0.22781527042388916, -0.20903514325618744, -0.2380310744047165, -0.3426656723022461], \"text\": [\"one\", \"two\", \"three\", \"four\", \"five\", \"six\", \"seven\", \"eight\", \"nine\", \"ten\", \"number\"], \"textposition\": \"top right\", \"name\": \"number\", \"mode\": \"markers+text\", \"marker\": {\"color\": \"rgb(72, 255, 0)\"}, \"xaxis\": \"x8\", \"yaxis\": \"y8\"}, {\"type\": \"scatter\", \"x\": [0.29010581970214844, 0.18212489783763885, 0.16084204614162445, 0.0999797061085701, 0.13133227825164795, 0.09257180988788605, 0.10959521681070328, 0.050784219056367874, 0.07384126633405685, 0.07032335549592972, 0.15984436869621277], \"y\": [0.13162493705749512, 0.17624935507774353, 0.19109360873699188, 0.20637956261634827, 0.1951301246881485, 0.18502001464366913, 0.17397946119308472, 0.20601853728294373, 0.15646308660507202, 0.16568860411643982, 0.27574923634529114], \"text\": [\"one\", \"two\", \"three\", \"four\", \"five\", \"six\", \"seven\", \"eight\", \"nine\", \"ten\", \"number\"], \"textposition\": \"top right\", \"name\": \"number\", \"mode\": \"markers+text\", \"marker\": {\"color\": \"rgb(72, 255, 0)\"}, \"xaxis\": \"x9\", \"yaxis\": \"y9\"}, {\"type\": \"scatter\", \"x\": [0.03780610114336014, -0.08597331494092941, -0.0681740865111351, -0.07603488862514496, -0.06546687334775925, -0.06155294552445412, -0.05631902441382408, -0.06987683475017548, -0.07056213170289993, 0.005244128871709108, -0.059922825545072556], \"y\": [0.46804919838905334, 0.33776411414146423, 0.3222079873085022, 0.31508684158325195, 0.30579492449760437, 0.3053162395954132, 0.2692357003688812, 0.2662081718444824, 0.26693758368492126, 0.2801690697669983, 0.38481324911117554], \"text\": [\"one\", \"two\", \"three\", \"four\", \"five\", \"six\", \"seven\", \"eight\", \"nine\", \"ten\", \"number\"], \"textposition\": \"top right\", \"name\": \"number\", \"mode\": \"markers+text\", \"marker\": {\"color\": \"rgb(72, 255, 0)\"}, \"xaxis\": \"x10\", \"yaxis\": \"y10\"}, {\"type\": \"scatter\", \"x\": [0.3021464943885803, 0.4490094780921936, 0.3837807774543762, 0.4254109263420105, 0.48454201221466064, 0.2782980799674988, 0.37230244278907776, 0.2128235399723053], \"y\": [0.06768365204334259, -0.05970845744013786, -0.07509006559848785, -0.015286894515156746, -0.02786734141409397, 0.04166923835873604, 0.013589336536824703, -0.04510752111673355], \"text\": [\"chemical\", \"oxygen\", \"carbon\", \"dioxide\", \"nitrogen\", \"zinc\", \"organic\", \"chemistry\"], \"textposition\": \"top right\", \"name\": \"chemistry\", \"mode\": \"markers+text\", \"marker\": {\"color\": \"rgb(0, 255, 145)\"}, \"xaxis\": \"x1\", \"yaxis\": \"y1\"}, {\"type\": \"scatter\", \"x\": [0.15218161046504974, -0.11759696900844574, -0.01887653023004532, -0.17627105116844177, -0.09748435765504837, 0.021214835345745087, 0.17898310720920563, -0.0017814110033214092], \"y\": [0.17284831404685974, 0.09349334239959717, -0.016744544729590416, -0.07877777516841888, -0.041758324950933456, -0.0788511410355568, 0.2511698007583618, 0.19899983704090118], \"text\": [\"chemical\", \"oxygen\", \"carbon\", \"dioxide\", \"nitrogen\", \"zinc\", \"organic\", \"chemistry\"], \"textposition\": \"top right\", \"name\": \"chemistry\", \"mode\": \"markers+text\", \"marker\": {\"color\": \"rgb(0, 255, 145)\"}, \"xaxis\": \"x2\", \"yaxis\": \"y2\"}, {\"type\": \"scatter\", \"x\": [0.042274557054042816, 0.07668908685445786, 0.08550712466239929, 0.037498295307159424, 0.055079247802495956, 0.02539072558283806, -0.062116727232933044, -0.026783714070916176], \"y\": [0.04542861506342888, -0.16744980216026306, -0.0857861191034317, -0.31291747093200684, -0.22040967643260956, -0.030688483268022537, -0.10358366370201111, -0.013735995627939701], \"text\": [\"chemical\", \"oxygen\", \"carbon\", \"dioxide\", \"nitrogen\", \"zinc\", \"organic\", \"chemistry\"], \"textposition\": \"top right\", \"name\": \"chemistry\", \"mode\": \"markers+text\", \"marker\": {\"color\": \"rgb(0, 255, 145)\"}, \"xaxis\": \"x3\", \"yaxis\": \"y3\"}, {\"type\": \"scatter\", \"x\": [-0.03841058537364006, 0.061459604650735855, -0.016235290095210075, 0.024849189445376396, 0.05065051466226578, -0.11292272061109543, 0.06724980473518372, 0.024086274206638336], \"y\": [-0.00904810056090355, -0.14300203323364258, -0.1446184515953064, -0.010964932851493359, -0.027974354103207588, -0.008610742166638374, -0.04115340858697891, -0.13022203743457794], \"text\": [\"chemical\", \"oxygen\", \"carbon\", \"dioxide\", \"nitrogen\", \"zinc\", \"organic\", \"chemistry\"], \"textposition\": \"top right\", \"name\": \"chemistry\", \"mode\": \"markers+text\", \"marker\": {\"color\": \"rgb(0, 255, 145)\"}, \"xaxis\": \"x4\", \"yaxis\": \"y4\"}, {\"type\": \"scatter\", \"x\": [0.05817199498414993, 0.1555790901184082, 0.18880905210971832, 0.14196419715881348, 0.09448251873254776, 0.0693458840250969, 0.12860321998596191, -0.1104707196354866], \"y\": [0.08340778201818466, 0.21336068212985992, 0.2713511288166046, 0.3249622881412506, 0.30019351840019226, 0.22112984955310822, 0.08671517670154572, -0.1676977276802063], \"text\": [\"chemical\", \"oxygen\", \"carbon\", \"dioxide\", \"nitrogen\", \"zinc\", \"organic\", \"chemistry\"], \"textposition\": \"top right\", \"name\": \"chemistry\", \"mode\": \"markers+text\", \"marker\": {\"color\": \"rgb(0, 255, 145)\"}, \"xaxis\": \"x5\", \"yaxis\": \"y5\"}, {\"type\": \"scatter\", \"x\": [-0.33042392134666443, -0.4515284299850464, -0.35624006390571594, -0.39388716220855713, -0.3308860957622528, -0.35207587480545044, -0.20940545201301575, -0.0914054736495018], \"y\": [0.283645361661911, 0.06510449945926666, 0.050656937062740326, -0.011171855032444, 0.02317759394645691, -0.06668012589216232, 0.10932871699333191, 0.3133111298084259], \"text\": [\"chemical\", \"oxygen\", \"carbon\", \"dioxide\", \"nitrogen\", \"zinc\", \"organic\", \"chemistry\"], \"textposition\": \"top right\", \"name\": \"chemistry\", \"mode\": \"markers+text\", \"marker\": {\"color\": \"rgb(0, 255, 145)\"}, \"xaxis\": \"x6\", \"yaxis\": \"y6\"}, {\"type\": \"scatter\", \"x\": [0.0028342758305370808, -0.11728683859109879, 0.08364679664373398, 0.0316472090780735, 0.025050150230526924, 0.24852889776229858, -0.00565361836925149, 0.15484008193016052], \"y\": [-0.07829851657152176, -0.13796082139015198, 0.0061789886094629765, -0.050504766404628754, -0.06742063909769058, 0.08810916543006897, -0.042823296040296555, -0.12285419553518295], \"text\": [\"chemical\", \"oxygen\", \"carbon\", \"dioxide\", \"nitrogen\", \"zinc\", \"organic\", \"chemistry\"], \"textposition\": \"top right\", \"name\": \"chemistry\", \"mode\": \"markers+text\", \"marker\": {\"color\": \"rgb(0, 255, 145)\"}, \"xaxis\": \"x7\", \"yaxis\": \"y7\"}, {\"type\": \"scatter\", \"x\": [0.24050337076187134, 0.27910923957824707, 0.3877381980419159, 0.39967620372772217, 0.2688831686973572, 0.3280245363712311, 0.24016563594341278, -0.00843766424804926], \"y\": [-0.352346807718277, 0.002796054584905505, -0.12416684627532959, -0.12061222642660141, -0.06637221574783325, -0.21638648211956024, -0.1873023360967636, -0.32736703753471375], \"text\": [\"chemical\", \"oxygen\", \"carbon\", \"dioxide\", \"nitrogen\", \"zinc\", \"organic\", \"chemistry\"], \"textposition\": \"top right\", \"name\": \"chemistry\", \"mode\": \"markers+text\", \"marker\": {\"color\": \"rgb(0, 255, 145)\"}, \"xaxis\": \"x8\", \"yaxis\": \"y8\"}, {\"type\": \"scatter\", \"x\": [0.15051041543483734, 0.06675436347723007, 0.11844366043806076, 0.0925893485546112, 0.07625449448823929, 0.07044441998004913, 0.2085968405008316, 0.11750604212284088], \"y\": [0.4082464873790741, 0.2805728018283844, 0.3440645933151245, 0.3288537859916687, 0.3738425076007843, 0.4207497537136078, 0.4328027069568634, 0.4670335352420807], \"text\": [\"chemical\", \"oxygen\", \"carbon\", \"dioxide\", \"nitrogen\", \"zinc\", \"organic\", \"chemistry\"], \"textposition\": \"top right\", \"name\": \"chemistry\", \"mode\": \"markers+text\", \"marker\": {\"color\": \"rgb(0, 255, 145)\"}, \"xaxis\": \"x9\", \"yaxis\": \"y9\"}, {\"type\": \"scatter\", \"x\": [0.11998946219682693, 0.18162168562412262, 0.029748303815722466, 0.15155546367168427, 0.1390906274318695, -0.09517840296030045, 0.10060697793960571, 0.28869330883026123], \"y\": [0.2042224109172821, 0.21601851284503937, 0.21561062335968018, 0.11750935018062592, 0.12817437946796417, -0.05077241361141205, 0.23472535610198975, 0.35781341791152954], \"text\": [\"chemical\", \"oxygen\", \"carbon\", \"dioxide\", \"nitrogen\", \"zinc\", \"organic\", \"chemistry\"], \"textposition\": \"top right\", \"name\": \"chemistry\", \"mode\": \"markers+text\", \"marker\": {\"color\": \"rgb(0, 255, 145)\"}, \"xaxis\": \"x10\", \"yaxis\": \"y10\"}, {\"type\": \"scatter\", \"x\": [-0.11627928167581558, -0.0285841915756464, -0.14280766248703003, -0.09298118203878403, -0.09979002922773361, 0.08213590085506439, -0.16248279809951782, -0.03254826366901398, -0.017836101353168488, 0.015280279330909252], \"y\": [-0.03408430144190788, -0.04078374803066254, 0.026231111958622932, -0.13964858651161194, -0.05807103216648102, 0.06097303330898285, 0.07483064383268356, -0.02162526361644268, 0.09064076095819473, -0.3486611545085907], \"text\": [\"maradona\", \"ronaldo\", \"messi\", \"lochte\", \"phelps\", \"spitz\", \"comneci\", \"mayweather\", \"pacquiao\", \"sport\"], \"textposition\": \"top right\", \"name\": \"sport\", \"mode\": \"markers+text\", \"marker\": {\"color\": \"rgb(0, 145, 255)\"}, \"xaxis\": \"x1\", \"yaxis\": \"y1\"}, {\"type\": \"scatter\", \"x\": [-0.08986737579107285, -0.23477470874786377, -0.026745935901999474, 0.004049573093652725, 0.025867026299238205, 0.14894646406173706, -0.11557657271623611, -0.04246150702238083, -0.29214218258857727, -0.028922628611326218], \"y\": [0.09760154783725739, -0.012091920711100101, -0.03872868791222572, 0.010254441760480404, 0.0512918196618557, 0.10620678961277008, 0.1150560975074768, 0.028353266417980194, 0.011527515016496181, 0.3021928668022156], \"text\": [\"maradona\", \"ronaldo\", \"messi\", \"lochte\", \"phelps\", \"spitz\", \"comneci\", \"mayweather\", \"pacquiao\", \"sport\"], \"textposition\": \"top right\", \"name\": \"sport\", \"mode\": \"markers+text\", \"marker\": {\"color\": \"rgb(0, 145, 255)\"}, \"xaxis\": \"x2\", \"yaxis\": \"y2\"}, {\"type\": \"scatter\", \"x\": [0.06308045238256454, 0.04144991561770439, 0.09368130564689636, 0.07926798611879349, -0.07490202784538269, -0.0066614351235330105, 0.13238677382469177, -0.019652875140309334, 0.06228836253285408, -0.0046634073369205], \"y\": [-0.029646752402186394, 0.06288128346204758, 0.11617664992809296, 0.003011064836755395, 0.03623950108885765, -0.058183442801237106, -0.1382964849472046, 0.06846543401479721, 0.005064800847321749, 0.16656093299388885], \"text\": [\"maradona\", \"ronaldo\", \"messi\", \"lochte\", \"phelps\", \"spitz\", \"comneci\", \"mayweather\", \"pacquiao\", \"sport\"], \"textposition\": \"top right\", \"name\": \"sport\", \"mode\": \"markers+text\", \"marker\": {\"color\": \"rgb(0, 145, 255)\"}, \"xaxis\": \"x3\", \"yaxis\": \"y3\"}, {\"type\": \"scatter\", \"x\": [-0.09854706376791, -0.1973743587732315, -0.18859675526618958, -0.3041311502456665, -0.0926247164607048, -0.0199496541172266, -0.10246661305427551, -0.1754133552312851, -0.19374477863311768, -0.045625217258930206], \"y\": [0.16242489218711853, 0.17558355629444122, -0.027319155633449554, -0.07946498692035675, -0.2293912023305893, 0.10039158910512924, -0.03183606266975403, 0.00023616709222551435, 0.15884967148303986, 0.19427677989006042], \"text\": [\"maradona\", \"ronaldo\", \"messi\", \"lochte\", \"phelps\", \"spitz\", \"comneci\", \"mayweather\", \"pacquiao\", \"sport\"], \"textposition\": \"top right\", \"name\": \"sport\", \"mode\": \"markers+text\", \"marker\": {\"color\": \"rgb(0, 145, 255)\"}, \"xaxis\": \"x4\", \"yaxis\": \"y4\"}, {\"type\": \"scatter\", \"x\": [-0.2807307839393616, -0.33307352662086487, -0.18953534960746765, -0.18125490844249725, -0.2336004227399826, -0.15408925712108612, -0.1293264478445053, -0.19683358073234558, -0.2547188997268677, 0.02265484258532524], \"y\": [-0.09493065625429153, -0.01862930692732334, -0.11630865186452866, -0.20447257161140442, -0.05924740806221962, -0.09056687355041504, -0.05828598141670227, 0.0009296605130657554, -0.01838626153767109, -0.18754500150680542], \"text\": [\"maradona\", \"ronaldo\", \"messi\", \"lochte\", \"phelps\", \"spitz\", \"comneci\", \"mayweather\", \"pacquiao\", \"sport\"], \"textposition\": \"top right\", \"name\": \"sport\", \"mode\": \"markers+text\", \"marker\": {\"color\": \"rgb(0, 145, 255)\"}, \"xaxis\": \"x5\", \"yaxis\": \"y5\"}, {\"type\": \"scatter\", \"x\": [-0.1995433270931244, -0.09971504658460617, -0.08029971271753311, -0.13202141225337982, -0.09375856071710587, -0.14505064487457275, -0.0375949963927269, -0.22649244964122772, -0.3274674415588379, -0.2391372174024582], \"y\": [-0.08455709367990494, -0.11909879744052887, -0.06110258027911186, -0.06778428703546524, -0.08422181755304337, -0.13708245754241943, -0.009898381307721138, -0.18142810463905334, -0.14527958631515503, -0.054687462747097015], \"text\": [\"maradona\", \"ronaldo\", \"messi\", \"lochte\", \"phelps\", \"spitz\", \"comneci\", \"mayweather\", \"pacquiao\", \"sport\"], \"textposition\": \"top right\", \"name\": \"sport\", \"mode\": \"markers+text\", \"marker\": {\"color\": \"rgb(0, 145, 255)\"}, \"xaxis\": \"x6\", \"yaxis\": \"y6\"}, {\"type\": \"scatter\", \"x\": [0.024012360721826553, 0.10044863820075989, 0.10248589515686035, 0.026575416326522827, 0.21098588407039642, 0.06730428338050842, -0.18068811297416687, 0.1041794866323471, -0.11657098680734634, -0.09787771105766296], \"y\": [-0.06610924750566483, -0.0809004008769989, -0.020213527604937553, -0.012361295521259308, 0.003197380807250738, -0.034872058779001236, -0.0013095985632389784, 0.1481492668390274, -0.013258343562483788, -0.18353232741355896], \"text\": [\"maradona\", \"ronaldo\", \"messi\", \"lochte\", \"phelps\", \"spitz\", \"comneci\", \"mayweather\", \"pacquiao\", \"sport\"], \"textposition\": \"top right\", \"name\": \"sport\", \"mode\": \"markers+text\", \"marker\": {\"color\": \"rgb(0, 145, 255)\"}, \"xaxis\": \"x7\", \"yaxis\": \"y7\"}, {\"type\": \"scatter\", \"x\": [0.013616777025163174, 0.05101627856492996, -0.06922795623540878, -0.033430103212594986, 0.1904926747083664, 0.015941083431243896, -0.3078881502151489, 0.1603132039308548, 0.04566037654876709, 0.15752777457237244], \"y\": [-0.11254783719778061, 0.006528024561703205, -0.09800118207931519, -0.014289755374193192, -0.10794352740049362, -0.04861222207546234, 0.10250377655029297, -0.14139196276664734, 0.011934444308280945, -0.10539766401052475], \"text\": [\"maradona\", \"ronaldo\", \"messi\", \"lochte\", \"phelps\", \"spitz\", \"comneci\", \"mayweather\", \"pacquiao\", \"sport\"], \"textposition\": \"top right\", \"name\": \"sport\", \"mode\": \"markers+text\", \"marker\": {\"color\": \"rgb(0, 145, 255)\"}, \"xaxis\": \"x8\", \"yaxis\": \"y8\"}, {\"type\": \"scatter\", \"x\": [0.09244620054960251, -0.0014719461323693395, -0.04411100223660469, -0.03668714687228203, 0.12245560437440872, -0.1475340723991394, 0.018077800050377846, -0.1540209949016571, -0.017580552026629448, 0.13052548468112946], \"y\": [-0.09628556668758392, 0.00821906328201294, -0.1546047031879425, -0.1879989504814148, 0.026865312829613686, 0.1313248872756958, -0.00805571023374796, -0.23792485892772675, -0.08646612614393234, 0.2255801260471344], \"text\": [\"maradona\", \"ronaldo\", \"messi\", \"lochte\", \"phelps\", \"spitz\", \"comneci\", \"mayweather\", \"pacquiao\", \"sport\"], \"textposition\": \"top right\", \"name\": \"sport\", \"mode\": \"markers+text\", \"marker\": {\"color\": \"rgb(0, 145, 255)\"}, \"xaxis\": \"x9\", \"yaxis\": \"y9\"}, {\"type\": \"scatter\", \"x\": [0.11451905220746994, 0.006894899066537619, -0.046252623200416565, -0.11295507848262787, -0.05199180170893669, -0.09672118723392487, -0.011646458879113197, -0.1435011327266693, -0.05114014446735382, 0.19001640379428864], \"y\": [-0.04940740764141083, -0.0782417431473732, -0.012071260251104832, 0.05548098683357239, 0.05377329885959625, 0.16275522112846375, 0.05993909761309624, -0.018335619941353798, -0.012805460952222347, 0.32285621762275696], \"text\": [\"maradona\", \"ronaldo\", \"messi\", \"lochte\", \"phelps\", \"spitz\", \"comneci\", \"mayweather\", \"pacquiao\", \"sport\"], \"textposition\": \"top right\", \"name\": \"sport\", \"mode\": \"markers+text\", \"marker\": {\"color\": \"rgb(0, 145, 255)\"}, \"xaxis\": \"x10\", \"yaxis\": \"y10\"}, {\"type\": \"scatter\", \"x\": [-0.33110031485557556, -0.37655821442604065, -0.2824689447879791, -0.3431885838508606, -0.35128286480903625, -0.3176722526550293, -0.2840248644351959, -0.42374834418296814, -0.20349402725696564], \"y\": [-0.16300314664840698, -0.132794588804245, -0.13084757328033447, -0.2320266216993332, -0.06016528606414795, -0.15727728605270386, -0.10921812802553177, -0.06828926503658295, -0.23185285925865173], \"text\": [\"romania\", \"france\", \"germany\", \"england\", \"russia\", \"india\", \"china\", \"spain\", \"country\"], \"textposition\": \"top right\", \"name\": \"country\", \"mode\": \"markers+text\", \"marker\": {\"color\": \"rgb(72, 0, 255)\"}, \"xaxis\": \"x1\", \"yaxis\": \"y1\"}, {\"type\": \"scatter\", \"x\": [-0.2595435082912445, -0.07649842649698257, -0.024985358119010925, 0.04749680683016777, -0.09564805030822754, 0.06261321902275085, 0.05004778876900673, -0.12270091474056244, 0.05979936569929123], \"y\": [0.030120737850666046, 0.07660441100597382, 0.0714595839381218, 0.3007129728794098, 0.09744729846715927, 0.09410092979669571, 0.12326841056346893, 0.052671123296022415, 0.3404853343963623], \"text\": [\"romania\", \"france\", \"germany\", \"england\", \"russia\", \"india\", \"china\", \"spain\", \"country\"], \"textposition\": \"top right\", \"name\": \"country\", \"mode\": \"markers+text\", \"marker\": {\"color\": \"rgb(72, 0, 255)\"}, \"xaxis\": \"x2\", \"yaxis\": \"y2\"}, {\"type\": \"scatter\", \"x\": [-0.024630596861243248, 0.09184126555919647, -0.0031061547342687845, 0.026454171165823936, 0.059874776750802994, 0.18411321938037872, 0.1314372718334198, 0.1734013557434082, 0.18234752118587494], \"y\": [-0.021315250545740128, 0.03069249354302883, -0.025185763835906982, 0.26700323820114136, 0.08775029331445694, 0.1959027349948883, 0.15185856819152832, 0.06330057233572006, 0.1963135451078415], \"text\": [\"romania\", \"france\", \"germany\", \"england\", \"russia\", \"india\", \"china\", \"spain\", \"country\"], \"textposition\": \"top right\", \"name\": \"country\", \"mode\": \"markers+text\", \"marker\": {\"color\": \"rgb(72, 0, 255)\"}, \"xaxis\": \"x3\", \"yaxis\": \"y3\"}, {\"type\": \"scatter\", \"x\": [0.10817085951566696, 0.20649297535419464, 0.1380304992198944, -0.09001117944717407, 0.10322841256856918, 0.10046853870153427, 0.15911529958248138, 0.07038765400648117, -0.09472252428531647], \"y\": [0.17083926498889923, -0.047584567219018936, -0.001936516840942204, -0.21380992233753204, 0.10690278559923172, 0.04737657681107521, 0.12280480563640594, 0.02806839905679226, -0.0428713895380497], \"text\": [\"romania\", \"france\", \"germany\", \"england\", \"russia\", \"india\", \"china\", \"spain\", \"country\"], \"textposition\": \"top right\", \"name\": \"country\", \"mode\": \"markers+text\", \"marker\": {\"color\": \"rgb(72, 0, 255)\"}, \"xaxis\": \"x4\", \"yaxis\": \"y4\"}, {\"type\": \"scatter\", \"x\": [-0.1819828897714615, -0.1257191002368927, -0.15046383440494537, -0.21216103434562683, -0.14467130601406097, -0.08111579716205597, 0.02064436301589012, -0.10817287862300873, 0.12625664472579956], \"y\": [0.3386076092720032, 0.26281270384788513, 0.2716953158378601, 0.24251830577850342, 0.32672640681266785, 0.2401474118232727, 0.30060717463493347, 0.33344247937202454, 0.1677122563123703], \"text\": [\"romania\", \"france\", \"germany\", \"england\", \"russia\", \"india\", \"china\", \"spain\", \"country\"], \"textposition\": \"top right\", \"name\": \"country\", \"mode\": \"markers+text\", \"marker\": {\"color\": \"rgb(72, 0, 255)\"}, \"xaxis\": \"x5\", \"yaxis\": \"y5\"}, {\"type\": \"scatter\", \"x\": [-0.012004857882857323, -0.26465240120887756, -0.24799002707004547, -0.25067344307899475, -0.13928033411502838, -0.12669500708580017, -0.24573203921318054, -0.2397902011871338, -0.17923466861248016], \"y\": [-0.00736235361546278, -0.08354529738426208, 0.01709449104964733, -0.06358413398265839, -0.0018529054941609502, 0.08557355403900146, 0.024891573935747147, -0.17620353400707245, -0.21253499388694763], \"text\": [\"romania\", \"france\", \"germany\", \"england\", \"russia\", \"india\", \"china\", \"spain\", \"country\"], \"textposition\": \"top right\", \"name\": \"country\", \"mode\": \"markers+text\", \"marker\": {\"color\": \"rgb(72, 0, 255)\"}, \"xaxis\": \"x6\", \"yaxis\": \"y6\"}, {\"type\": \"scatter\", \"x\": [-0.12282972037792206, -0.27318069338798523, -0.2860591411590576, -0.05364571884274483, -0.2842774987220764, -0.16404137015342712, -0.2560650110244751, -0.24193334579467773, -0.17309927940368652], \"y\": [-0.031156983226537704, -0.12302334606647491, -0.2257336676120758, -0.09950774908065796, -0.1971132606267929, -0.18370461463928223, -0.21273218095302582, -0.18284621834754944, -0.1869105100631714], \"text\": [\"romania\", \"france\", \"germany\", \"england\", \"russia\", \"india\", \"china\", \"spain\", \"country\"], \"textposition\": \"top right\", \"name\": \"country\", \"mode\": \"markers+text\", \"marker\": {\"color\": \"rgb(72, 0, 255)\"}, \"xaxis\": \"x7\", \"yaxis\": \"y7\"}, {\"type\": \"scatter\", \"x\": [0.25662845373153687, 0.1723639965057373, 0.15573866665363312, -0.02392389066517353, 0.22297881543636322, 0.1953698694705963, 0.24644707143306732, 0.16597437858581543, 0.27038323879241943], \"y\": [-0.0031025775242596865, -0.3769231140613556, -0.33445101976394653, -0.3771778643131256, -0.2222209870815277, -0.13050025701522827, -0.18117904663085938, -0.24715448915958405, -0.22164395451545715], \"text\": [\"romania\", \"france\", \"germany\", \"england\", \"russia\", \"india\", \"china\", \"spain\", \"country\"], \"textposition\": \"top right\", \"name\": \"country\", \"mode\": \"markers+text\", \"marker\": {\"color\": \"rgb(72, 0, 255)\"}, \"xaxis\": \"x8\", \"yaxis\": \"y8\"}, {\"type\": \"scatter\", \"x\": [0.15711919963359833, 0.06923028081655502, 0.13105912506580353, 0.37430593371391296, 0.148107647895813, 0.3263745903968811, 0.20725300908088684, 0.13187237083911896, 0.2921106517314911], \"y\": [0.2548139691352844, 0.28161096572875977, 0.28679150342941284, 0.2122417688369751, 0.25031954050064087, 0.30834245681762695, 0.23199334740638733, 0.31868717074394226, 0.10590243339538574], \"text\": [\"romania\", \"france\", \"germany\", \"england\", \"russia\", \"india\", \"china\", \"spain\", \"country\"], \"textposition\": \"top right\", \"name\": \"country\", \"mode\": \"markers+text\", \"marker\": {\"color\": \"rgb(72, 0, 255)\"}, \"xaxis\": \"x9\", \"yaxis\": \"y9\"}, {\"type\": \"scatter\", \"x\": [0.15365256369113922, 0.2939273715019226, 0.24345935881137848, 0.0319148413836956, 0.16572101414203644, 0.09184396266937256, 0.11074942350387573, 0.23642344772815704, 0.039025723934173584], \"y\": [0.19142542779445648, 0.26827511191368103, 0.2874777913093567, 0.20209595561027527, 0.2235240787267685, 0.2970391809940338, 0.3290484845638275, 0.18595723807811737, 0.4143686294555664], \"text\": [\"romania\", \"france\", \"germany\", \"england\", \"russia\", \"india\", \"china\", \"spain\", \"country\"], \"textposition\": \"top right\", \"name\": \"country\", \"mode\": \"markers+text\", \"marker\": {\"color\": \"rgb(72, 0, 255)\"}, \"xaxis\": \"x10\", \"yaxis\": \"y10\"}], {\"xaxis1\": {\"domain\": [0.0, 0.2888888888888889], \"anchor\": \"y1\", \"range\": [-1, 1]}, \"yaxis1\": {\"domain\": [0.80625, 1.0], \"anchor\": \"x1\", \"range\": [-1, 1]}, \"xaxis2\": {\"domain\": [0.35555555555555557, 0.6444444444444445], \"anchor\": \"y2\", \"range\": [-1, 1]}, \"yaxis2\": {\"domain\": [0.80625, 1.0], \"anchor\": \"x2\", \"range\": [-1, 1]}, \"xaxis3\": {\"domain\": [0.7111111111111111, 1.0], \"anchor\": \"y3\", \"range\": [-1, 1]}, \"yaxis3\": {\"domain\": [0.80625, 1.0], \"anchor\": \"x3\", \"range\": [-1, 1]}, \"xaxis4\": {\"domain\": [0.0, 0.2888888888888889], \"anchor\": \"y4\", \"range\": [-1, 1]}, \"yaxis4\": {\"domain\": [0.5375, 0.73125], \"anchor\": \"x4\", \"range\": [-1, 1]}, \"xaxis5\": {\"domain\": [0.35555555555555557, 0.6444444444444445], \"anchor\": \"y5\", \"range\": [-1, 1]}, \"yaxis5\": {\"domain\": [0.5375, 0.73125], \"anchor\": \"x5\", \"range\": [-1, 1]}, \"xaxis6\": {\"domain\": [0.7111111111111111, 1.0], \"anchor\": \"y6\", \"range\": [-1, 1]}, \"yaxis6\": {\"domain\": [0.5375, 0.73125], \"anchor\": \"x6\", \"range\": [-1, 1]}, \"xaxis7\": {\"domain\": [0.0, 0.2888888888888889], \"anchor\": \"y7\", \"range\": [-1, 1]}, \"yaxis7\": {\"domain\": [0.26875, 0.4625], \"anchor\": \"x7\", \"range\": [-1, 1]}, \"xaxis8\": {\"domain\": [0.35555555555555557, 0.6444444444444445], \"anchor\": \"y8\", \"range\": [-1, 1]}, \"yaxis8\": {\"domain\": [0.26875, 0.4625], \"anchor\": \"x8\", \"range\": [-1, 1]}, \"xaxis9\": {\"domain\": [0.7111111111111111, 1.0], \"anchor\": \"y9\", \"range\": [-1, 1]}, \"yaxis9\": {\"domain\": [0.26875, 0.4625], \"anchor\": \"x9\", \"range\": [-1, 1]}, \"xaxis10\": {\"domain\": [0.0, 0.2888888888888889], \"anchor\": \"y10\", \"range\": [-1, 1]}, \"yaxis10\": {\"domain\": [0.0, 0.19375], \"anchor\": \"x10\", \"range\": [-1, 1]}, \"xaxis11\": {\"domain\": [0.35555555555555557, 0.6444444444444445], \"anchor\": \"y11\", \"range\": [-1, 1]}, \"yaxis11\": {\"domain\": [0.0, 0.19375], \"anchor\": \"x11\", \"range\": [-1, 1]}, \"xaxis12\": {\"domain\": [0.7111111111111111, 1.0], \"anchor\": \"y12\", \"range\": [-1, 1]}, \"yaxis12\": {\"domain\": [0.0, 0.19375], \"anchor\": \"x12\", \"range\": [-1, 1]}, \"width\": 900, \"height\": 1200, \"xaxis13\": {\"range\": [-1, 1]}, \"yaxis13\": {\"range\": [-1, 1]}, \"xaxis14\": {\"range\": [-1, 1]}, \"yaxis14\": {\"range\": [-1, 1]}, \"xaxis15\": {\"range\": [-1, 1]}, \"yaxis15\": {\"range\": [-1, 1]}, \"xaxis16\": {\"range\": [-1, 1]}, \"yaxis16\": {\"range\": [-1, 1]}, \"xaxis17\": {\"range\": [-1, 1]}, \"yaxis17\": {\"range\": [-1, 1]}, \"xaxis18\": {\"range\": [-1, 1]}, \"yaxis18\": {\"range\": [-1, 1]}, \"xaxis19\": {\"range\": [-1, 1]}, \"yaxis19\": {\"range\": [-1, 1]}, \"xaxis20\": {\"range\": [-1, 1]}, \"yaxis20\": {\"range\": [-1, 1]}, \"xaxis21\": {\"range\": [-1, 1]}, \"yaxis21\": {\"range\": [-1, 1]}, \"xaxis22\": {\"range\": [-1, 1]}, \"yaxis22\": {\"range\": [-1, 1]}, \"xaxis23\": {\"range\": [-1, 1]}, \"yaxis23\": {\"range\": [-1, 1]}, \"xaxis24\": {\"range\": [-1, 1]}, \"yaxis24\": {\"range\": [-1, 1]}, \"xaxis25\": {\"range\": [-1, 1]}, \"yaxis25\": {\"range\": [-1, 1]}, \"xaxis26\": {\"range\": [-1, 1]}, \"yaxis26\": {\"range\": [-1, 1]}, \"xaxis27\": {\"range\": [-1, 1]}, \"yaxis27\": {\"range\": [-1, 1]}, \"xaxis28\": {\"range\": [-1, 1]}, \"yaxis28\": {\"range\": [-1, 1]}, \"xaxis29\": {\"range\": [-1, 1]}, \"yaxis29\": {\"range\": [-1, 1]}, \"xaxis30\": {\"range\": [-1, 1]}, \"yaxis30\": {\"range\": [-1, 1]}, \"xaxis31\": {\"range\": [-1, 1]}, \"yaxis31\": {\"range\": [-1, 1]}, \"xaxis32\": {\"range\": [-1, 1]}, \"yaxis32\": {\"range\": [-1, 1]}, \"xaxis33\": {\"range\": [-1, 1]}, \"yaxis33\": {\"range\": [-1, 1]}, \"xaxis34\": {\"range\": [-1, 1]}, \"yaxis34\": {\"range\": [-1, 1]}, \"xaxis35\": {\"range\": [-1, 1]}, \"yaxis35\": {\"range\": [-1, 1]}, \"xaxis36\": {\"range\": [-1, 1]}, \"yaxis36\": {\"range\": [-1, 1]}, \"xaxis37\": {\"range\": [-1, 1]}, \"yaxis37\": {\"range\": [-1, 1]}, \"xaxis38\": {\"range\": [-1, 1]}, \"yaxis38\": {\"range\": [-1, 1]}, \"xaxis39\": {\"range\": [-1, 1]}, \"yaxis39\": {\"range\": [-1, 1]}, \"xaxis40\": {\"range\": [-1, 1]}, \"yaxis40\": {\"range\": [-1, 1]}, \"xaxis41\": {\"range\": [-1, 1]}, \"yaxis41\": {\"range\": [-1, 1]}, \"xaxis42\": {\"range\": [-1, 1]}, \"yaxis42\": {\"range\": [-1, 1]}, \"xaxis43\": {\"range\": [-1, 1]}, \"yaxis43\": {\"range\": [-1, 1]}, \"xaxis44\": {\"range\": [-1, 1]}, \"yaxis44\": {\"range\": [-1, 1]}, \"xaxis45\": {\"range\": [-1, 1]}, \"yaxis45\": {\"range\": [-1, 1]}, \"xaxis46\": {\"range\": [-1, 1]}, \"yaxis46\": {\"range\": [-1, 1]}, \"xaxis47\": {\"range\": [-1, 1]}, \"yaxis47\": {\"range\": [-1, 1]}, \"xaxis48\": {\"range\": [-1, 1]}, \"yaxis48\": {\"range\": [-1, 1]}, \"xaxis49\": {\"range\": [-1, 1]}, \"yaxis49\": {\"range\": [-1, 1]}, \"xaxis50\": {\"range\": [-1, 1]}, \"yaxis50\": {\"range\": [-1, 1]}, \"xaxis51\": {\"range\": [-1, 1]}, \"yaxis51\": {\"range\": [-1, 1]}, \"xaxis52\": {\"range\": [-1, 1]}, \"yaxis52\": {\"range\": [-1, 1]}, \"xaxis53\": {\"range\": [-1, 1]}, \"yaxis53\": {\"range\": [-1, 1]}, \"xaxis54\": {\"range\": [-1, 1]}, \"yaxis54\": {\"range\": [-1, 1]}, \"xaxis55\": {\"range\": [-1, 1]}, \"yaxis55\": {\"range\": [-1, 1]}, \"xaxis56\": {\"range\": [-1, 1]}, \"yaxis56\": {\"range\": [-1, 1]}, \"xaxis57\": {\"range\": [-1, 1]}, \"yaxis57\": {\"range\": [-1, 1]}, \"xaxis58\": {\"range\": [-1, 1]}, \"yaxis58\": {\"range\": [-1, 1]}, \"xaxis59\": {\"range\": [-1, 1]}, \"yaxis59\": {\"range\": [-1, 1]}, \"xaxis60\": {\"range\": [-1, 1]}, \"yaxis60\": {\"range\": [-1, 1]}}, {\"showLink\": true, \"linkText\": \"Export to plot.ly\"})});</script>"
      ]
     },
     "metadata": {},
     "output_type": "display_data"
    }
   ],
   "source": [
    "hyp_model = Glove.load(hyp_model_fn_180k[\"20D_distsq\"])\n",
    "hyp_wv = hyp_model.wv\n",
    "offset = None # np.array([0.25, 0])\n",
    "\n",
    "plot_wordnet_embeddings(hyp_model, labeled_word_dict, ratio_words=1,\n",
    "                        left_offset=offset, right_offset=offset, aggregate=\"c\")"
   ]
  },
  {
   "cell_type": "code",
   "execution_count": null,
   "metadata": {},
   "outputs": [],
   "source": []
  }
 ],
 "metadata": {
  "kernelspec": {
   "display_name": "Python 3",
   "language": "python",
   "name": "python3"
  },
  "language_info": {
   "codemirror_mode": {
    "name": "ipython",
    "version": 3
   },
   "file_extension": ".py",
   "mimetype": "text/x-python",
   "name": "python",
   "nbconvert_exporter": "python",
   "pygments_lexer": "ipython3",
   "version": "3.6.4"
  }
 },
 "nbformat": 4,
 "nbformat_minor": 2
}
