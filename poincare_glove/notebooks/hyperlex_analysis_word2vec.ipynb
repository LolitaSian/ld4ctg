{
 "cells": [
  {
   "cell_type": "code",
   "execution_count": 3,
   "metadata": {},
   "outputs": [],
   "source": [
    "import gensim\n",
    "from glove_code.src.glove import Glove\n",
    "from gensim.models.callbacks import LossLogger, LossSetter\n",
    "from gensim.models.keyedvectors import PoincareWordEmbeddingsKeyedVectors as pkv\n",
    "from gensim.matutils import argsort\n",
    "import itertools\n",
    "import matplotlib.pyplot as plt\n",
    "import numpy as np\n",
    "from numpy.linalg import norm\n",
    "from numpy import dot\n",
    "from operator import itemgetter\n",
    "import os\n",
    "import random\n",
    "from scipy import stats\n",
    "random.seed(42)\n",
    "\n",
    "ROOT = \"/Users/alext/Documents/Master/Thesis/\""
   ]
  },
  {
   "cell_type": "code",
   "execution_count": 39,
   "metadata": {},
   "outputs": [],
   "source": [
    "hyp_model_fn = os.path.join(ROOT, \"models/geometric_emb/w2v_levy_nll_3_100_A01_a01_n5_w5_c100_poincare_OPTwfullrsgd_SIMcosh-dist-sq_bias_burnin1\")\n",
    "# hyp_model_fn = os.path.join(ROOT, \"models/word2vec_baseline/w2v_levy_sg_5_100_A025_a0001_n5_w5_c100_cosine_OPTsgd\")\n",
    "hyp_model = gensim.models.Word2Vec.load(hyp_model_fn)\n",
    "hyp_wv = hyp_model.wv\n",
    "hyp_wv.trainables = hyp_model.trainables\n",
    "hyp_wv.use_poincare_distance = True"
   ]
  },
  {
   "cell_type": "code",
   "execution_count": 40,
   "metadata": {},
   "outputs": [
    {
     "name": "stdout",
     "output_type": "stream",
     "text": [
      "HyperLex - nouns: 0.17429623272030015 0.18492834026814609\n"
     ]
    }
   ],
   "source": [
    "spearman, ratio, le_score_model, le_score_gold, le_info = hyp_wv.evaluate_lexical_entailment(\n",
    "    os.path.join(ROOT, 'data/hyperlex-data', 'nouns-verbs/hyperlex-nouns.txt'),\n",
    "    dummy4unknown=False\n",
    ")\n",
    "print(\"HyperLex - nouns: {} {}\".format(spearman[0], ratio))\n",
    "# all_info = sorted(list(zip(le_info, le_score_gold, le_score_model)), key=itemgetter(1), reverse=1)\n",
    "# for info, gold, score in all_info[:100]:\n",
    "#     print(info.lower(), gold, score)"
   ]
  },
  {
   "cell_type": "code",
   "execution_count": 41,
   "metadata": {},
   "outputs": [
    {
     "name": "stdout",
     "output_type": "stream",
     "text": [
      "HyperLex - verbs: 0.2550654578452322 0.0\n"
     ]
    }
   ],
   "source": [
    "spearman, ratio, _, _, _ = hyp_wv.evaluate_lexical_entailment(\n",
    "    os.path.join(ROOT, 'data/hyperlex-data', 'nouns-verbs/hyperlex-verbs.txt'),\n",
    "    dummy4unknown=False\n",
    ")\n",
    "print(\"HyperLex - verbs: {} {}\".format(spearman[0], ratio))"
   ]
  },
  {
   "cell_type": "code",
   "execution_count": 42,
   "metadata": {},
   "outputs": [
    {
     "name": "stdout",
     "output_type": "stream",
     "text": [
      "HyperLex - all: 0.19038158994429805 0.1529051987767584\n"
     ]
    }
   ],
   "source": [
    "spearman, ratio, _, _, _ = hyp_wv.evaluate_lexical_entailment(\n",
    "    os.path.join(ROOT, 'data/hyperlex-data', 'hyperlex-all.txt'),\n",
    "    dummy4unknown=False\n",
    ")\n",
    "print(\"HyperLex - all: {} {}\".format(spearman[0], ratio))"
   ]
  },
  {
   "cell_type": "markdown",
   "metadata": {},
   "source": [
    "## Hyperparameter grid search"
   ]
  },
  {
   "cell_type": "code",
   "execution_count": 43,
   "metadata": {},
   "outputs": [
    {
     "name": "stdout",
     "output_type": "stream",
     "text": [
      "HyperLex - all: 0.19038158994429805 0.1529051987767584\n"
     ]
    }
   ],
   "source": [
    "spearman, ratio, _, _, _ = hyp_wv.evaluate_lexical_entailment(\n",
    "    os.path.join(ROOT, 'data/hyperlex-data', 'hyperlex-all.txt'),\n",
    "    dummy4unknown=False\n",
    ")\n",
    "print(\"HyperLex - all: {} {}\".format(spearman[0], ratio))"
   ]
  },
  {
   "cell_type": "code",
   "execution_count": 44,
   "metadata": {},
   "outputs": [
    {
     "name": "stdout",
     "output_type": "stream",
     "text": [
      "Discarded 4 pairs out of 2616\n",
      "[['conflict' 'disagreement' '1489' '8101' '8.67']\n",
      " ['advance' 'take' '2500' '291' '2.37']\n",
      " ['trail' 'follow' '2318' '1724' '7.18']\n",
      " ['mason' 'worker' '5595' '5323' '7.5']\n",
      " ['aura' 'light' '19766' '572' '6.15']\n",
      " ['radish' 'carrot' '66093' '25733' '0.15']\n",
      " ['tusk' 'duty' '39108' '2439' '0.13']\n",
      " ['vehicle' 'motorcycle' '2028' '5903' '1.82']\n",
      " ['veal' 'meat' '48465' '4046' '9.77']\n",
      " ['keyboard' 'arm' '5948' '3050' '0.9']]\n"
     ]
    }
   ],
   "source": [
    "hyperlex_file = os.path.join(ROOT, \"data/hyperlex-data/hyperlex-all.txt\")\n",
    "\n",
    "def read_hyperlex_format(filename):\n",
    "    with open(filename, \"r\") as f:\n",
    "        lines = [line.strip().split() for line in f.readlines()[1:]]\n",
    "        result = []\n",
    "        discarded_count = 0\n",
    "        for line in lines:\n",
    "            if line[0] not in hyp_wv.vocab or line[1] not in hyp_wv.vocab:\n",
    "                discarded_count += 1\n",
    "                continue\n",
    "            result.append([line[0], line[1], hyp_wv.vocab[line[0]].index, hyp_wv.vocab[line[1]].index, float(line[5])])\n",
    "        print(\"Discarded {} pairs out of {}\".format(discarded_count, len(lines)))\n",
    "        return np.array(result)\n",
    "\n",
    "hyperlex = read_hyperlex_format(hyperlex_file)\n",
    "\n",
    "print(hyperlex[:10])"
   ]
  },
  {
   "cell_type": "code",
   "execution_count": 49,
   "metadata": {},
   "outputs": [],
   "source": [
    "def gyr_midpoint(word):\n",
    "    w = hyp_wv.word_vec(word)\n",
    "    c = hyp_wv.trainables.syn1neg[hyp_wv.vocab[word].index]\n",
    "    \n",
    "    gamma_w_sq = 1 / (1 - norm(w)**2)\n",
    "    gamma_c_sq = 1 / (1 - norm(c)**2)\n",
    "    denominator = gamma_w_sq + gamma_c_sq - 1\n",
    "    agg = w * gamma_w_sq / denominator + c * gamma_c_sq / denominator\n",
    "\n",
    "    return hyp_wv.moebius_mul(agg, 0.5)\n",
    "\n",
    "def entailment_score(x, y, alpha=1, gamma=1):\n",
    "    idx_x = hyp_wv.vocab[x].index\n",
    "    idx_y = hyp_wv.vocab[y].index\n",
    "    context_x = hyp_wv.trainables.syn1neg[idx_x]\n",
    "    context_y = hyp_wv.trainables.syn1neg[idx_y]\n",
    "    \n",
    "#     mid_x = gyr_midpoint(x)\n",
    "#     mid_y = gyr_midpoint(y)\n",
    "    \n",
    "#     diff = hyp_wv.distance(context_y, hyp_wv.word_vec(y)) - hyp_wv.distance(context_x, hyp_wv.word_vec(x))  # self.trainables.b1[idx_x] - self.trainables.b1[idx_y]\n",
    "#     diff = hyp_wv.embedding_norm(mid_y) - hyp_wv.embedding_norm(mid_x)\n",
    "#     diff = hyp_wv.embedding_norm(hyp_wv.vectors[idx_y]) - hyp_wv.embedding_norm(hyp_wv.vectors[idx_x])\n",
    "    diff = hyp_wv.embedding_norm(context_y) - hyp_wv.embedding_norm(context_x)\n",
    "    return -(1 + alpha * diff) * hyp_wv.distance(x, y)**gamma"
   ]
  },
  {
   "cell_type": "code",
   "execution_count": 50,
   "metadata": {},
   "outputs": [
    {
     "name": "stdout",
     "output_type": "stream",
     "text": [
      "SIM score: SpearmanrResult(correlation=0.15713060543140123, pvalue=6.639856240172427e-16)\n"
     ]
    },
    {
     "name": "stderr",
     "output_type": "stream",
     "text": [
      "/usr/local/lib/python3.6/site-packages/scipy-1.0.1-py3.6-macosx-10.13-x86_64.egg/scipy/stats/stats.py:245: RuntimeWarning: The input array could not be properly checked for nan values. nan values will be ignored.\n",
      "  \"values. nan values will be ignored.\", RuntimeWarning)\n"
     ]
    }
   ],
   "source": [
    "gold_score = hyperlex[:, 4]\n",
    "hyp_sim_score = [-hyp_wv.distance(w1, w2) for w1, w2 in hyperlex[:, [0,1]]]\n",
    "print(\"SIM score:\", stats.spearmanr(hyp_sim_score, gold_score))\n",
    "\n",
    "def run_le_eval(alpha=1, gamma=1):\n",
    "    hyp_score = [entailment_score(w1, w2, alpha=alpha, gamma=gamma) for w1, w2 in hyperlex[:, [0,1]]]\n",
    "    print(\"alpha =\", alpha, \", gamma =\", gamma, \", LE score =\", stats.spearmanr(hyp_score, gold_score)[0])"
   ]
  },
  {
   "cell_type": "code",
   "execution_count": 51,
   "metadata": {},
   "outputs": [
    {
     "name": "stderr",
     "output_type": "stream",
     "text": [
      "/usr/local/lib/python3.6/site-packages/scipy-1.0.1-py3.6-macosx-10.13-x86_64.egg/scipy/stats/stats.py:245: RuntimeWarning: The input array could not be properly checked for nan values. nan values will be ignored.\n",
      "  \"values. nan values will be ignored.\", RuntimeWarning)\n"
     ]
    },
    {
     "name": "stdout",
     "output_type": "stream",
     "text": [
      "alpha = 0.0 , gamma = 0.1 , LE score = 0.15713306663936344\n",
      "alpha = 0.0 , gamma = 1.3250000000000002 , LE score = 0.15713060543140123\n",
      "alpha = 0.0 , gamma = 2.5500000000000003 , LE score = 0.15713060543140123\n",
      "alpha = 0.0 , gamma = 3.7750000000000004 , LE score = 0.15713060543140123\n",
      "alpha = 0.0 , gamma = 5.0 , LE score = 0.15713060543140123\n",
      "alpha = 1.25 , gamma = 0.1 , LE score = 0.09693375224993622\n",
      "alpha = 1.25 , gamma = 1.3250000000000002 , LE score = 0.16540174669742433\n",
      "alpha = 1.25 , gamma = 2.5500000000000003 , LE score = 0.16998765647083422\n",
      "alpha = 1.25 , gamma = 3.7750000000000004 , LE score = 0.16851162430279693\n",
      "alpha = 1.25 , gamma = 5.0 , LE score = 0.16691367905003984\n",
      "alpha = 2.5 , gamma = 0.1 , LE score = 0.09068234805492127\n",
      "alpha = 2.5 , gamma = 1.3250000000000002 , LE score = 0.1447693244557002\n",
      "alpha = 2.5 , gamma = 2.5500000000000003 , LE score = 0.16294147344204657\n",
      "alpha = 2.5 , gamma = 3.7750000000000004 , LE score = 0.16888144674293282\n",
      "alpha = 2.5 , gamma = 5.0 , LE score = 0.17064205916199768\n",
      "alpha = 3.75 , gamma = 0.1 , LE score = 0.08856574491666692\n",
      "alpha = 3.75 , gamma = 1.3250000000000002 , LE score = 0.12894784849793028\n",
      "alpha = 3.75 , gamma = 2.5500000000000003 , LE score = 0.15063657549716833\n",
      "alpha = 3.75 , gamma = 3.7750000000000004 , LE score = 0.1607209512509814\n",
      "alpha = 3.75 , gamma = 5.0 , LE score = 0.16530059331539865\n",
      "alpha = 5.0 , gamma = 0.1 , LE score = 0.08751527958311539\n",
      "alpha = 5.0 , gamma = 1.3250000000000002 , LE score = 0.11882829141845377\n",
      "alpha = 5.0 , gamma = 2.5500000000000003 , LE score = 0.13863457069208482\n",
      "alpha = 5.0 , gamma = 3.7750000000000004 , LE score = 0.15056688490316894\n",
      "alpha = 5.0 , gamma = 5.0 , LE score = 0.15753119579384517\n",
      "alpha = 10 , gamma = 0.1 , LE score = 0.08603828579397235\n",
      "alpha = 10 , gamma = 1.3250000000000002 , LE score = 0.10103660667779912\n",
      "alpha = 10 , gamma = 2.5500000000000003 , LE score = 0.11149549782516952\n",
      "alpha = 10 , gamma = 3.7750000000000004 , LE score = 0.11804224831983094\n",
      "alpha = 10 , gamma = 5.0 , LE score = 0.12239970473011219\n",
      "alpha = 100 , gamma = 0.1 , LE score = 0.08456696173094952\n",
      "alpha = 100 , gamma = 1.3250000000000002 , LE score = 0.08238920608973183\n",
      "alpha = 100 , gamma = 2.5500000000000003 , LE score = 0.07903181542727694\n",
      "alpha = 100 , gamma = 3.7750000000000004 , LE score = 0.07578324451623016\n",
      "alpha = 100 , gamma = 5.0 , LE score = 0.07267857266152829\n",
      "alpha = 500 , gamma = 0.1 , LE score = 0.08443487519325027\n",
      "alpha = 500 , gamma = 1.3250000000000002 , LE score = 0.08063694859577805\n",
      "alpha = 500 , gamma = 2.5500000000000003 , LE score = 0.07600683186107451\n",
      "alpha = 500 , gamma = 3.7750000000000004 , LE score = 0.07146576373235611\n",
      "alpha = 500 , gamma = 5.0 , LE score = 0.06763771543119378\n",
      "alpha = 1000 , gamma = 0.1 , LE score = 0.0844403947502482\n",
      "alpha = 1000 , gamma = 1.3250000000000002 , LE score = 0.08037483277001399\n",
      "alpha = 1000 , gamma = 2.5500000000000003 , LE score = 0.07575796324146716\n",
      "alpha = 1000 , gamma = 3.7750000000000004 , LE score = 0.07102222205797926\n",
      "alpha = 1000 , gamma = 5.0 , LE score = 0.06703569449082877\n"
     ]
    }
   ],
   "source": [
    "for alpha, gamma in itertools.product(np.linspace(0, 5, num=5).tolist()+[10, 100, 500, 1000], np.linspace(0.1, 5.0, num=5)):\n",
    "    run_le_eval(alpha=alpha, gamma=gamma)"
   ]
  },
  {
   "cell_type": "markdown",
   "metadata": {},
   "source": [
    "## HyperLex word freq analysis"
   ]
  },
  {
   "cell_type": "code",
   "execution_count": 4,
   "metadata": {},
   "outputs": [],
   "source": [
    "hyp_model_fn = os.path.join(ROOT, \"models/glove/geometric_emb/glove_ep50_size100_lr0.05_vocab400000_poincare_OPTwfullrsgd_COOCCFUNClog_DISTFUNCdist-sq_bias\")\n",
    "hyp_model = Glove.load(hyp_model_fn)\n",
    "hyp_wv = hyp_model.wv"
   ]
  },
  {
   "cell_type": "code",
   "execution_count": 20,
   "metadata": {},
   "outputs": [
    {
     "name": "stdout",
     "output_type": "stream",
     "text": [
      "5231\n",
      "[4726, 4726, 4749, 4749, 4749, 4749, 4755, 4755, 4755, 4755, 4760, 4765, 4765, 4765, 4771, 4771, 4785, 4793, 4812, 4812, 4815, 4815, 4815, 4815, 4815, 4819, 4842, 4844, 4853, 4864, 4864, 4864, 4864, 4880, 4880, 4887, 4898, 4898, 4898, 4906, 4910, 4910, 4919, 4919, 4923, 4926, 4926, 4926, 4931, 4931, 4949, 4950, 4952, 4953, 4953, 4957, 4957, 4957, 4967, 4970, 4984, 4984, 4995, 4995, 5017, 5017, 5025, 5025, 5025, 5029, 5029, 5043, 5043, 5043, 5050, 5050, 5070, 5080, 5080, 5080, 5085, 5085, 5089, 5089, 5097, 5104, 5128, 5132, 5143, 5149, 5149, 5149, 5155, 5155, 5167, 5174, 5210, 5210, 5217, 5217, 5217, 5220, 5236, 5236, 5236, 5236, 5236, 5236, 5236, 5239, 5239, 5239, 5239, 5242, 5242, 5245, 5245, 5245, 5245, 5245, 5253, 5254, 5254, 5260, 5277, 5277, 5277, 5289, 5289, 5303, 5303, 5313, 5313, 5313, 5313, 5318, 5318, 5318, 5324, 5324, 5324, 5348, 5348, 5348, 5348, 5348, 5353, 5353, 5353, 5353, 5355, 5355, 5355, 5362, 5371, 5375, 5375, 5375, 5398, 5418, 5437, 5437, 5443, 5453, 5453, 5455, 5455, 5478, 5478, 5478, 5479, 5485, 5485, 5491, 5499, 5499, 5499, 5504, 5504, 5518, 5518, 5518, 5519, 5519, 5519, 5520, 5533, 5533, 5533, 5543, 5543, 5543, 5568, 5577, 5577, 5577, 5577, 5577, 5577, 5584, 5599, 5602, 5602, 5612, 5612, 5612, 5618, 5618, 5639, 5640, 5643, 5643, 5646, 5653, 5653, 5659, 5659, 5675, 5678, 5679, 5679, 5691, 5691, 5692, 5692, 5704, 5704, 5713, 5713, 5713, 5713, 5731, 5731, 5731, 5734, 5734, 5750, 5754, 5754, 5754, 5762, 5762, 5769, 5769, 5769, 5769, 5776, 5777, 5777, 5788, 5809, 5813, 5813, 5813, 5813, 5813, 5817, 5824, 5824, 5824, 5827, 5827, 5827, 5827, 5827, 5827, 5829, 5829, 5829, 5829, 5845, 5846, 5846, 5849, 5858, 5901, 5908, 5908, 5914, 5915, 5922, 5922, 5925, 5932, 5959, 5960, 5962, 5962, 5973, 5973, 5973, 5991, 5991, 6025, 6025, 6028, 6039, 6039, 6039, 6042, 6042, 6044, 6046, 6046, 6061, 6061, 6066, 6066, 6084, 6084, 6084, 6090, 6090, 6117, 6117, 6117, 6117, 6117, 6117, 6117, 6123, 6126, 6131, 6131, 6131, 6131, 6131, 6131, 6131, 6134, 6134, 6139, 6139, 6152, 6152, 6152, 6152, 6156, 6156, 6159, 6161, 6167, 6167, 6167, 6167, 6172, 6172, 6172, 6172, 6187, 6197, 6197, 6197, 6198, 6213, 6237, 6237, 6237, 6246, 6246, 6246, 6247, 6247, 6247, 6257, 6273, 6273, 6273, 6283, 6283, 6309, 6350, 6350, 6351, 6351, 6355, 6355, 6355, 6356, 6367, 6367, 6374, 6374, 6390, 6406, 6406, 6414, 6423, 6423, 6455, 6455, 6455, 6455, 6463, 6463, 6471, 6478, 6482, 6509, 6509, 6518, 6518, 6518, 6518, 6518, 6518, 6522, 6522, 6522, 6522, 6522, 6523, 6529, 6529, 6547, 6574, 6574, 6574, 6582, 6588, 6588, 6591, 6594, 6594, 6594, 6594, 6602, 6612, 6612, 6612, 6612, 6618, 6632, 6632, 6632, 6632, 6638, 6638, 6650, 6650, 6650, 6650, 6653, 6655, 6660, 6660, 6660, 6660, 6660, 6660, 6664, 6670, 6670, 6671, 6682, 6711, 6711, 6731, 6741, 6743, 6743, 6744, 6759, 6759, 6759, 6768, 6768, 6768, 6768, 6770, 6785, 6785, 6785, 6806, 6806, 6806, 6806, 6827, 6827, 6827, 6827, 6843, 6843, 6859, 6859, 6859, 6859, 6859, 6861, 6886, 6886, 6886, 6890, 6890, 6891, 6895, 6895, 6896, 6914, 6934, 6934, 6934, 6941, 6941, 6944, 6944, 6944, 6945, 6947, 6947, 6947, 6947, 6948, 6948, 6948, 6951, 6951, 6963, 6963, 6965, 6965, 6965, 6965, 6965, 6977, 6984, 6984, 6985, 6985, 6985, 6994, 6994, 6995, 6996, 7001, 7001, 7005, 7028, 7039, 7051, 7051, 7052, 7071, 7072, 7072, 7072, 7090, 7090, 7090, 7091, 7105, 7105, 7105, 7114, 7126, 7126, 7126, 7126, 7126, 7131, 7131, 7136, 7137, 7137, 7151, 7169, 7169, 7169, 7173, 7173, 7198, 7200, 7200, 7201, 7201, 7201, 7201, 7209, 7209, 7209, 7209, 7213, 7213, 7215, 7225, 7230, 7230, 7230, 7240, 7240, 7244, 7244, 7268, 7276, 7276, 7281, 7281, 7286, 7311, 7311, 7311, 7321, 7327, 7349, 7349, 7349, 7349, 7372, 7372, 7372, 7372, 7373, 7376, 7384, 7391, 7391, 7409, 7409, 7409, 7409, 7409, 7412, 7454, 7504, 7505, 7505, 7512, 7526, 7526, 7526, 7526, 7529, 7542, 7542, 7542, 7548, 7548, 7548, 7548, 7548, 7548, 7548, 7548, 7553, 7553, 7553, 7553, 7560, 7560, 7563, 7563, 7580, 7580, 7580, 7580, 7580, 7580, 7580, 7586, 7586, 7586, 7586, 7592, 7596, 7637, 7646, 7670, 7685, 7685, 7709, 7710, 7710, 7710, 7710, 7710, 7713, 7713, 7713, 7713, 7720, 7722, 7722, 7733, 7733, 7733, 7736, 7736, 7736, 7736, 7749, 7749, 7813, 7813, 7813, 7813, 7820, 7826, 7847, 7847, 7874, 7916, 7916, 7916, 7925, 7928, 7928, 7928, 7961, 7961, 7963, 7963, 7969, 7978, 7978, 7978, 7978, 7989, 7989, 7989, 8020, 8062, 8068, 8068, 8068, 8085, 8085, 8096, 8130, 8130, 8130, 8130, 8130, 8152, 8153, 8153, 8153, 8170, 8170, 8196, 8205, 8205, 8205, 8205, 8213, 8252, 8252, 8252, 8256, 8256, 8256, 8266, 8274, 8274, 8291, 8317, 8317, 8317, 8317, 8325, 8325, 8327, 8327, 8327, 8348, 8368, 8368, 8419, 8419, 8419, 8425, 8425, 8428, 8428, 8471, 8471, 8499, 8504, 8505, 8505, 8505, 8511, 8511, 8511, 8511, 8511, 8511, 8511, 8520, 8523, 8537, 8537, 8537, 8539, 8539, 8539, 8539, 8542, 8564, 8589, 8589, 8609, 8609, 8645, 8663, 8672, 8676, 8699, 8699, 8699, 8699, 8703, 8703, 8714, 8714, 8725, 8737, 8737, 8737, 8737, 8737, 8737, 8737, 8737, 8737, 8737, 8743, 8743, 8743, 8743, 8750, 8751, 8757, 8757, 8769, 8769, 8769, 8770, 8770, 8796, 8800, 8812, 8812, 8812, 8812, 8812, 8826, 8849, 8849, 8860, 8867, 8867, 8867, 8870, 8870, 8877, 8877, 8877, 8877, 8877, 8896, 8896, 8896, 8902, 8930, 8974, 8974, 8974, 8974, 8990, 9019, 9025, 9025, 9048, 9075, 9092, 9092, 9092, 9120, 9158, 9158, 9163, 9178, 9178, 9184, 9184, 9190, 9195, 9195, 9206, 9206, 9219, 9232, 9232, 9232, 9232, 9238, 9238, 9248, 9248, 9270, 9270, 9275, 9299, 9327, 9327, 9333, 9334, 9334, 9349, 9349, 9358, 9364, 9370, 9370, 9370, 9370, 9384, 9390, 9390, 9401, 9401, 9401, 9401, 9448, 9448, 9465, 9465, 9507, 9518, 9520, 9540, 9540, 9540, 9540, 9540, 9561, 9561, 9581, 9592, 9593, 9595, 9595, 9611, 9611, 9611, 9611, 9617, 9617, 9624, 9624, 9624, 9643, 9643, 9673, 9673, 9697, 9699, 9699, 9699, 9715, 9715, 9715, 9721, 9721, 9721, 9727, 9738, 9738, 9745, 9745, 9748, 9748, 9748, 9752, 9759, 9762, 9762, 9762, 9762, 9773, 9773, 9776, 9776, 9801, 9801, 9821, 9830, 9845, 9845, 9845, 9857, 9863, 9864, 9864, 9868, 9887, 9895, 9895, 9908, 9908, 9908, 9908, 9916, 9916, 9919, 9927, 9933, 9933, 9937, 9952, 9952, 9975, 9979, 9983, 9983, 9983, 10038, 10044, 10044, 10044, 10044, 10044, 10044, 10054, 10178, 10183, 10183, 10193, 10193, 10193, 10195, 10195, 10195, 10204, 10205, 10212, 10212, 10212, 10213, 10213, 10213, 10213, 10213, 10300, 10301, 10301, 10308, 10308, 10308, 10310, 10310, 10376, 10376, 10390, 10433, 10433, 10433, 10442, 10462, 10471, 10501, 10572, 10602, 10602, 10603, 10621, 10625, 10634, 10634, 10634, 10638, 10638, 10638, 10688, 10751, 10751, 10756, 10756, 10756, 10756, 10781, 10781, 10781, 10781, 10781, 10781, 10781, 10781, 10781, 10781, 10787, 10795, 10796, 10796, 10826, 10826, 10826, 10826, 10826, 10827, 10827, 10842, 10843, 10843, 10843, 10888, 10896, 10896, 10918, 10918, 10950, 10971, 10971, 10971, 10971, 10973, 10973, 10986, 11000, 11019, 11019, 11037, 11037, 11037, 11037, 11037, 11037, 11037, 11037, 11037, 11037, 11037, 11038, 11038, 11085, 11085, 11088, 11088, 11088, 11089, 11097, 11111, 11111, 11117, 11148, 11148, 11148, 11173, 11173, 11175, 11175, 11176, 11176, 11176, 11179, 11179, 11194, 11194, 11200, 11211, 11211, 11219, 11219, 11219, 11219, 11221, 11225, 11286, 11286, 11286, 11286, 11286, 11330, 11330, 11330, 11332, 11342, 11346, 11346, 11357, 11391, 11391, 11403, 11403, 11403, 11403, 11423, 11423, 11452, 11514, 11514, 11524, 11574, 11574, 11574, 11602, 11602, 11602, 11608, 11611, 11630, 11631, 11637, 11645, 11672, 11692, 11706, 11706, 11706, 11716, 11728, 11728, 11738, 11783, 11783, 11783, 11783, 11788, 11795, 11831, 11847, 11848, 11870, 11870, 11874, 11874, 11874, 11874, 11874, 11898, 11903, 11903, 11909, 11953, 11953, 11953, 11953, 11968, 11968, 11968, 11969, 11969, 11970, 11970, 11970, 11980, 11986, 12005, 12005, 12014, 12021, 12034, 12034, 12034, 12034, 12074, 12074, 12085, 12085, 12085, 12116, 12116, 12116, 12116, 12128, 12128, 12128, 12128, 12139, 12139, 12139, 12163, 12163, 12163, 12173, 12173, 12194, 12194, 12200, 12200, 12200, 12200, 12261, 12261, 12279, 12279, 12279, 12309, 12309, 12312, 12312, 12312, 12327, 12348, 12348, 12348, 12353, 12353, 12353, 12353, 12353, 12365, 12370, 12370, 12370, 12386, 12386, 12387, 12406, 12450, 12450, 12450, 12450, 12486, 12491, 12491, 12491, 12511, 12511, 12549, 12549, 12589, 12589, 12589, 12589, 12606, 12634, 12660, 12673, 12673, 12673, 12687, 12699, 12699, 12705, 12776, 12784, 12784, 12784, 12784, 12784, 12808, 12824, 12824, 12852, 12852, 12852, 12852, 12852, 12852, 12858, 12884, 12884, 12911, 12921, 12940, 12946, 12946, 12955, 12955, 12955, 12959, 12970, 12984, 12984, 12984, 13012, 13012, 13025, 13025, 13032, 13049, 13089, 13089, 13089, 13102, 13102, 13102, 13102, 13115, 13115, 13115, 13150, 13150, 13203, 13207, 13210, 13219, 13219, 13219, 13220, 13220, 13220, 13220, 13254, 13269, 13327, 13338, 13338, 13341, 13350, 13350, 13377, 13430, 13456, 13482, 13482, 13482, 13506, 13506, 13511, 13511, 13511, 13511, 13525, 13525, 13528, 13528, 13534, 13534, 13559, 13587, 13607, 13607, 13607, 13636, 13636, 13636, 13636, 13655, 13655, 13663, 13673, 13707, 13737, 13737, 13737, 13759, 13785, 13785, 13785, 13795, 13795, 13795, 13836, 13868, 13966, 13970, 13970, 14001, 14001, 14036, 14036, 14037, 14039, 14039, 14079, 14101, 14101, 14139, 14139, 14151, 14153, 14153, 14160, 14165, 14186, 14186, 14204, 14204, 14206, 14209, 14209, 14209, 14209, 14213, 14213, 14221, 14221, 14221, 14221, 14232, 14255, 14274, 14339, 14339, 14417, 14417, 14422, 14429, 14437, 14437, 14509, 14509, 14509, 14515, 14515, 14515, 14515, 14515, 14531, 14569, 14569, 14570, 14570, 14589, 14608, 14608, 14640, 14640, 14640, 14678, 14678, 14678, 14678, 14784, 14794, 14794, 14794, 14795, 14798, 14798, 14812, 14838, 14915, 14915, 15020, 15020, 15023, 15032, 15032, 15032, 15083, 15083, 15083, 15095, 15095, 15095, 15184, 15184, 15184, 15208, 15252, 15265, 15268, 15277, 15277, 15277, 15283, 15283, 15304, 15304, 15309, 15313, 15313, 15313, 15342, 15342, 15344, 15364, 15364, 15419, 15440, 15444, 15444, 15487, 15487, 15487, 15487, 15491, 15491, 15491, 15511, 15511, 15511, 15512, 15543, 15543, 15543, 15543, 15613, 15613, 15626, 15626, 15629, 15675, 15675, 15691, 15691, 15744, 15744, 15744, 15744, 15795, 15795, 15795, 15795, 15795, 15795, 15795, 15795, 15795, 15795, 15795, 15795, 15795, 15795, 15795, 15795, 15795, 15825, 15883, 15883, 15928, 15954, 15954, 15954, 15954, 15966, 15966, 15966, 15968, 15968, 15968, 15969, 15969, 15969, 15987, 15987, 16010, 16010, 16110, 16153, 16170, 16170, 16170, 16170, 16191, 16191, 16209, 16209, 16209, 16240, 16264, 16264, 16264, 16264, 16264, 16273, 16273, 16273, 16281, 16309, 16357, 16357, 16382, 16400, 16400, 16441, 16457, 16464, 16464, 16476, 16476, 16508, 16508, 16508, 16566, 16574, 16574, 16574, 16574, 16574, 16574, 16588, 16605, 16636, 16648, 16691, 16691, 16691, 16774, 16774, 16774, 16774, 16794, 16794, 16794, 16836, 16836, 16838, 16838, 16900, 16900, 16900, 16979, 17030, 17044, 17066, 17139, 17168, 17168, 17169, 17169, 17169, 17265, 17265, 17365, 17365, 17365, 17365, 17365, 17422, 17454, 17454, 17454, 17545, 17566, 17566, 17566, 17566, 17566, 17586, 17586, 17613, 17634, 17635, 17671, 17671, 17671, 17689, 17696, 17714, 17754, 17761, 17839, 17839, 17845, 17859, 17946, 17946, 17958, 17959, 17959, 17962, 17962, 17962, 17964, 17964, 18025, 18025, 18025, 18025, 18061, 18061, 18073, 18115, 18142, 18149, 18150, 18165, 18165, 18165, 18165, 18219, 18219, 18243, 18243, 18278, 18278, 18278, 18278, 18282, 18282, 18285, 18285, 18285, 18308, 18354, 18354, 18357, 18366, 18366, 18366, 18374, 18374, 18374, 18379, 18379, 18380, 18380, 18380, 18431, 18453, 18501, 18501, 18528, 18528, 18548, 18548, 18560, 18582, 18582, 18582, 18668, 18668, 18704, 18704, 18717, 18717, 18763, 18780, 18824, 18847, 18859, 18906, 18906, 18938, 18938, 18954, 18954, 19017, 19017, 19017, 19017, 19090, 19103, 19129, 19146, 19146, 19225, 19225, 19296, 19296, 19318, 19320, 19321, 19321, 19390, 19398, 19398, 19404, 19404, 19413, 19413, 19413, 19415, 19415, 19415, 19473, 19507, 19507, 19507, 19532, 19532, 19578, 19578, 19613, 19613, 19613, 19743, 19934, 19934, 20068, 20072, 20072, 20082, 20101, 20124, 20186, 20186, 20221, 20375, 20382, 20492, 20492, 20492, 20533, 20551, 20557, 20557, 20581, 20581, 20628, 20671, 20683, 20752, 20908, 20932, 20966, 20966, 20974, 21004, 21004, 21055, 21055, 21055, 21071, 21071, 21073, 21103, 21103, 21106, 21106, 21106, 21132, 21157, 21169, 21169, 21169, 21169, 21169, 21172, 21232, 21232, 21263, 21264, 21264, 21264, 21325, 21325, 21336, 21378, 21378, 21378, 21449, 21455, 21467, 21467, 21467, 21531, 21607, 21640, 21640, 21645, 21645, 21751, 21751, 21771, 21772, 21799, 21803, 21815, 21815, 22012, 22012, 22017, 22027, 22033, 22033, 22079, 22140, 22178, 22185, 22272, 22272, 22272, 22272, 22272, 22307, 22307, 22310, 22310, 22310, 22310, 22310, 22310, 22378, 22389, 22389, 22429, 22429, 22468, 22565, 22565, 22565, 22565, 22565, 22565, 22565, 22565, 22565, 22565, 22565, 22565, 22612, 22788, 22788, 22854, 22890, 22892, 22892, 22892, 22893, 22893, 22893, 22893, 22898, 22914, 22914, 22914, 22914, 22914, 23034, 23034, 23080, 23126, 23141, 23162, 23162, 23300, 23318, 23319, 23319, 23321, 23414, 23431, 23465, 23465, 23465, 23465, 23507, 23507, 23507, 23532, 23625, 23625, 23625, 23652, 23652, 23690, 23690, 23709, 24013, 24020, 24020, 24172, 24172, 24305, 24305, 24429, 24470, 24536, 24670, 24670, 24715, 24715, 24752, 24801, 24801, 24899, 24932, 24932, 24932, 24956, 24956, 24956, 24956, 24982, 24990, 24990, 25006, 25006, 25037, 25037, 25037, 25168, 25187, 25234, 25375, 25375, 25528, 25528, 25528, 25528, 25612, 25612, 25752, 25753, 25753, 25753, 25882, 25882, 25967, 25977, 25977, 25977, 25977, 26070, 26084, 26149, 26156, 26156, 26156, 26200, 26200, 26200, 26233, 26233, 26339, 26379, 26379, 26379, 26426, 26426, 26488, 26502, 26502, 26542, 26542, 26542, 26569, 26679, 26679, 26729, 26729, 26742, 26874, 26874, 26874, 26931, 27028, 27028, 27065, 27091, 27091, 27091, 27248, 27248, 27254, 27254, 27295, 27295, 27300, 27300, 27341, 27341, 27347, 27504, 27504, 27560, 27755, 27755, 27755, 27755, 27801, 27801, 27826, 27828, 27829, 27829, 27853, 27902, 28076, 28076, 28076, 28076, 28080, 28431, 28431, 28431, 28648, 28648, 28648, 28779, 28927, 28927, 28954, 28954, 28954, 28963, 28981, 28981, 28981, 28981, 29011, 29011, 29011, 29011, 29024, 29024, 29024, 29024, 29024, 29058, 29058, 29058, 29298, 29309, 29313, 29313, 29313, 29313, 29358, 29364, 29416, 29423, 29423, 29493, 29531, 29531, 29537, 29593, 29593, 29593, 29715, 29820, 29820, 29820, 29820, 29820, 29935, 29958, 29968, 29976, 29976, 29988, 30092, 30092, 30092, 30092, 30092, 30092, 30275, 30292, 30384, 30384, 30415, 30499, 30626, 30979, 31069, 31110, 31124, 31124, 31135, 31170, 31170, 31225, 31225, 31225, 31302, 31316, 31386, 31422, 31517, 31714, 31714, 31829, 32236, 32292, 32586, 32614, 32614, 32614, 32631, 32751, 32751, 32864, 33271, 33389, 33389, 33459, 33459, 33466, 33548, 33548, 33548, 33548, 33575, 33593, 33633, 33633, 33633, 33669, 33702, 33756, 33775, 33775, 33896, 34197, 34372, 34372, 34393, 34456, 34456, 34474, 34474, 34474, 34474, 34474, 34477, 34477, 34477, 34710, 34810, 34922, 34922, 35167, 35203, 35203, 35256, 35256, 35401, 35401, 35541, 35589, 35589, 35591, 35970, 36042, 36442, 36579, 36579, 36587, 36587, 36820, 36820, 36820, 36842, 36842, 36938, 36985, 36985, 37044, 37044, 37044, 37081, 37261, 37306, 37306, 37306, 37306, 37534, 37534, 37555, 37665, 37709, 37953, 37953, 38004, 38058, 38058, 38102, 38102, 38192, 38397, 38525, 38525, 38525, 38608, 38611, 38740, 38740, 38915, 38915, 38974, 38974, 38974, 39023, 39030, 39037, 39037, 39037, 39037, 39037, 39037, 39086, 39116, 39116, 39116, 39148, 39211, 39211, 39353, 39353, 39505, 39753, 39849, 40113, 40451, 40451, 40451, 40912, 41050, 41059, 41220, 41246, 41330, 41516, 41661, 41661, 42435, 42467, 42467, 42467, 43475, 43628, 43628, 43860, 44036, 44080, 44080, 44166, 44166, 44418, 44418, 44418, 44483, 45159, 45317, 45317, 45378, 45378, 45378, 45655, 45655, 45655, 45655, 45755, 45755, 45810, 45887, 46380, 47069, 47263, 47437, 47561, 47561, 47561, 47567, 47567, 47601, 47681, 47814, 47814, 47814, 48268, 48294, 48294, 49334, 49740, 50085, 50183, 50209, 50300, 50478, 50651, 50651, 50739, 50739, 50920, 50920, 51052, 51330, 51330, 51330, 51330, 51756, 51782, 51782, 52166, 52166, 52406, 52406, 52424, 52785, 52960, 53277, 53277, 53298, 53447, 53888, 53941, 54525, 54768, 54979, 55643, 55906, 55906, 56033, 56209, 56209, 56659, 56659, 56659, 56900, 56900, 56900, 57159, 57255, 57255, 57525, 57525, 57648, 57648, 57871, 57871, 58812, 58819, 58819, 59769, 59769, 59918, 60047, 60295, 60295, 60295, 60328, 60365, 60830, 61075, 61075, 61081, 61274, 61305, 61507, 61615, 61941, 61954, 62947, 63028, 63205, 63580, 63580, 64123, 64123, 64231, 64231, 64594, 65373, 66369, 66811, 66811, 69310, 69310, 70677, 70677, 70677, 70677, 70925, 70925, 71993, 71993, 72841, 76570, 76625, 77415, 77426, 83111, 85021, 85216, 86321, 86321, 86623, 86994, 87527, 87849, 87849, 89096, 89096, 89096, 89096, 90989, 90989, 92502, 92761, 92761, 92998, 93924, 94166, 95650, 95704, 98470, 101409, 102290, 118887, 119054, 119383, 119383, 119383, 124577, 130273, 132107, 139306, 143081, 147794, 147794, 150418, 150418, 150418, 153618, 156542, 156542, 158546, 170138, 183007, 184438, 283578, 322057]\n"
     ]
    },
    {
     "data": {
      "image/png": "[encoded data removed]",
      "text/plain": [
       "<matplotlib.figure.Figure at 0x10bd47278>"
      ]
     },
     "metadata": {},
     "output_type": "display_data"
    }
   ],
   "source": [
    "flatten = lambda l: [item for sublist in l for item in sublist]\n",
    "with open(os.path.join(ROOT, 'data/hyperlex-data', 'hyperlex-all.txt'), \"r\") as f:\n",
    "    words = flatten([line.strip().split(\" \", 2)[:2] for line in f.readlines()[1:]])\n",
    "\n",
    "indexes = []\n",
    "for word in words:\n",
    "    if word not in hyp_wv.vocab:\n",
    "        continue\n",
    "    indexes.append(hyp_wv.vocab[word].index)\n",
    "    \n",
    "indexes = sorted(indexes)\n",
    "plt.plot(range(len(indexes)), indexes)\n",
    "print(len(indexes))\n",
    "print(indexes[-2600:])"
   ]
  },
  {
   "cell_type": "code",
   "execution_count": null,
   "metadata": {},
   "outputs": [],
   "source": []
  }
 ],
 "metadata": {
  "kernelspec": {
   "display_name": "Python 3",
   "language": "python",
   "name": "python3"
  },
  "language_info": {
   "codemirror_mode": {
    "name": "ipython",
    "version": 3
   },
   "file_extension": ".py",
   "mimetype": "text/x-python",
   "name": "python",
   "nbconvert_exporter": "python",
   "pygments_lexer": "ipython3",
   "version": "3.6.4"
  }
 },
 "nbformat": 4,
 "nbformat_minor": 2
}
