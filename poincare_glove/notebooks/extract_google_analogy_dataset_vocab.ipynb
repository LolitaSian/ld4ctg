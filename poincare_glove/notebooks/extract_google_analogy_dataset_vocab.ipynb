{
 "cells": [
  {
   "cell_type": "code",
   "execution_count": 4,
   "metadata": {},
   "outputs": [],
   "source": [
    "import os\n",
    "import sets\n",
    "\n",
    "ROOT = \"/Users/alext/Documents/Master/Thesis/\""
   ]
  },
  {
   "cell_type": "code",
   "execution_count": 3,
   "metadata": {},
   "outputs": [
    {
     "name": "stdout",
     "output_type": "stream",
     "text": [
      "930\n"
     ]
    }
   ],
   "source": [
    "def get_semantically_rich_words():\n",
    "    filename = os.path.join(ROOT, \"msc_tifreaa/gensim/test/test_data/questions-words.txt\")\n",
    "\n",
    "    def flatten(l):\n",
    "        return [item for ll in l for item in ll]\n",
    "\n",
    "    with open(filename, \"r\") as f:\n",
    "        lines = [line.strip().split(\" \") for line in f.readlines()]\n",
    "        lines = list(filter(lambda l: l[0] is not \":\", lines))\n",
    "        words = list(set(flatten(lines)))\n",
    "        \n",
    "#     words = [\"one\", \"two\", \"three\", \"four\", \"five\", \"six\", \"seven\", \"eight\", \"nine\"] + words\n",
    "    words = [\"one\", \"two\", \"three\", \"four\", \"five\", \"six\", \"seven\", \"eight\", \"nine\", \n",
    "             \"man\", \"woman\", \n",
    "             \"prince\", \"king\", \"queen\", \"princess\",\n",
    "             \"french\", \"english\", \"spanish\", \"german\", \"american\", \"chinese\", \"indian\",\n",
    "             \"winter\", \"summer\", \"autumn\", \"spring\",\n",
    "             \"monday\", \"tuesday\", \"wednesday\", \"thursday\", \"friday\"] + words\n",
    "    return list(set(words))\n",
    "\n",
    "words = get_semantically_rich_words()\n",
    "print(len(words))\n",
    "with open(os.path.join(ROOT, \"data/google_analogy_vocab.txt\"), \"w\") as f:\n",
    "    for w in words:\n",
    "        f.write(w.lower() + \"\\n\")"
   ]
  },
  {
   "cell_type": "code",
   "execution_count": 5,
   "metadata": {},
   "outputs": [
    {
     "name": "stdout",
     "output_type": "stream",
     "text": [
      "1120\n"
     ]
    }
   ],
   "source": [
    "def get_semantically_rich_words_labeled():\n",
    "    filename = os.path.join(ROOT, \"msc_tifreaa/gensim/test/test_data/questions-words.txt\")\n",
    "\n",
    "    def flatten(l):\n",
    "        return [item for ll in l for item in ll]\n",
    "\n",
    "    label = \"\"\n",
    "    with open(filename, \"r\") as f:\n",
    "        lines = [line.strip() for line in f.readlines()]\n",
    "        words = []\n",
    "        for line in lines:\n",
    "            if \":\" in line:\n",
    "                label = line.split(\" \")[1]\n",
    "                continue\n",
    "            curr_words = line.split(\" \")\n",
    "            words += list(zip([label]*len(curr_words), curr_words))\n",
    "        \n",
    "    digits = [\"one\", \"two\", \"three\", \"four\", \"five\", \"six\", \"seven\", \"eight\", \"nine\"]\n",
    "    seasons = [\"winter\", \"summer\", \"autumn\", \"spring\"]\n",
    "    days = [\"monday\", \"tuesday\", \"wednesday\", \"thursday\", \"friday\"]\n",
    "    words += list(zip([\"digits\"]*len(digits), digits)) + list(zip([\"seasons\"]*len(seasons), seasons)) + \\\n",
    "             list(zip([\"days\"]*len(days), days))\n",
    "    \n",
    "    return list(set(words))\n",
    "\n",
    "words = get_semantically_rich_words_labeled()\n",
    "print(len(words))\n",
    "with open(os.path.join(ROOT, \"data/google_analogy_vocab_labeled.txt\"), \"w\") as f:\n",
    "    for word, label in words:\n",
    "        f.write(word.lower() + \" \" + label.lower() + \"\\n\")"
   ]
  },
  {
   "cell_type": "code",
   "execution_count": null,
   "metadata": {},
   "outputs": [],
   "source": []
  }
 ],
 "metadata": {
  "kernelspec": {
   "display_name": "Python 3",
   "language": "python",
   "name": "python3"
  },
  "language_info": {
   "codemirror_mode": {
    "name": "ipython",
    "version": 3
   },
   "file_extension": ".py",
   "mimetype": "text/x-python",
   "name": "python",
   "nbconvert_exporter": "python",
   "pygments_lexer": "ipython3",
   "version": "3.6.4"
  }
 },
 "nbformat": 4,
 "nbformat_minor": 2
}
