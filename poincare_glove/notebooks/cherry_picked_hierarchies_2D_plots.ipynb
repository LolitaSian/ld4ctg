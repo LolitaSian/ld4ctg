{
 "cells": [
  {
   "cell_type": "code",
   "execution_count": 2,
   "metadata": {},
   "outputs": [
    {
     "data": {
      "text/html": [
       "<script>requirejs.config({paths: { 'plotly': ['https://cdn.plot.ly/plotly-latest.min']},});if(!window.Plotly) {{require(['plotly'],function(plotly) {window.Plotly=plotly;});}}</script>"
      ],
      "text/vnd.plotly.v1+html": [
       "<script>requirejs.config({paths: { 'plotly': ['https://cdn.plot.ly/plotly-latest.min']},});if(!window.Plotly) {{require(['plotly'],function(plotly) {window.Plotly=plotly;});}}</script>"
      ]
     },
     "metadata": {},
     "output_type": "display_data"
    }
   ],
   "source": [
    "import colorsys\n",
    "import gensim\n",
    "from glove_code.src.glove import Glove\n",
    "from gensim.models.callbacks import LossLogger, LossSetter\n",
    "from gensim.models.keyedvectors import PoincareWordEmbeddingsKeyedVectors\n",
    "from IPython.display import HTML\n",
    "import itertools\n",
    "import logging\n",
    "import matplotlib.pyplot as plt\n",
    "from matplotlib import animation, rc, cm\n",
    "from matplotlib.collections import LineCollection\n",
    "import numpy as np\n",
    "from numpy.linalg import norm\n",
    "from numpy import dot\n",
    "from scipy.spatial.distance import pdist, squareform\n",
    "from sklearn.manifold import TSNE\n",
    "import os\n",
    "import plotly.plotly as py\n",
    "import plotly.graph_objs as go\n",
    "from plotly.offline import download_plotlyjs, init_notebook_mode, plot, iplot\n",
    "import sys\n",
    "\n",
    "init_notebook_mode(connected=True)\n",
    "logging.basicConfig(level=logging.WARN)\n",
    "\n",
    "ROOT = \"/Users/alext/Documents/Master/Thesis/\""
   ]
  },
  {
   "cell_type": "code",
   "execution_count": 18,
   "metadata": {},
   "outputs": [
    {
     "data": {
      "text/plain": [
       "6"
      ]
     },
     "execution_count": 18,
     "metadata": {},
     "output_type": "execute_result"
    }
   ],
   "source": [
    "# Get vocabulary of the Google word analogy benchmark + labels for each section\n",
    "def read_word_dict():\n",
    "    result_dict = {\n",
    "        \"president\": [\"obama\", \"eisenhower\", \"roosevelt\", \"clinton\", \"jefferson\", \"kennedy\", \"lincoln\", \"nixon\", \"reagan\"],\n",
    "        \"mathematics\": [\"geometry\", \"inequality\", \"arithmetic\", \"calculus\", \"algebra\", \"equation\", \"theorem\"],\n",
    "        \"number\": [\"one\", \"two\", \"three\", \"four\", \"five\", \"six\", \"seven\", \"eight\", \"nine\", \"ten\"],\n",
    "        \"chemistry\": [\"chemical\", \"oxygen\", \"carbon\", \"dioxide\", \"nitrogen\", \"chlorium\", \"zinc\", \"organic\"],\n",
    "        \"sport\": [\"maradona\", \"ronaldo\", \"messi\", \"lochte\", \"phelps\", \"spitz\", \"comneci\", \"mayweather\", \"pacquiao\"],\n",
    "        \"country\": [\"romania\", \"france\", \"germany\", \"england\", \"russia\", \"india\", \"china\", \"spain\"],\n",
    "    }\n",
    "    return result_dict\n",
    "\n",
    "def compute_poincare_aggregate(model):\n",
    "    \"\"\"\n",
    "    Precompute the average between the target and the context vector, for Poincare embeddings.\n",
    "    We take as average the mid point between w and c on the geodesic that connects the 2 points\n",
    "    (see page 89 in Ungar book).\n",
    "    \"\"\"\n",
    "    if model.poincare and getattr(model.wv, 'agg_vectors', None) is None:\n",
    "        print(\"precomputing aggregated vectors w+c for Poincare embeddings\")\n",
    "        gamma_w_sq = 1 / (1 - np.sum(model.wv.vectors * model.wv.vectors, axis=1))\n",
    "        gamma_c_sq = 1 / (1 - np.sum(model.trainables.syn1neg * model.trainables.syn1neg, axis=1))\n",
    "        denominator = gamma_w_sq + gamma_c_sq - 1\n",
    "        agg = (model.wv.vectors * (gamma_w_sq / denominator)[:, None] +\n",
    "               model.trainables.syn1neg * (gamma_c_sq / denominator)[:, None])\n",
    "\n",
    "        return model.wv.moebius_mul_mat(agg, 0.5)\n",
    "\n",
    "def HSVToRGB(h, s, v):\n",
    "    (r, g, b) = colorsys.hsv_to_rgb(h, s, v)\n",
    "    return (int(255*r), int(255*g), int(255*b))\n",
    "\n",
    "def get_colors(word_dict):\n",
    "    labels = word_dict.keys()\n",
    "    huePartition = 1.0 / (len(labels) + 1)\n",
    "    return dict(zip(labels, [HSVToRGB(huePartition * value, 1.0, 1.0) for value in range(0, len(labels))]))\n",
    "\n",
    "def plot_wordnet_embeddings(model, word_dict, left_offset=None, right_offset=None, ratio_words=1, aggregate=\"w\"):\n",
    "    colors = get_colors(labeled_word_dict)\n",
    "    if aggregate == \"w+c\":\n",
    "        vectors = compute_poincare_aggregate(model)\n",
    "    elif aggregate == \"w\":\n",
    "        vectors = model.wv.vectors    \n",
    "    elif aggregate == \"c\":\n",
    "        vectors = model.trainables.syn1neg   \n",
    "    else:\n",
    "        return None   \n",
    "    wv = model.wv\n",
    "    \n",
    "    embeddings = np.array([vectors[i] for i in range(len(wv.index2entity))])\n",
    "    traces = []\n",
    "    \n",
    "    for label, words in word_dict.items():\n",
    "        idxs = [wv.vocab[w].index for w in filter(lambda w: w in wv.vocab, words+[label])]\n",
    "        idxs = idxs[:int(len(idxs) * ratio_words)]\n",
    "        \n",
    "        label_idx = wv.vocab[label].index\n",
    "        \n",
    "        # Change the origin of the system.\n",
    "        embs = embeddings[idxs, :]\n",
    "        if left_offset is not None:\n",
    "            offset_mat = np.tile(left_offset.reshape(1, -1), (embs.shape[0], 1))\n",
    "            embs = PoincareWordEmbeddingsKeyedVectors.moebius_add_mat(offset_mat, embs)\n",
    "        if right_offset is not None:\n",
    "            offset_mat = np.tile(right_offset.reshape(1, -1), (embs.shape[0], 1))\n",
    "            embs = PoincareWordEmbeddingsKeyedVectors.moebius_add_mat(embs, offset_mat)\n",
    "\n",
    "        text_pos = 'top right'\n",
    "        if label == \"country\":\n",
    "            text_pos = 'bottom right'\n",
    "        traces.append(\n",
    "            go.Scatter(\n",
    "                x=embs[:, 0],\n",
    "                y=embs[:, 1],\n",
    "                text=[wv.index2word[idx] for idx in idxs],\n",
    "                textposition=text_pos,\n",
    "                name=label,\n",
    "                mode=\"markers+text\",\n",
    "                marker=dict(color=\"rgb\"+str(colors[label]))))\n",
    "\n",
    "    if model.poincare == 1:\n",
    "        layout = {\n",
    "            'width': 700,\n",
    "            'height': 650,\n",
    "            'xaxis': {\n",
    "                'range': [-1, 1],\n",
    "            },\n",
    "            'yaxis': {\n",
    "                'range': [-1, 1],\n",
    "            },\n",
    "        }\n",
    "    else:\n",
    "        layout = {}\n",
    "\n",
    "    return iplot(dict(data=traces, layout=layout))\n",
    "\n",
    "labeled_word_dict = read_word_dict()\n",
    "len(labeled_word_dict)"
   ]
  },
  {
   "cell_type": "markdown",
   "metadata": {},
   "source": [
    "# Word2Vec - 2D dot product embeddings on text8"
   ]
  },
  {
   "cell_type": "code",
   "execution_count": 4,
   "metadata": {},
   "outputs": [],
   "source": [
    "# model_fn = os.path.join(ROOT, \"models/word2vec_baseline/w2v_levy_sg_5_2_A025_a0001_n5_w5_c25000_cosine_OPTsgd\")\n",
    "model_fn = os.path.join(ROOT, \"models/word2vec_baseline/w2v_levy_sg_3_2_A025_a0001_n10_w5_c100_cosine\")\n",
    "model = gensim.models.Word2Vec.load(model_fn)\n",
    "wv = model.wv"
   ]
  },
  {
   "cell_type": "markdown",
   "metadata": {},
   "source": [
    "#### Note: Notice how for 2D word2vec the words seem to be embedded on a line (perhaps in higher dimensions this is still a relatively limited submanifold. This is similar to what Fig 3 from Hashimoto et al shows"
   ]
  },
  {
   "cell_type": "code",
   "execution_count": 5,
   "metadata": {},
   "outputs": [
    {
     "data": {
      "application/vnd.plotly.v1+json": {
       "data": [
        {
         "marker": {
          "color": "rgb(255, 0, 0)"
         },
         "mode": "markers+text",
         "name": "president",
         "text": [
          "obama",
          "eisenhower",
          "roosevelt",
          "clinton",
          "jefferson",
          "kennedy",
          "lincoln",
          "nixon",
          "reagan",
          "president"
         ],
         "textposition": "top right",
         "type": "scatter",
         "x": [
          2.1895885467529297,
          2.4627835750579834,
          1.8810354471206665,
          1.883392333984375,
          1.7265022993087769,
          1.9559072256088257,
          1.6975795030593872,
          1.9918084144592285,
          2.0275959968566895,
          1.3214682340621948
         ],
         "y": [
          0.5221889615058899,
          -0.2667316794395447,
          -1.0866329669952393,
          -0.9805008769035339,
          -1.4968369007110596,
          -0.736871600151062,
          -1.1550897359848022,
          -0.3158474564552307,
          -0.4206925332546234,
          -1.1674805879592896
         ]
        },
        {
         "marker": {
          "color": "rgb(255, 218, 0)"
         },
         "mode": "markers+text",
         "name": "mathematics",
         "text": [
          "geometry",
          "inequality",
          "arithmetic",
          "calculus",
          "algebra",
          "equation",
          "theorem",
          "mathematics"
         ],
         "textposition": "top right",
         "type": "scatter",
         "x": [
          3.659545660018921,
          3.2360193729400635,
          3.634490966796875,
          3.416733741760254,
          3.528038740158081,
          3.441561698913574,
          3.4090306758880615,
          2.428368330001831
         ],
         "y": [
          3.575841188430786,
          2.765883445739746,
          3.498246669769287,
          3.0831542015075684,
          3.313863754272461,
          3.6979217529296875,
          3.137928009033203,
          1.3885260820388794
         ]
        },
        {
         "marker": {
          "color": "rgb(72, 255, 0)"
         },
         "mode": "markers+text",
         "name": "science",
         "text": [
          "geography",
          "technology",
          "psychology",
          "topography",
          "architecture",
          "anatomy",
          "neuroscience",
          "science"
         ],
         "textposition": "top right",
         "type": "scatter",
         "x": [
          2.386017322540283,
          2.0047543048858643,
          2.5298922061920166,
          2.740583658218384,
          2.0662729740142822,
          2.8267576694488525,
          2.963857412338257,
          1.7349382638931274
         ],
         "y": [
          1.0374996662139893,
          0.9749147295951843,
          1.5786114931106567,
          1.4460783004760742,
          0.6364827752113342,
          1.779632329940796,
          1.8291597366333008,
          0.5405094027519226
         ]
        },
        {
         "marker": {
          "color": "rgb(0, 255, 145)"
         },
         "mode": "markers+text",
         "name": "number",
         "text": [
          "one",
          "two",
          "three",
          "four",
          "five",
          "six",
          "seven",
          "eight",
          "nine",
          "ten",
          "number"
         ],
         "textposition": "top right",
         "type": "scatter",
         "x": [
          1.262600064277649,
          1.346990704536438,
          1.3668444156646729,
          1.4559478759765625,
          1.5655615329742432,
          1.6311399936676025,
          1.684547781944275,
          1.7473912239074707,
          1.719341516494751,
          1.6042866706848145,
          1.6428401470184326
         ],
         "y": [
          0.7293011546134949,
          0.4756946265697479,
          0.21334703266620636,
          0.07516900449991226,
          0.04851430654525757,
          0.007898208685219288,
          -0.10186195373535156,
          -0.08454673737287521,
          -0.1615060269832611,
          0.10394784808158875,
          0.9051613807678223
         ]
        },
        {
         "marker": {
          "color": "rgb(0, 145, 255)"
         },
         "mode": "markers+text",
         "name": "sport",
         "text": [
          "maradona",
          "ronaldo",
          "messi",
          "lochte",
          "phelps",
          "spitz",
          "comneci",
          "mayweather",
          "pacquiao",
          "sport"
         ],
         "textposition": "top right",
         "type": "scatter",
         "x": [
          2.9092278480529785,
          2.5876286029815674,
          2.90554141998291,
          3.094835042953491,
          2.372802734375,
          2.689303398132324,
          2.9787845611572266,
          2.958698034286499,
          3.080779790878296,
          1.7643522024154663
         ],
         "y": [
          -0.7416632175445557,
          -0.935996949672699,
          -0.6677901148796082,
          -0.3070303797721863,
          -0.7682721018791199,
          0.25969719886779785,
          -0.0011895087081938982,
          -0.32198914885520935,
          -0.5120729804039001,
          0.19806982576847076
         ]
        },
        {
         "marker": {
          "color": "rgb(72, 0, 255)"
         },
         "mode": "markers+text",
         "name": "country",
         "text": [
          "romania",
          "france",
          "germany",
          "england",
          "russia",
          "india",
          "china",
          "spain",
          "country"
         ],
         "textposition": "top right",
         "type": "scatter",
         "x": [
          2.0847315788269043,
          1.566777229309082,
          1.3067318201065063,
          1.5360891819000244,
          1.3815408945083618,
          1.6343610286712646,
          0.615069568157196,
          1.4954078197479248,
          1.388524055480957
         ],
         "y": [
          -1.446763038635254,
          -1.2702420949935913,
          -1.334109902381897,
          -1.3031941652297974,
          -0.8439946174621582,
          -0.5457771420478821,
          -0.806692898273468,
          -1.3887900114059448,
          0.10312528908252716
         ]
        }
       ],
       "layout": {}
      },
      "text/html": [
       "<div id=\"5a801f10-4ed5-47d3-a1ae-d899f4c52f25\" style=\"height: 525px; width: 100%;\" class=\"plotly-graph-div\"></div><script type=\"text/javascript\">require([\"plotly\"], function(Plotly) { window.PLOTLYENV=window.PLOTLYENV || {};window.PLOTLYENV.BASE_URL=\"https://plot.ly\";Plotly.newPlot(\"5a801f10-4ed5-47d3-a1ae-d899f4c52f25\", [{\"type\": \"scatter\", \"x\": [2.1895885467529297, 2.4627835750579834, 1.8810354471206665, 1.883392333984375, 1.7265022993087769, 1.9559072256088257, 1.6975795030593872, 1.9918084144592285, 2.0275959968566895, 1.3214682340621948], \"y\": [0.5221889615058899, -0.2667316794395447, -1.0866329669952393, -0.9805008769035339, -1.4968369007110596, -0.736871600151062, -1.1550897359848022, -0.3158474564552307, -0.4206925332546234, -1.1674805879592896], \"text\": [\"obama\", \"eisenhower\", \"roosevelt\", \"clinton\", \"jefferson\", \"kennedy\", \"lincoln\", \"nixon\", \"reagan\", \"president\"], \"textposition\": \"top right\", \"name\": \"president\", \"mode\": \"markers+text\", \"marker\": {\"color\": \"rgb(255, 0, 0)\"}}, {\"type\": \"scatter\", \"x\": [3.659545660018921, 3.2360193729400635, 3.634490966796875, 3.416733741760254, 3.528038740158081, 3.441561698913574, 3.4090306758880615, 2.428368330001831], \"y\": [3.575841188430786, 2.765883445739746, 3.498246669769287, 3.0831542015075684, 3.313863754272461, 3.6979217529296875, 3.137928009033203, 1.3885260820388794], \"text\": [\"geometry\", \"inequality\", \"arithmetic\", \"calculus\", \"algebra\", \"equation\", \"theorem\", \"mathematics\"], \"textposition\": \"top right\", \"name\": \"mathematics\", \"mode\": \"markers+text\", \"marker\": {\"color\": \"rgb(255, 218, 0)\"}}, {\"type\": \"scatter\", \"x\": [2.386017322540283, 2.0047543048858643, 2.5298922061920166, 2.740583658218384, 2.0662729740142822, 2.8267576694488525, 2.963857412338257, 1.7349382638931274], \"y\": [1.0374996662139893, 0.9749147295951843, 1.5786114931106567, 1.4460783004760742, 0.6364827752113342, 1.779632329940796, 1.8291597366333008, 0.5405094027519226], \"text\": [\"geography\", \"technology\", \"psychology\", \"topography\", \"architecture\", \"anatomy\", \"neuroscience\", \"science\"], \"textposition\": \"top right\", \"name\": \"science\", \"mode\": \"markers+text\", \"marker\": {\"color\": \"rgb(72, 255, 0)\"}}, {\"type\": \"scatter\", \"x\": [1.262600064277649, 1.346990704536438, 1.3668444156646729, 1.4559478759765625, 1.5655615329742432, 1.6311399936676025, 1.684547781944275, 1.7473912239074707, 1.719341516494751, 1.6042866706848145, 1.6428401470184326], \"y\": [0.7293011546134949, 0.4756946265697479, 0.21334703266620636, 0.07516900449991226, 0.04851430654525757, 0.007898208685219288, -0.10186195373535156, -0.08454673737287521, -0.1615060269832611, 0.10394784808158875, 0.9051613807678223], \"text\": [\"one\", \"two\", \"three\", \"four\", \"five\", \"six\", \"seven\", \"eight\", \"nine\", \"ten\", \"number\"], \"textposition\": \"top right\", \"name\": \"number\", \"mode\": \"markers+text\", \"marker\": {\"color\": \"rgb(0, 255, 145)\"}}, {\"type\": \"scatter\", \"x\": [2.9092278480529785, 2.5876286029815674, 2.90554141998291, 3.094835042953491, 2.372802734375, 2.689303398132324, 2.9787845611572266, 2.958698034286499, 3.080779790878296, 1.7643522024154663], \"y\": [-0.7416632175445557, -0.935996949672699, -0.6677901148796082, -0.3070303797721863, -0.7682721018791199, 0.25969719886779785, -0.0011895087081938982, -0.32198914885520935, -0.5120729804039001, 0.19806982576847076], \"text\": [\"maradona\", \"ronaldo\", \"messi\", \"lochte\", \"phelps\", \"spitz\", \"comneci\", \"mayweather\", \"pacquiao\", \"sport\"], \"textposition\": \"top right\", \"name\": \"sport\", \"mode\": \"markers+text\", \"marker\": {\"color\": \"rgb(0, 145, 255)\"}}, {\"type\": \"scatter\", \"x\": [2.0847315788269043, 1.566777229309082, 1.3067318201065063, 1.5360891819000244, 1.3815408945083618, 1.6343610286712646, 0.615069568157196, 1.4954078197479248, 1.388524055480957], \"y\": [-1.446763038635254, -1.2702420949935913, -1.334109902381897, -1.3031941652297974, -0.8439946174621582, -0.5457771420478821, -0.806692898273468, -1.3887900114059448, 0.10312528908252716], \"text\": [\"romania\", \"france\", \"germany\", \"england\", \"russia\", \"india\", \"china\", \"spain\", \"country\"], \"textposition\": \"top right\", \"name\": \"country\", \"mode\": \"markers+text\", \"marker\": {\"color\": \"rgb(72, 0, 255)\"}}], {}, {\"showLink\": true, \"linkText\": \"Export to plot.ly\"})});</script>"
      ],
      "text/vnd.plotly.v1+html": [
       "<div id=\"5a801f10-4ed5-47d3-a1ae-d899f4c52f25\" style=\"height: 525px; width: 100%;\" class=\"plotly-graph-div\"></div><script type=\"text/javascript\">require([\"plotly\"], function(Plotly) { window.PLOTLYENV=window.PLOTLYENV || {};window.PLOTLYENV.BASE_URL=\"https://plot.ly\";Plotly.newPlot(\"5a801f10-4ed5-47d3-a1ae-d899f4c52f25\", [{\"type\": \"scatter\", \"x\": [2.1895885467529297, 2.4627835750579834, 1.8810354471206665, 1.883392333984375, 1.7265022993087769, 1.9559072256088257, 1.6975795030593872, 1.9918084144592285, 2.0275959968566895, 1.3214682340621948], \"y\": [0.5221889615058899, -0.2667316794395447, -1.0866329669952393, -0.9805008769035339, -1.4968369007110596, -0.736871600151062, -1.1550897359848022, -0.3158474564552307, -0.4206925332546234, -1.1674805879592896], \"text\": [\"obama\", \"eisenhower\", \"roosevelt\", \"clinton\", \"jefferson\", \"kennedy\", \"lincoln\", \"nixon\", \"reagan\", \"president\"], \"textposition\": \"top right\", \"name\": \"president\", \"mode\": \"markers+text\", \"marker\": {\"color\": \"rgb(255, 0, 0)\"}}, {\"type\": \"scatter\", \"x\": [3.659545660018921, 3.2360193729400635, 3.634490966796875, 3.416733741760254, 3.528038740158081, 3.441561698913574, 3.4090306758880615, 2.428368330001831], \"y\": [3.575841188430786, 2.765883445739746, 3.498246669769287, 3.0831542015075684, 3.313863754272461, 3.6979217529296875, 3.137928009033203, 1.3885260820388794], \"text\": [\"geometry\", \"inequality\", \"arithmetic\", \"calculus\", \"algebra\", \"equation\", \"theorem\", \"mathematics\"], \"textposition\": \"top right\", \"name\": \"mathematics\", \"mode\": \"markers+text\", \"marker\": {\"color\": \"rgb(255, 218, 0)\"}}, {\"type\": \"scatter\", \"x\": [2.386017322540283, 2.0047543048858643, 2.5298922061920166, 2.740583658218384, 2.0662729740142822, 2.8267576694488525, 2.963857412338257, 1.7349382638931274], \"y\": [1.0374996662139893, 0.9749147295951843, 1.5786114931106567, 1.4460783004760742, 0.6364827752113342, 1.779632329940796, 1.8291597366333008, 0.5405094027519226], \"text\": [\"geography\", \"technology\", \"psychology\", \"topography\", \"architecture\", \"anatomy\", \"neuroscience\", \"science\"], \"textposition\": \"top right\", \"name\": \"science\", \"mode\": \"markers+text\", \"marker\": {\"color\": \"rgb(72, 255, 0)\"}}, {\"type\": \"scatter\", \"x\": [1.262600064277649, 1.346990704536438, 1.3668444156646729, 1.4559478759765625, 1.5655615329742432, 1.6311399936676025, 1.684547781944275, 1.7473912239074707, 1.719341516494751, 1.6042866706848145, 1.6428401470184326], \"y\": [0.7293011546134949, 0.4756946265697479, 0.21334703266620636, 0.07516900449991226, 0.04851430654525757, 0.007898208685219288, -0.10186195373535156, -0.08454673737287521, -0.1615060269832611, 0.10394784808158875, 0.9051613807678223], \"text\": [\"one\", \"two\", \"three\", \"four\", \"five\", \"six\", \"seven\", \"eight\", \"nine\", \"ten\", \"number\"], \"textposition\": \"top right\", \"name\": \"number\", \"mode\": \"markers+text\", \"marker\": {\"color\": \"rgb(0, 255, 145)\"}}, {\"type\": \"scatter\", \"x\": [2.9092278480529785, 2.5876286029815674, 2.90554141998291, 3.094835042953491, 2.372802734375, 2.689303398132324, 2.9787845611572266, 2.958698034286499, 3.080779790878296, 1.7643522024154663], \"y\": [-0.7416632175445557, -0.935996949672699, -0.6677901148796082, -0.3070303797721863, -0.7682721018791199, 0.25969719886779785, -0.0011895087081938982, -0.32198914885520935, -0.5120729804039001, 0.19806982576847076], \"text\": [\"maradona\", \"ronaldo\", \"messi\", \"lochte\", \"phelps\", \"spitz\", \"comneci\", \"mayweather\", \"pacquiao\", \"sport\"], \"textposition\": \"top right\", \"name\": \"sport\", \"mode\": \"markers+text\", \"marker\": {\"color\": \"rgb(0, 145, 255)\"}}, {\"type\": \"scatter\", \"x\": [2.0847315788269043, 1.566777229309082, 1.3067318201065063, 1.5360891819000244, 1.3815408945083618, 1.6343610286712646, 0.615069568157196, 1.4954078197479248, 1.388524055480957], \"y\": [-1.446763038635254, -1.2702420949935913, -1.334109902381897, -1.3031941652297974, -0.8439946174621582, -0.5457771420478821, -0.806692898273468, -1.3887900114059448, 0.10312528908252716], \"text\": [\"romania\", \"france\", \"germany\", \"england\", \"russia\", \"india\", \"china\", \"spain\", \"country\"], \"textposition\": \"top right\", \"name\": \"country\", \"mode\": \"markers+text\", \"marker\": {\"color\": \"rgb(72, 0, 255)\"}}], {}, {\"showLink\": true, \"linkText\": \"Export to plot.ly\"})});</script>"
      ]
     },
     "metadata": {},
     "output_type": "display_data"
    }
   ],
   "source": [
    "plot_wordnet_embeddings(model, labeled_word_dict, ratio_words=1, aggregate=\"c\")"
   ]
  },
  {
   "cell_type": "markdown",
   "metadata": {},
   "source": [
    "# Word2Vec - 2D Poincare embeddings"
   ]
  },
  {
   "cell_type": "code",
   "execution_count": 4,
   "metadata": {},
   "outputs": [],
   "source": [
    "# levy\n",
    "hyp_model_fn = {\n",
    "    \"NLL_dist_sq\": os.path.join(ROOT, \"models/geometric_emb/w2v_levy_nll_1_2_A05_a001_n5_w5_c100_poincare_OPTwfullrsgd_burnin1\"),\n",
    "    \"NLL_cosh_dist\": os.path.join(ROOT, \"models/geometric_emb/w2v_levy_nll_3_2_A01_a0001_n5_w5_c100_poincare_OPTwfullrsgd_SIMcosh-dist_burnin1\"),\n",
    "    \"NLL_cosh_dist_sq\": os.path.join(ROOT, \"models/geometric_emb/w2v_levy_nll_3_2_A01_a0001_n5_w5_c100_poincare_OPTwfullrsgd_SIMcosh-dist-sq_burnin1\"),\n",
    "    \"NLL_log_dist\": os.path.join(ROOT, \"models/geometric_emb/w2v_levy_nll_3_2_A005_a0001_n5_w5_c100_poincare_OPTwfullrsgd_SIMlog-dist_burnin1\"),\n",
    "    \"NLL_log_dist_sq\": os.path.join(ROOT, \"models/geometric_emb/w2v_levy_nll_3_2_A005_a0001_n5_w5_c100_poincare_OPTwfullrsgd_SIMlog-dist-sq_burnin1\"),\n",
    "    \"SGNS_dist_sq\": os.path.join(ROOT, \"models/geometric_emb/w2v_levy_sg_3_2_A01_a0001_n5_w5_c100_poincare_OPTwfullrsgd_SIMcosh-dist-sq_burnin1\"),\n",
    "    \"SGNS_cosh_dist\": os.path.join(ROOT, \"models/geometric_emb/w2v_levy_sg_3_2_A01_a0001_n5_w5_c100_poincare_OPTwfullrsgd_SIMcosh-dist_burnin1\"),\n",
    "    \"SGNS_cosh_dist_sq\": os.path.join(ROOT, \"models/geometric_emb/w2v_levy_sg_3_2_A01_a0001_n5_w5_c100_poincare_OPTwfullrsgd_SIMdist-sq_burnin1\"),\n",
    "    \"NLL_exp_dist\": os.path.join(ROOT, \"models/geometric_emb/w2v_levy_nll_3_2_A005_a0001_n5_w5_c100_poincare_OPTwfullrsgd_SIMexp-dist_burnin1\"),\n",
    "}\n",
    "\n",
    "# text8\n",
    "# hyp_model_fn = os.path.join(ROOT, \"models/geometric_emb/w2v_text8_nll_3_2_A01_a01_n5_w5_c50_poincare_OPTwfullrsgd_SIMcosh-dist-sq\")\n",
    "# hyp_model_fn = os.path.join(ROOT, \"models/geometric_emb/w2v_text8_nll_1_2_A05_a001_n5_w5_c50_poincare_OPTwfullrsgd_bias_burnin1\")\n",
    "# hyp_model_fn = os.path.join(ROOT, \"models/geometric_emb/w2v_text8_nll_1_2_A005_a005_n5_w5_c50_poincare_OPTwfullrsgd_SIMlog-dist\")"
   ]
  },
  {
   "cell_type": "code",
   "execution_count": 19,
   "metadata": {
    "scrolled": false
   },
   "outputs": [
    {
     "data": {
      "application/vnd.plotly.v1+json": {
       "data": [
        {
         "marker": {
          "color": "rgb(255, 0, 0)"
         },
         "mode": "markers+text",
         "name": "president",
         "text": [
          "obama",
          "eisenhower",
          "roosevelt",
          "clinton",
          "jefferson",
          "kennedy",
          "lincoln",
          "nixon",
          "reagan",
          "president"
         ],
         "textposition": "top right",
         "type": "scatter",
         "x": [
          -0.4362396365913159,
          0.0008702548472464545,
          -0.17601590621335447,
          -0.2029853034327906,
          -0.1474797726479138,
          -0.2266765132818281,
          -0.23435804918306924,
          0.049540384412019106,
          -0.08138312349442062,
          -0.2409124810409675
         ],
         "y": [
          0.7293519334534664,
          0.837994527313743,
          0.761405989268464,
          0.7625120848351328,
          0.7482235313116146,
          0.7424719110866843,
          0.7148271233407095,
          0.744465069741847,
          0.7768706884713087,
          0.6182363250220296
         ]
        },
        {
         "marker": {
          "color": "rgb(255, 218, 0)"
         },
         "mode": "markers+text",
         "name": "mathematics",
         "text": [
          "geometry",
          "inequality",
          "arithmetic",
          "calculus",
          "algebra",
          "equation",
          "theorem",
          "mathematics"
         ],
         "textposition": "top right",
         "type": "scatter",
         "x": [
          -0.37107357995144136,
          0.22979126120783894,
          0.08676552251890213,
          0.10218731219132866,
          -0.32479918801328167,
          -0.428812407240995,
          -0.3184921720343627,
          0.10478091232598355
         ],
         "y": [
          -0.6417550669501992,
          -0.5846245079443277,
          -0.6533123719435597,
          -0.6442312076139961,
          -0.6661019621061294,
          -0.6269280347815405,
          -0.6531963888062068,
          -0.44968297993473794
         ]
        },
        {
         "marker": {
          "color": "rgb(72, 255, 0)"
         },
         "mode": "markers+text",
         "name": "number",
         "text": [
          "one",
          "two",
          "three",
          "four",
          "five",
          "six",
          "seven",
          "eight",
          "nine",
          "ten",
          "number"
         ],
         "textposition": "top right",
         "type": "scatter",
         "x": [
          -0.5815202147734293,
          -0.5177020847071183,
          -0.6032686407632596,
          -0.6661652766947137,
          -0.7070215868142521,
          -0.710944405553794,
          -0.7262467718844536,
          -0.741285272558867,
          -0.7547603005013122,
          -0.7517969520015689,
          -0.3315359960541697
         ],
         "y": [
          0.06427198810563962,
          0.11499020405220468,
          0.19464008557604917,
          0.24765781212048515,
          0.2655769328850918,
          0.2751040738438388,
          0.29887543867819977,
          0.3084938488308576,
          0.320167704327372,
          0.27809456404829314,
          -0.12549524300711715
         ]
        },
        {
         "marker": {
          "color": "rgb(0, 255, 145)"
         },
         "mode": "markers+text",
         "name": "chemistry",
         "text": [
          "chemical",
          "oxygen",
          "carbon",
          "dioxide",
          "nitrogen",
          "zinc",
          "organic",
          "chemistry"
         ],
         "textposition": "top right",
         "type": "scatter",
         "x": [
          -0.3028340862030394,
          -0.36040412246539744,
          -0.3135277016953405,
          -0.2967945079226158,
          -0.2635431380492234,
          0.007910699709960336,
          -0.31622421927762495,
          0.15855333190363138
         ],
         "y": [
          -0.5426363740420127,
          -0.5990758735424982,
          -0.6043517937184135,
          -0.7046590182212588,
          -0.677557799777806,
          -0.6697497077687611,
          -0.5805956587386816,
          -0.4266097480752105
         ]
        },
        {
         "marker": {
          "color": "rgb(0, 145, 255)"
         },
         "mode": "markers+text",
         "name": "sport",
         "text": [
          "maradona",
          "ronaldo",
          "messi",
          "lochte",
          "phelps",
          "spitz",
          "comneci",
          "mayweather",
          "pacquiao",
          "sport"
         ],
         "textposition": "top right",
         "type": "scatter",
         "x": [
          0.7583849266085335,
          0.7193995586146046,
          0.7737342125361949,
          0.8331866018446227,
          0.55940580735171,
          0.7595834242222255,
          0.8302339827191975,
          0.7814398320890698,
          0.7736323899364165,
          0.21446929667998166
         ],
         "y": [
          0.06624003945848933,
          0.0442882613258062,
          -0.011530319977199655,
          -0.08556944223844638,
          0.36846678259425725,
          -0.07158623839972368,
          -0.09370622233416655,
          -0.02650527470191129,
          -0.04237041868199356,
          -0.03485302079626706
         ]
        },
        {
         "marker": {
          "color": "rgb(72, 0, 255)"
         },
         "mode": "markers+text",
         "name": "country",
         "text": [
          "romania",
          "france",
          "germany",
          "england",
          "russia",
          "india",
          "china",
          "spain",
          "country"
         ],
         "textposition": "bottom right",
         "type": "scatter",
         "x": [
          -0.07053189986147132,
          -0.17310773960767295,
          -0.31698422860774417,
          -0.340798757984637,
          -0.2227400478142074,
          -0.043256379530351295,
          -0.15674961026603565,
          -0.156665165141436,
          -0.004944163109621188
         ],
         "y": [
          0.7115173997516193,
          0.6333384750591385,
          0.6363093373551579,
          0.6034368419948606,
          0.6531558790446405,
          0.5154419827521101,
          0.6010058744409891,
          0.6617985908370482,
          0.048136930866069426
         ]
        }
       ],
       "layout": {
        "height": 650,
        "width": 700,
        "xaxis": {
         "range": [
          -1,
          1
         ]
        },
        "yaxis": {
         "range": [
          -1,
          1
         ]
        }
       }
      },
      "text/html": [
       "<div id=\"dc39259d-3e37-42ad-a9d3-d7ff13cbcce1\" style=\"height: 650px; width: 700px;\" class=\"plotly-graph-div\"></div><script type=\"text/javascript\">require([\"plotly\"], function(Plotly) { window.PLOTLYENV=window.PLOTLYENV || {};window.PLOTLYENV.BASE_URL=\"https://plot.ly\";Plotly.newPlot(\"dc39259d-3e37-42ad-a9d3-d7ff13cbcce1\", [{\"type\": \"scatter\", \"x\": [-0.4362396365913159, 0.0008702548472464545, -0.17601590621335447, -0.2029853034327906, -0.1474797726479138, -0.2266765132818281, -0.23435804918306924, 0.049540384412019106, -0.08138312349442062, -0.2409124810409675], \"y\": [0.7293519334534664, 0.837994527313743, 0.761405989268464, 0.7625120848351328, 0.7482235313116146, 0.7424719110866843, 0.7148271233407095, 0.744465069741847, 0.7768706884713087, 0.6182363250220296], \"text\": [\"obama\", \"eisenhower\", \"roosevelt\", \"clinton\", \"jefferson\", \"kennedy\", \"lincoln\", \"nixon\", \"reagan\", \"president\"], \"textposition\": \"top right\", \"name\": \"president\", \"mode\": \"markers+text\", \"marker\": {\"color\": \"rgb(255, 0, 0)\"}}, {\"type\": \"scatter\", \"x\": [-0.37107357995144136, 0.22979126120783894, 0.08676552251890213, 0.10218731219132866, -0.32479918801328167, -0.428812407240995, -0.3184921720343627, 0.10478091232598355], \"y\": [-0.6417550669501992, -0.5846245079443277, -0.6533123719435597, -0.6442312076139961, -0.6661019621061294, -0.6269280347815405, -0.6531963888062068, -0.44968297993473794], \"text\": [\"geometry\", \"inequality\", \"arithmetic\", \"calculus\", \"algebra\", \"equation\", \"theorem\", \"mathematics\"], \"textposition\": \"top right\", \"name\": \"mathematics\", \"mode\": \"markers+text\", \"marker\": {\"color\": \"rgb(255, 218, 0)\"}}, {\"type\": \"scatter\", \"x\": [-0.5815202147734293, -0.5177020847071183, -0.6032686407632596, -0.6661652766947137, -0.7070215868142521, -0.710944405553794, -0.7262467718844536, -0.741285272558867, -0.7547603005013122, -0.7517969520015689, -0.3315359960541697], \"y\": [0.06427198810563962, 0.11499020405220468, 0.19464008557604917, 0.24765781212048515, 0.2655769328850918, 0.2751040738438388, 0.29887543867819977, 0.3084938488308576, 0.320167704327372, 0.27809456404829314, -0.12549524300711715], \"text\": [\"one\", \"two\", \"three\", \"four\", \"five\", \"six\", \"seven\", \"eight\", \"nine\", \"ten\", \"number\"], \"textposition\": \"top right\", \"name\": \"number\", \"mode\": \"markers+text\", \"marker\": {\"color\": \"rgb(72, 255, 0)\"}}, {\"type\": \"scatter\", \"x\": [-0.3028340862030394, -0.36040412246539744, -0.3135277016953405, -0.2967945079226158, -0.2635431380492234, 0.007910699709960336, -0.31622421927762495, 0.15855333190363138], \"y\": [-0.5426363740420127, -0.5990758735424982, -0.6043517937184135, -0.7046590182212588, -0.677557799777806, -0.6697497077687611, -0.5805956587386816, -0.4266097480752105], \"text\": [\"chemical\", \"oxygen\", \"carbon\", \"dioxide\", \"nitrogen\", \"zinc\", \"organic\", \"chemistry\"], \"textposition\": \"top right\", \"name\": \"chemistry\", \"mode\": \"markers+text\", \"marker\": {\"color\": \"rgb(0, 255, 145)\"}}, {\"type\": \"scatter\", \"x\": [0.7583849266085335, 0.7193995586146046, 0.7737342125361949, 0.8331866018446227, 0.55940580735171, 0.7595834242222255, 0.8302339827191975, 0.7814398320890698, 0.7736323899364165, 0.21446929667998166], \"y\": [0.06624003945848933, 0.0442882613258062, -0.011530319977199655, -0.08556944223844638, 0.36846678259425725, -0.07158623839972368, -0.09370622233416655, -0.02650527470191129, -0.04237041868199356, -0.03485302079626706], \"text\": [\"maradona\", \"ronaldo\", \"messi\", \"lochte\", \"phelps\", \"spitz\", \"comneci\", \"mayweather\", \"pacquiao\", \"sport\"], \"textposition\": \"top right\", \"name\": \"sport\", \"mode\": \"markers+text\", \"marker\": {\"color\": \"rgb(0, 145, 255)\"}}, {\"type\": \"scatter\", \"x\": [-0.07053189986147132, -0.17310773960767295, -0.31698422860774417, -0.340798757984637, -0.2227400478142074, -0.043256379530351295, -0.15674961026603565, -0.156665165141436, -0.004944163109621188], \"y\": [0.7115173997516193, 0.6333384750591385, 0.6363093373551579, 0.6034368419948606, 0.6531558790446405, 0.5154419827521101, 0.6010058744409891, 0.6617985908370482, 0.048136930866069426], \"text\": [\"romania\", \"france\", \"germany\", \"england\", \"russia\", \"india\", \"china\", \"spain\", \"country\"], \"textposition\": \"bottom right\", \"name\": \"country\", \"mode\": \"markers+text\", \"marker\": {\"color\": \"rgb(72, 0, 255)\"}}], {\"width\": 700, \"height\": 650, \"xaxis\": {\"range\": [-1, 1]}, \"yaxis\": {\"range\": [-1, 1]}}, {\"showLink\": true, \"linkText\": \"Export to plot.ly\"})});</script>"
      ],
      "text/vnd.plotly.v1+html": [
       "<div id=\"dc39259d-3e37-42ad-a9d3-d7ff13cbcce1\" style=\"height: 650px; width: 700px;\" class=\"plotly-graph-div\"></div><script type=\"text/javascript\">require([\"plotly\"], function(Plotly) { window.PLOTLYENV=window.PLOTLYENV || {};window.PLOTLYENV.BASE_URL=\"https://plot.ly\";Plotly.newPlot(\"dc39259d-3e37-42ad-a9d3-d7ff13cbcce1\", [{\"type\": \"scatter\", \"x\": [-0.4362396365913159, 0.0008702548472464545, -0.17601590621335447, -0.2029853034327906, -0.1474797726479138, -0.2266765132818281, -0.23435804918306924, 0.049540384412019106, -0.08138312349442062, -0.2409124810409675], \"y\": [0.7293519334534664, 0.837994527313743, 0.761405989268464, 0.7625120848351328, 0.7482235313116146, 0.7424719110866843, 0.7148271233407095, 0.744465069741847, 0.7768706884713087, 0.6182363250220296], \"text\": [\"obama\", \"eisenhower\", \"roosevelt\", \"clinton\", \"jefferson\", \"kennedy\", \"lincoln\", \"nixon\", \"reagan\", \"president\"], \"textposition\": \"top right\", \"name\": \"president\", \"mode\": \"markers+text\", \"marker\": {\"color\": \"rgb(255, 0, 0)\"}}, {\"type\": \"scatter\", \"x\": [-0.37107357995144136, 0.22979126120783894, 0.08676552251890213, 0.10218731219132866, -0.32479918801328167, -0.428812407240995, -0.3184921720343627, 0.10478091232598355], \"y\": [-0.6417550669501992, -0.5846245079443277, -0.6533123719435597, -0.6442312076139961, -0.6661019621061294, -0.6269280347815405, -0.6531963888062068, -0.44968297993473794], \"text\": [\"geometry\", \"inequality\", \"arithmetic\", \"calculus\", \"algebra\", \"equation\", \"theorem\", \"mathematics\"], \"textposition\": \"top right\", \"name\": \"mathematics\", \"mode\": \"markers+text\", \"marker\": {\"color\": \"rgb(255, 218, 0)\"}}, {\"type\": \"scatter\", \"x\": [-0.5815202147734293, -0.5177020847071183, -0.6032686407632596, -0.6661652766947137, -0.7070215868142521, -0.710944405553794, -0.7262467718844536, -0.741285272558867, -0.7547603005013122, -0.7517969520015689, -0.3315359960541697], \"y\": [0.06427198810563962, 0.11499020405220468, 0.19464008557604917, 0.24765781212048515, 0.2655769328850918, 0.2751040738438388, 0.29887543867819977, 0.3084938488308576, 0.320167704327372, 0.27809456404829314, -0.12549524300711715], \"text\": [\"one\", \"two\", \"three\", \"four\", \"five\", \"six\", \"seven\", \"eight\", \"nine\", \"ten\", \"number\"], \"textposition\": \"top right\", \"name\": \"number\", \"mode\": \"markers+text\", \"marker\": {\"color\": \"rgb(72, 255, 0)\"}}, {\"type\": \"scatter\", \"x\": [-0.3028340862030394, -0.36040412246539744, -0.3135277016953405, -0.2967945079226158, -0.2635431380492234, 0.007910699709960336, -0.31622421927762495, 0.15855333190363138], \"y\": [-0.5426363740420127, -0.5990758735424982, -0.6043517937184135, -0.7046590182212588, -0.677557799777806, -0.6697497077687611, -0.5805956587386816, -0.4266097480752105], \"text\": [\"chemical\", \"oxygen\", \"carbon\", \"dioxide\", \"nitrogen\", \"zinc\", \"organic\", \"chemistry\"], \"textposition\": \"top right\", \"name\": \"chemistry\", \"mode\": \"markers+text\", \"marker\": {\"color\": \"rgb(0, 255, 145)\"}}, {\"type\": \"scatter\", \"x\": [0.7583849266085335, 0.7193995586146046, 0.7737342125361949, 0.8331866018446227, 0.55940580735171, 0.7595834242222255, 0.8302339827191975, 0.7814398320890698, 0.7736323899364165, 0.21446929667998166], \"y\": [0.06624003945848933, 0.0442882613258062, -0.011530319977199655, -0.08556944223844638, 0.36846678259425725, -0.07158623839972368, -0.09370622233416655, -0.02650527470191129, -0.04237041868199356, -0.03485302079626706], \"text\": [\"maradona\", \"ronaldo\", \"messi\", \"lochte\", \"phelps\", \"spitz\", \"comneci\", \"mayweather\", \"pacquiao\", \"sport\"], \"textposition\": \"top right\", \"name\": \"sport\", \"mode\": \"markers+text\", \"marker\": {\"color\": \"rgb(0, 145, 255)\"}}, {\"type\": \"scatter\", \"x\": [-0.07053189986147132, -0.17310773960767295, -0.31698422860774417, -0.340798757984637, -0.2227400478142074, -0.043256379530351295, -0.15674961026603565, -0.156665165141436, -0.004944163109621188], \"y\": [0.7115173997516193, 0.6333384750591385, 0.6363093373551579, 0.6034368419948606, 0.6531558790446405, 0.5154419827521101, 0.6010058744409891, 0.6617985908370482, 0.048136930866069426], \"text\": [\"romania\", \"france\", \"germany\", \"england\", \"russia\", \"india\", \"china\", \"spain\", \"country\"], \"textposition\": \"bottom right\", \"name\": \"country\", \"mode\": \"markers+text\", \"marker\": {\"color\": \"rgb(72, 0, 255)\"}}], {\"width\": 700, \"height\": 650, \"xaxis\": {\"range\": [-1, 1]}, \"yaxis\": {\"range\": [-1, 1]}}, {\"showLink\": true, \"linkText\": \"Export to plot.ly\"})});</script>"
      ]
     },
     "metadata": {},
     "output_type": "display_data"
    }
   ],
   "source": [
    "hyp_model = gensim.models.Word2Vec.load(hyp_model_fn[\"NLL_log_dist_sq\"])\n",
    "hyp_wv = hyp_model.wv\n",
    "offset = None # np.array([0.25, 0])\n",
    "\n",
    "plot_wordnet_embeddings(hyp_model, labeled_word_dict, ratio_words=1,\n",
    "                        left_offset=offset, right_offset=offset, aggregate=\"c\")"
   ]
  },
  {
   "cell_type": "markdown",
   "metadata": {},
   "source": [
    "# GloVe - 2D Poincare embeddings"
   ]
  },
  {
   "cell_type": "code",
   "execution_count": 49,
   "metadata": {},
   "outputs": [],
   "source": [
    "# vocab=10k\n",
    "hyp_model_fn_10k = {\n",
    "    \"dist_sq\": os.path.join(ROOT, \"models/glove/geometric_emb/glove_ep5_size2_lr0.01_vocab10000_poincare_OPTradagrad_COOCCFUNClog_DISTFUNCdist-sq_bias\"),\n",
    "    \"dist_sq-scale5\": os.path.join(ROOT, \"models/glove/geometric_emb/glove_ep5_size2_lr0.01_vocab10000_poincare_OPTradagrad_COOCCFUNClog_DISTFUNCdist-sq_bias_scale5\"),\n",
    "    \"cosh_dist\": os.path.join(ROOT, \"models/glove/geometric_emb/glove_ep5_size2_lr0.01_vocab10000_poincare_OPTradagrad_COOCCFUNClog_DISTFUNCcosh-dist_bias\"),\n",
    "    \"cosh_dist-scale5\": os.path.join(ROOT, \"models/glove/geometric_emb/glove_ep5_size2_lr0.01_vocab10000_poincare_OPTradagrad_COOCCFUNClog_DISTFUNCcosh-dist_bias_scale5\"),\n",
    "}\n",
    "\n",
    "# vocab=180k\n",
    "hyp_model_fn_180k = {\n",
    "    \"dist_sq\": os.path.join(ROOT, \"models/glove/geometric_emb/glove_ep50_size2_lr0.05_vocab200000_poincare_OPTradagrad_COOCCFUNClog_DISTFUNCdist-sq_bias\"),\n",
    "    \"dist_sq-scale5\": os.path.join(ROOT, \"models/glove/geometric_emb/glove_ep50_size2_lr0.01_vocab200000_poincare_OPTradagrad_COOCCFUNClog_DISTFUNCdist-sq_bias_scale5\"),\n",
    "}"
   ]
  },
  {
   "cell_type": "code",
   "execution_count": 56,
   "metadata": {
    "scrolled": false
   },
   "outputs": [
    {
     "data": {
      "application/vnd.plotly.v1+json": {
       "data": [
        {
         "marker": {
          "color": "rgb(255, 0, 0)"
         },
         "mode": "markers+text",
         "name": "president",
         "text": [
          "obama",
          "roosevelt",
          "clinton",
          "jefferson",
          "kennedy",
          "lincoln",
          "nixon",
          "reagan",
          "president"
         ],
         "textposition": "top right",
         "type": "scatter",
         "x": [
          0.028816232457756996,
          0.5032644271850586,
          0.4823351502418518,
          0.6195206642150879,
          0.5739967823028564,
          0.6152129173278809,
          0.3879134953022003,
          0.3809114396572113,
          0.5691429972648621
         ],
         "y": [
          0.14168356359004974,
          0.17998561263084412,
          0.26121604442596436,
          0.19522272050380707,
          0.3641508221626282,
          0.11513052135705948,
          0.2631327211856842,
          0.27527594566345215,
          0.28188803791999817
         ]
        },
        {
         "marker": {
          "color": "rgb(255, 218, 0)"
         },
         "mode": "markers+text",
         "name": "mathematics",
         "text": [
          "geometry",
          "algebra",
          "equation",
          "theorem",
          "mathematics"
         ],
         "textposition": "top right",
         "type": "scatter",
         "x": [
          -0.17673829197883606,
          0.17780449986457825,
          -0.22825190424919128,
          -0.1571255922317505,
          0.023854518309235573
         ],
         "y": [
          0.08120574802160263,
          -0.15232662856578827,
          -0.016852961853146553,
          0.021608661860227585,
          0.19546353816986084
         ]
        },
        {
         "marker": {
          "color": "rgb(72, 255, 0)"
         },
         "mode": "markers+text",
         "name": "number",
         "text": [
          "one",
          "two",
          "three",
          "four",
          "five",
          "six",
          "seven",
          "eight",
          "nine",
          "ten",
          "number"
         ],
         "textposition": "top right",
         "type": "scatter",
         "x": [
          -0.30345359444618225,
          -0.01991439238190651,
          0.06997371464967728,
          0.1399068981409073,
          0.13455374538898468,
          0.15361087024211884,
          0.19163216650485992,
          0.18145522475242615,
          0.21307934820652008,
          0.10092724114656448,
          -0.28064635396003723
         ],
         "y": [
          -0.2319684773683548,
          -0.5295138955116272,
          -0.4770587086677551,
          -0.5203106999397278,
          -0.5184349417686462,
          -0.530543863773346,
          -0.5019007921218872,
          -0.5347090363502502,
          -0.5090986490249634,
          -0.5222886204719543,
          -0.414841890335083
         ]
        },
        {
         "marker": {
          "color": "rgb(0, 255, 145)"
         },
         "mode": "markers+text",
         "name": "chemistry",
         "text": [
          "chemical",
          "oxygen",
          "carbon",
          "dioxide",
          "nitrogen",
          "organic",
          "chemistry"
         ],
         "textposition": "top right",
         "type": "scatter",
         "x": [
          -0.22527553141117096,
          -0.21385569870471954,
          -0.1143505796790123,
          0.1127244234085083,
          0.04963964968919754,
          -0.20538555085659027,
          0.0943634957075119
         ],
         "y": [
          0.09819936752319336,
          0.008245651610195637,
          -0.16038036346435547,
          -0.0010807545622810721,
          0.017595864832401276,
          0.03337634354829788,
          0.24757856130599976
         ]
        },
        {
         "marker": {
          "color": "rgb(0, 145, 255)"
         },
         "mode": "markers+text",
         "name": "sport",
         "text": [
          "sport"
         ],
         "textposition": "top right",
         "type": "scatter",
         "x": [
          0.18598391115665436
         ],
         "y": [
          -0.08541307598352432
         ]
        },
        {
         "marker": {
          "color": "rgb(72, 0, 255)"
         },
         "mode": "markers+text",
         "name": "country",
         "text": [
          "romania",
          "france",
          "germany",
          "england",
          "russia",
          "india",
          "china",
          "spain",
          "country"
         ],
         "textposition": "top right",
         "type": "scatter",
         "x": [
          0.6319261789321899,
          0.5422154664993286,
          0.4893106520175934,
          0.566963791847229,
          0.4778619408607483,
          0.4086872935295105,
          0.38485485315322876,
          0.6060101985931396,
          0.06901264190673828
         ],
         "y": [
          -0.02351541630923748,
          -0.013051423244178295,
          -0.07939817011356354,
          -0.019885368645191193,
          0.00018074651597999036,
          0.013044030405580997,
          -0.006277014035731554,
          -0.04670581966638565,
          -0.108498215675354
         ]
        }
       ],
       "layout": {
        "height": 650,
        "width": 700,
        "xaxis": {
         "range": [
          -1,
          1
         ]
        },
        "yaxis": {
         "range": [
          -1,
          1
         ]
        }
       }
      },
      "text/html": [
       "<div id=\"8b0cba95-cc55-4df3-9c1c-f105c77e440c\" style=\"height: 650px; width: 700px;\" class=\"plotly-graph-div\"></div><script type=\"text/javascript\">require([\"plotly\"], function(Plotly) { window.PLOTLYENV=window.PLOTLYENV || {};window.PLOTLYENV.BASE_URL=\"https://plot.ly\";Plotly.newPlot(\"8b0cba95-cc55-4df3-9c1c-f105c77e440c\", [{\"type\": \"scatter\", \"x\": [0.028816232457756996, 0.5032644271850586, 0.4823351502418518, 0.6195206642150879, 0.5739967823028564, 0.6152129173278809, 0.3879134953022003, 0.3809114396572113, 0.5691429972648621], \"y\": [0.14168356359004974, 0.17998561263084412, 0.26121604442596436, 0.19522272050380707, 0.3641508221626282, 0.11513052135705948, 0.2631327211856842, 0.27527594566345215, 0.28188803791999817], \"text\": [\"obama\", \"roosevelt\", \"clinton\", \"jefferson\", \"kennedy\", \"lincoln\", \"nixon\", \"reagan\", \"president\"], \"textposition\": \"top right\", \"name\": \"president\", \"mode\": \"markers+text\", \"marker\": {\"color\": \"rgb(255, 0, 0)\"}}, {\"type\": \"scatter\", \"x\": [-0.17673829197883606, 0.17780449986457825, -0.22825190424919128, -0.1571255922317505, 0.023854518309235573], \"y\": [0.08120574802160263, -0.15232662856578827, -0.016852961853146553, 0.021608661860227585, 0.19546353816986084], \"text\": [\"geometry\", \"algebra\", \"equation\", \"theorem\", \"mathematics\"], \"textposition\": \"top right\", \"name\": \"mathematics\", \"mode\": \"markers+text\", \"marker\": {\"color\": \"rgb(255, 218, 0)\"}}, {\"type\": \"scatter\", \"x\": [-0.30345359444618225, -0.01991439238190651, 0.06997371464967728, 0.1399068981409073, 0.13455374538898468, 0.15361087024211884, 0.19163216650485992, 0.18145522475242615, 0.21307934820652008, 0.10092724114656448, -0.28064635396003723], \"y\": [-0.2319684773683548, -0.5295138955116272, -0.4770587086677551, -0.5203106999397278, -0.5184349417686462, -0.530543863773346, -0.5019007921218872, -0.5347090363502502, -0.5090986490249634, -0.5222886204719543, -0.414841890335083], \"text\": [\"one\", \"two\", \"three\", \"four\", \"five\", \"six\", \"seven\", \"eight\", \"nine\", \"ten\", \"number\"], \"textposition\": \"top right\", \"name\": \"number\", \"mode\": \"markers+text\", \"marker\": {\"color\": \"rgb(72, 255, 0)\"}}, {\"type\": \"scatter\", \"x\": [-0.22527553141117096, -0.21385569870471954, -0.1143505796790123, 0.1127244234085083, 0.04963964968919754, -0.20538555085659027, 0.0943634957075119], \"y\": [0.09819936752319336, 0.008245651610195637, -0.16038036346435547, -0.0010807545622810721, 0.017595864832401276, 0.03337634354829788, 0.24757856130599976], \"text\": [\"chemical\", \"oxygen\", \"carbon\", \"dioxide\", \"nitrogen\", \"organic\", \"chemistry\"], \"textposition\": \"top right\", \"name\": \"chemistry\", \"mode\": \"markers+text\", \"marker\": {\"color\": \"rgb(0, 255, 145)\"}}, {\"type\": \"scatter\", \"x\": [0.18598391115665436], \"y\": [-0.08541307598352432], \"text\": [\"sport\"], \"textposition\": \"top right\", \"name\": \"sport\", \"mode\": \"markers+text\", \"marker\": {\"color\": \"rgb(0, 145, 255)\"}}, {\"type\": \"scatter\", \"x\": [0.6319261789321899, 0.5422154664993286, 0.4893106520175934, 0.566963791847229, 0.4778619408607483, 0.4086872935295105, 0.38485485315322876, 0.6060101985931396, 0.06901264190673828], \"y\": [-0.02351541630923748, -0.013051423244178295, -0.07939817011356354, -0.019885368645191193, 0.00018074651597999036, 0.013044030405580997, -0.006277014035731554, -0.04670581966638565, -0.108498215675354], \"text\": [\"romania\", \"france\", \"germany\", \"england\", \"russia\", \"india\", \"china\", \"spain\", \"country\"], \"textposition\": \"top right\", \"name\": \"country\", \"mode\": \"markers+text\", \"marker\": {\"color\": \"rgb(72, 0, 255)\"}}], {\"width\": 700, \"height\": 650, \"xaxis\": {\"range\": [-1, 1]}, \"yaxis\": {\"range\": [-1, 1]}}, {\"showLink\": true, \"linkText\": \"Export to plot.ly\"})});</script>"
      ],
      "text/vnd.plotly.v1+html": [
       "<div id=\"8b0cba95-cc55-4df3-9c1c-f105c77e440c\" style=\"height: 650px; width: 700px;\" class=\"plotly-graph-div\"></div><script type=\"text/javascript\">require([\"plotly\"], function(Plotly) { window.PLOTLYENV=window.PLOTLYENV || {};window.PLOTLYENV.BASE_URL=\"https://plot.ly\";Plotly.newPlot(\"8b0cba95-cc55-4df3-9c1c-f105c77e440c\", [{\"type\": \"scatter\", \"x\": [0.028816232457756996, 0.5032644271850586, 0.4823351502418518, 0.6195206642150879, 0.5739967823028564, 0.6152129173278809, 0.3879134953022003, 0.3809114396572113, 0.5691429972648621], \"y\": [0.14168356359004974, 0.17998561263084412, 0.26121604442596436, 0.19522272050380707, 0.3641508221626282, 0.11513052135705948, 0.2631327211856842, 0.27527594566345215, 0.28188803791999817], \"text\": [\"obama\", \"roosevelt\", \"clinton\", \"jefferson\", \"kennedy\", \"lincoln\", \"nixon\", \"reagan\", \"president\"], \"textposition\": \"top right\", \"name\": \"president\", \"mode\": \"markers+text\", \"marker\": {\"color\": \"rgb(255, 0, 0)\"}}, {\"type\": \"scatter\", \"x\": [-0.17673829197883606, 0.17780449986457825, -0.22825190424919128, -0.1571255922317505, 0.023854518309235573], \"y\": [0.08120574802160263, -0.15232662856578827, -0.016852961853146553, 0.021608661860227585, 0.19546353816986084], \"text\": [\"geometry\", \"algebra\", \"equation\", \"theorem\", \"mathematics\"], \"textposition\": \"top right\", \"name\": \"mathematics\", \"mode\": \"markers+text\", \"marker\": {\"color\": \"rgb(255, 218, 0)\"}}, {\"type\": \"scatter\", \"x\": [-0.30345359444618225, -0.01991439238190651, 0.06997371464967728, 0.1399068981409073, 0.13455374538898468, 0.15361087024211884, 0.19163216650485992, 0.18145522475242615, 0.21307934820652008, 0.10092724114656448, -0.28064635396003723], \"y\": [-0.2319684773683548, -0.5295138955116272, -0.4770587086677551, -0.5203106999397278, -0.5184349417686462, -0.530543863773346, -0.5019007921218872, -0.5347090363502502, -0.5090986490249634, -0.5222886204719543, -0.414841890335083], \"text\": [\"one\", \"two\", \"three\", \"four\", \"five\", \"six\", \"seven\", \"eight\", \"nine\", \"ten\", \"number\"], \"textposition\": \"top right\", \"name\": \"number\", \"mode\": \"markers+text\", \"marker\": {\"color\": \"rgb(72, 255, 0)\"}}, {\"type\": \"scatter\", \"x\": [-0.22527553141117096, -0.21385569870471954, -0.1143505796790123, 0.1127244234085083, 0.04963964968919754, -0.20538555085659027, 0.0943634957075119], \"y\": [0.09819936752319336, 0.008245651610195637, -0.16038036346435547, -0.0010807545622810721, 0.017595864832401276, 0.03337634354829788, 0.24757856130599976], \"text\": [\"chemical\", \"oxygen\", \"carbon\", \"dioxide\", \"nitrogen\", \"organic\", \"chemistry\"], \"textposition\": \"top right\", \"name\": \"chemistry\", \"mode\": \"markers+text\", \"marker\": {\"color\": \"rgb(0, 255, 145)\"}}, {\"type\": \"scatter\", \"x\": [0.18598391115665436], \"y\": [-0.08541307598352432], \"text\": [\"sport\"], \"textposition\": \"top right\", \"name\": \"sport\", \"mode\": \"markers+text\", \"marker\": {\"color\": \"rgb(0, 145, 255)\"}}, {\"type\": \"scatter\", \"x\": [0.6319261789321899, 0.5422154664993286, 0.4893106520175934, 0.566963791847229, 0.4778619408607483, 0.4086872935295105, 0.38485485315322876, 0.6060101985931396, 0.06901264190673828], \"y\": [-0.02351541630923748, -0.013051423244178295, -0.07939817011356354, -0.019885368645191193, 0.00018074651597999036, 0.013044030405580997, -0.006277014035731554, -0.04670581966638565, -0.108498215675354], \"text\": [\"romania\", \"france\", \"germany\", \"england\", \"russia\", \"india\", \"china\", \"spain\", \"country\"], \"textposition\": \"top right\", \"name\": \"country\", \"mode\": \"markers+text\", \"marker\": {\"color\": \"rgb(72, 0, 255)\"}}], {\"width\": 700, \"height\": 650, \"xaxis\": {\"range\": [-1, 1]}, \"yaxis\": {\"range\": [-1, 1]}}, {\"showLink\": true, \"linkText\": \"Export to plot.ly\"})});</script>"
      ]
     },
     "metadata": {},
     "output_type": "display_data"
    }
   ],
   "source": [
    "hyp_model = Glove.load(hyp_model_fn_10k[\"dist_sq-scale5\"])\n",
    "hyp_wv = hyp_model.wv\n",
    "offset = None # np.array([0.25, 0])\n",
    "\n",
    "plot_wordnet_embeddings(hyp_model, labeled_word_dict, ratio_words=1,\n",
    "                        left_offset=offset, right_offset=offset, aggregate=\"c\")"
   ]
  },
  {
   "cell_type": "code",
   "execution_count": null,
   "metadata": {},
   "outputs": [],
   "source": []
  }
 ],
 "metadata": {
  "kernelspec": {
   "display_name": "Python 3",
   "language": "python",
   "name": "python3"
  },
  "language_info": {
   "codemirror_mode": {
    "name": "ipython",
    "version": 3
   },
   "file_extension": ".py",
   "mimetype": "text/x-python",
   "name": "python",
   "nbconvert_exporter": "python",
   "pygments_lexer": "ipython3",
   "version": "3.6.4"
  }
 },
 "nbformat": 4,
 "nbformat_minor": 2
}
